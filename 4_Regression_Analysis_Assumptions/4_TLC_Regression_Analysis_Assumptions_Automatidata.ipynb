{
 "cells": [
  {
   "cell_type": "markdown",
   "metadata": {
    "id": "DtNBZFHO3M7n"
   },
   "source": [
    "# **Automatidata project**\n",
    "**Course 5 - Regression Analysis: Simplify complex data relationships**"
   ]
  },
  {
   "cell_type": "markdown",
   "metadata": {
    "id": "kaOj1equPMAb"
   },
   "source": [
    "The data consulting firm Automatidata has recently hired you as the newest member of their data analytics team. Their newest client, the NYC Taxi and Limousine Commission (New York City TLC),**wants the Automatidata team to build a multiple linear regression model to predict taxi fares using existing data that was collected over the course of a year.** The team is getting closer to completing the project, having completed an initial plan of action, initial Python coding work, EDA, and A/B testing.\n",
    "\n",
    "The Automatidata team has reviewed the results of the A/B testing. Now it’s time to work on predicting the taxi fare amounts. You’ve impressed your Automatidata colleagues with your hard work and attention to detail. The data team believes that you are ready to build the regression model and update the client New York City TLC about your progress.\n",
    "\n",
    "A notebook was structured and prepared to help you in this project. Please complete the following questions."
   ]
  },
  {
   "cell_type": "markdown",
   "metadata": {
    "id": "rgSbVJvomcVa"
   },
   "source": [
    "# Course 5 End-of-course project: Build a multiple linear regression model\n",
    "\n",
    "In this activity, you will build a multiple linear regression model. As you've learned, multiple linear regression helps you estimate the linear relationship between one continuous dependent variable and two or more independent variables. For data science professionals, this is a useful skill because it allows you to consider more than one variable against the variable you're measuring against. This opens the door for much more thorough and flexible analysis to be completed. \n",
    "\n",
    "Completing this activity will help you practice planning out and buidling a multiple linear regression model based on a specific business need. The structure of this activity is designed to emulate the proposals you will likely be assigned in your career as a data professional. Completing this activity will help prepare you for those career moments.\n",
    "<br/>\n",
    "\n",
    "**The purpose** of this project is to demostrate knowledge of EDA and a multiple linear regression model\n",
    "\n",
    "**The goal** is to build a multiple linear regression model and evaluate the model\n",
    "<br/>\n",
    "*This activity has three parts:*\n",
    "\n",
    "**Part 1:** EDA & Checking Model Assumptions\n",
    "\n",
    "**What are some purposes of EDA before constructing a multiple linear regression model?**\n",
    "\n",
    "\n",
    "Purposes of EDA before constructing a multiple linear regression model:\n",
    "\n",
    "**Understanding the Data:**\n",
    "\n",
    "Descriptive stats: Explore central tendency, spread, and distribution of variables (mean, median, standard deviation, histograms).\n",
    "Visualizations: Use scatter plots, box plots, etc. to see relationships, patterns, and outliers.\n",
    "\n",
    "**Checking Assumptions:**\n",
    "\n",
    "Linearity: Assess linearity with scatter plots.\n",
    "Normality: Check residual normality with histograms and Q-Q plots.\n",
    "Homoscedasticity: Examine residual plots for constant variance.\n",
    "Multicollinearity: Calculate correlation coefficients and VIFs.\n",
    "\n",
    "**Identifying Issues:**\n",
    "\n",
    "Missing values: Determine extent and type.\n",
    "Outliers: Detect influential outliers.\n",
    "Data errors: Uncover inconsistencies.\n",
    "\n",
    "**Feature Engineering:**\n",
    "\n",
    "Transformations: Identify transformations to improve linearity or normality.\n",
    "Variable creation: Create new, relevant variables.\n",
    "\n",
    "**Gaining Insights:**\n",
    "\n",
    "Relationships: Discover hidden relationships.\n",
    "Hypotheses: Generate testable hypotheses.\n",
    "\n",
    "**Part 2:** Model Building and evaluation\n",
    "\n",
    "**What resources do you find yourself using as you complete this stage?**\n",
    "\n",
    "**1. Data Processing & EDA**\n",
    "\n",
    "NYC TLC Dataset & Data Dictionary – Understanding variables and formats.\n",
    "Pandas, NumPy, Matplotlib, Seaborn – Data cleaning, transformations, and visualization.\n",
    "Scikit-learn Preprocessing – Feature scaling, encoding, and handling multicollinearity.\n",
    "\n",
    "**2. Model Building**\n",
    "\n",
    "Scikit-learn & Statsmodels – Implementing and analyzing the multiple linear regression (MLR) model.\n",
    "Feature Selection Guides – Identifying key predictors.\n",
    "GitHub & Stack Overflow – Troubleshooting and best practices.\n",
    "\n",
    "**3. Model Evaluation**\n",
    "\n",
    "MSE, R², Adjusted R² – Assessing model performance.\n",
    "Residual Analysis, VIF, Durbin-Watson Test – Validating assumptions.\n",
    "\n",
    "**4. Ethical & Business Considerations**\n",
    "\n",
    "Bias Detection – Ensuring fair fare predictions.\n",
    "TLC Stakeholder Guidelines – Aligning with business needs.\n",
    "Data Privacy Regulations – Responsible data handling.\n",
    "\n",
    "**Part 3:** Interpreting Model Results\n",
    "\n",
    "* What key insights emerged from your model(s)?\n",
    "\n",
    "In the execute stage, several key insights emerged from our model:\n",
    "\n",
    "* High Predictive Power:The model achieved an R² of about 0.87 on the test data, meaning it explains 87% of the variance in fare amounts.\n",
    "\n",
    "* Low Prediction Errors:Metrics like MAE, MSE, and RMSE are low, indicating that, on average, the predictions are close to the actual fares.\n",
    "\n",
    "* Key Predictors:The model heavily relies on features such as mean_distance and mean_duration, which are both strongly correlated with fare_amount (and with each other). This confirms that longer and slower trips generally result in higher fares.\n",
    "\n",
    "* Domain Knowledge Integration:Although RatecodeID wasn’t used as a predictor, it was employed in post-processing to set a flat fare of $52 for rides with RatecodeID 2 (JFK trips). This ensures that our model's predictions adhere to known fixed fare rules.\n",
    "\n",
    "* Even Residual Distribution:The residuals (the differences between actual and predicted values) are roughly normally distributed around zero, suggesting the model doesn’t consistently over- or under-predict.\n",
    "\n",
    "These insights show that our model performs robustly on unseen data while effectively incorporating domain-specific adjustments.\n",
    "\n",
    "\n",
    "* What business recommendations do you propose based on the models built?\n",
    "\n",
    "Based on the models built, a few key business recommendations are:\n",
    "\n",
    "* Optimize Pricing & Revenue Forecasting:The model’s high R² (~0.87) and low prediction errors suggest it can reliably forecast taxi fares. This allows for better revenue projections and dynamic pricing strategies.\n",
    "\n",
    "* Enhance Operational Efficiency:Insights from key features like mean_duration and mean_distance indicate that trip length and time are crucial. Companies can use these insights to optimize fleet distribution, plan driver schedules, and manage demand during peak times.\n",
    "\n",
    "* Integrate Domain-Specific Rules:The model adjusts for fixed fares (e.g., $52 for JFK trips via RatecodeID 2). This ensures consistency with industry standards. Incorporating such domain rules helps maintain fairness and regulatory compliance.\n",
    "\n",
    "* Implement a Real-Time Fare Estimation Tool:With robust predictions, a real-time fare estimation system can be developed to inform customers and drivers, leading to increased transparency and improved customer satisfaction.\n",
    "\n",
    "\n",
    "* Monitor and Audit for Anomalies:A model that captures residuals well can also serve as a tool for spotting anomalies in fare patterns. This can help in detecting unusual pricing issues and ensuring quality control.\n",
    "\n",
    "In summary, using the model for fare prediction can drive better pricing, efficient operations, and enhanced customer experience, while also aligning with industry standards through domain-specific adjustments.\n"
   ]
  },
  {
   "cell_type": "markdown",
   "metadata": {
    "id": "7KFOyc3JPSiN"
   },
   "source": [
    "# Build a multiple linear regression model"
   ]
  },
  {
   "cell_type": "markdown",
   "metadata": {
    "id": "3UCHQclzQDUL"
   },
   "source": [
    "<img src=\"images/Pace.png\" width=\"100\" height=\"100\" align=left>\n",
    "\n",
    "# **PACE stages**\n"
   ]
  },
  {
   "cell_type": "markdown",
   "metadata": {},
   "source": [
    "Throughout these project notebooks, you'll see references to the problem-solving framework PACE. The following notebook components are labeled with the respective PACE stage: Plan, Analyze, Construct, and Execute."
   ]
  },
  {
   "cell_type": "markdown",
   "metadata": {
    "id": "F5O5cx_qQJmX"
   },
   "source": [
    "<img src=\"images/Plan.png\" width=\"100\" height=\"100\" align=left>\n",
    "\n",
    "\n",
    "## PACE: **Plan**\n",
    "\n",
    "Consider the questions in your PACE Strategy Document to reflect on the Plan stage.\n"
   ]
  },
  {
   "cell_type": "markdown",
   "metadata": {
    "id": "D8qYlvkLQsf2"
   },
   "source": [
    "### Task 1. Imports and loading\n",
    "Import the packages that you've learned are needed for building linear regression models."
   ]
  },
  {
   "cell_type": "code",
   "execution_count": 1,
   "metadata": {
    "id": "ccfeg6X6eOVZ"
   },
   "outputs": [],
   "source": [
    "# Imports\n",
    "a\n",
    "import pandas as pd\n",
    "import numpy as np\n",
    "\n",
    "# Packages for visualization\n",
    "import matplotlib.pyplot as plt\n",
    "import seaborn as sns\n",
    "\n",
    "# Packages for date conversions for calculating trip durations\n",
    "from datetime import datetime\n",
    "from datetime import date\n",
    "from datetime import timedelta\n",
    "\n",
    "# Packages for OLS, MLR, confusion matrix\n",
    "from sklearn.model_selection import train_test_split\n",
    "from sklearn.linear_model import LinearRegression\n",
    "import sklearn.metrics as metrics # for confusion matrix\n",
    "from sklearn.metrics import mean_absolute_error, r2_score, mean_squared_error\n",
    "from sklearn.preprocessing import StandardScaler\n"
   ]
  },
  {
   "cell_type": "markdown",
   "metadata": {
    "id": "dhSYPrzQ2lpH"
   },
   "source": [
    "**Note:** `Pandas` is used to load the NYC TLC dataset. As shown in this cell, the dataset has been automatically loaded in for you. You do not need to download the .csv file, or provide more code, in order to access the dataset and proceed with this lab. Please continue with this activity by completing the following instructions."
   ]
  },
  {
   "cell_type": "code",
   "execution_count": 2,
   "metadata": {
    "id": "TyR3sBUYJBO8"
   },
   "outputs": [
    {
     "data": {
      "text/html": [
       "<div>\n",
       "<style scoped>\n",
       "    .dataframe tbody tr th:only-of-type {\n",
       "        vertical-align: middle;\n",
       "    }\n",
       "\n",
       "    .dataframe tbody tr th {\n",
       "        vertical-align: top;\n",
       "    }\n",
       "\n",
       "    .dataframe thead th {\n",
       "        text-align: right;\n",
       "    }\n",
       "</style>\n",
       "<table border=\"1\" class=\"dataframe\">\n",
       "  <thead>\n",
       "    <tr style=\"text-align: right;\">\n",
       "      <th></th>\n",
       "      <th>Unnamed: 0</th>\n",
       "      <th>VendorID</th>\n",
       "      <th>tpep_pickup_datetime</th>\n",
       "      <th>tpep_dropoff_datetime</th>\n",
       "      <th>passenger_count</th>\n",
       "      <th>trip_distance</th>\n",
       "      <th>RatecodeID</th>\n",
       "      <th>store_and_fwd_flag</th>\n",
       "      <th>PULocationID</th>\n",
       "      <th>DOLocationID</th>\n",
       "      <th>payment_type</th>\n",
       "      <th>fare_amount</th>\n",
       "      <th>extra</th>\n",
       "      <th>mta_tax</th>\n",
       "      <th>tip_amount</th>\n",
       "      <th>tolls_amount</th>\n",
       "      <th>improvement_surcharge</th>\n",
       "      <th>total_amount</th>\n",
       "    </tr>\n",
       "  </thead>\n",
       "  <tbody>\n",
       "    <tr>\n",
       "      <th>0</th>\n",
       "      <td>24870114</td>\n",
       "      <td>2</td>\n",
       "      <td>03/25/2017 8:55:43 AM</td>\n",
       "      <td>03/25/2017 9:09:47 AM</td>\n",
       "      <td>6</td>\n",
       "      <td>3.34</td>\n",
       "      <td>1</td>\n",
       "      <td>N</td>\n",
       "      <td>100</td>\n",
       "      <td>231</td>\n",
       "      <td>1</td>\n",
       "      <td>13.0</td>\n",
       "      <td>0.0</td>\n",
       "      <td>0.5</td>\n",
       "      <td>2.76</td>\n",
       "      <td>0.0</td>\n",
       "      <td>0.3</td>\n",
       "      <td>16.56</td>\n",
       "    </tr>\n",
       "    <tr>\n",
       "      <th>1</th>\n",
       "      <td>35634249</td>\n",
       "      <td>1</td>\n",
       "      <td>04/11/2017 2:53:28 PM</td>\n",
       "      <td>04/11/2017 3:19:58 PM</td>\n",
       "      <td>1</td>\n",
       "      <td>1.80</td>\n",
       "      <td>1</td>\n",
       "      <td>N</td>\n",
       "      <td>186</td>\n",
       "      <td>43</td>\n",
       "      <td>1</td>\n",
       "      <td>16.0</td>\n",
       "      <td>0.0</td>\n",
       "      <td>0.5</td>\n",
       "      <td>4.00</td>\n",
       "      <td>0.0</td>\n",
       "      <td>0.3</td>\n",
       "      <td>20.80</td>\n",
       "    </tr>\n",
       "    <tr>\n",
       "      <th>2</th>\n",
       "      <td>106203690</td>\n",
       "      <td>1</td>\n",
       "      <td>12/15/2017 7:26:56 AM</td>\n",
       "      <td>12/15/2017 7:34:08 AM</td>\n",
       "      <td>1</td>\n",
       "      <td>1.00</td>\n",
       "      <td>1</td>\n",
       "      <td>N</td>\n",
       "      <td>262</td>\n",
       "      <td>236</td>\n",
       "      <td>1</td>\n",
       "      <td>6.5</td>\n",
       "      <td>0.0</td>\n",
       "      <td>0.5</td>\n",
       "      <td>1.45</td>\n",
       "      <td>0.0</td>\n",
       "      <td>0.3</td>\n",
       "      <td>8.75</td>\n",
       "    </tr>\n",
       "    <tr>\n",
       "      <th>3</th>\n",
       "      <td>38942136</td>\n",
       "      <td>2</td>\n",
       "      <td>05/07/2017 1:17:59 PM</td>\n",
       "      <td>05/07/2017 1:48:14 PM</td>\n",
       "      <td>1</td>\n",
       "      <td>3.70</td>\n",
       "      <td>1</td>\n",
       "      <td>N</td>\n",
       "      <td>188</td>\n",
       "      <td>97</td>\n",
       "      <td>1</td>\n",
       "      <td>20.5</td>\n",
       "      <td>0.0</td>\n",
       "      <td>0.5</td>\n",
       "      <td>6.39</td>\n",
       "      <td>0.0</td>\n",
       "      <td>0.3</td>\n",
       "      <td>27.69</td>\n",
       "    </tr>\n",
       "    <tr>\n",
       "      <th>4</th>\n",
       "      <td>30841670</td>\n",
       "      <td>2</td>\n",
       "      <td>04/15/2017 11:32:20 PM</td>\n",
       "      <td>04/15/2017 11:49:03 PM</td>\n",
       "      <td>1</td>\n",
       "      <td>4.37</td>\n",
       "      <td>1</td>\n",
       "      <td>N</td>\n",
       "      <td>4</td>\n",
       "      <td>112</td>\n",
       "      <td>2</td>\n",
       "      <td>16.5</td>\n",
       "      <td>0.5</td>\n",
       "      <td>0.5</td>\n",
       "      <td>0.00</td>\n",
       "      <td>0.0</td>\n",
       "      <td>0.3</td>\n",
       "      <td>17.80</td>\n",
       "    </tr>\n",
       "  </tbody>\n",
       "</table>\n",
       "</div>"
      ],
      "text/plain": [
       "   Unnamed: 0  VendorID    tpep_pickup_datetime   tpep_dropoff_datetime  \\\n",
       "0    24870114         2   03/25/2017 8:55:43 AM   03/25/2017 9:09:47 AM   \n",
       "1    35634249         1   04/11/2017 2:53:28 PM   04/11/2017 3:19:58 PM   \n",
       "2   106203690         1   12/15/2017 7:26:56 AM   12/15/2017 7:34:08 AM   \n",
       "3    38942136         2   05/07/2017 1:17:59 PM   05/07/2017 1:48:14 PM   \n",
       "4    30841670         2  04/15/2017 11:32:20 PM  04/15/2017 11:49:03 PM   \n",
       "\n",
       "   passenger_count  trip_distance  RatecodeID store_and_fwd_flag  \\\n",
       "0                6           3.34           1                  N   \n",
       "1                1           1.80           1                  N   \n",
       "2                1           1.00           1                  N   \n",
       "3                1           3.70           1                  N   \n",
       "4                1           4.37           1                  N   \n",
       "\n",
       "   PULocationID  DOLocationID  payment_type  fare_amount  extra  mta_tax  \\\n",
       "0           100           231             1         13.0    0.0      0.5   \n",
       "1           186            43             1         16.0    0.0      0.5   \n",
       "2           262           236             1          6.5    0.0      0.5   \n",
       "3           188            97             1         20.5    0.0      0.5   \n",
       "4             4           112             2         16.5    0.5      0.5   \n",
       "\n",
       "   tip_amount  tolls_amount  improvement_surcharge  total_amount  \n",
       "0        2.76           0.0                    0.3         16.56  \n",
       "1        4.00           0.0                    0.3         20.80  \n",
       "2        1.45           0.0                    0.3          8.75  \n",
       "3        6.39           0.0                    0.3         27.69  \n",
       "4        0.00           0.0                    0.3         17.80  "
      ]
     },
     "execution_count": 2,
     "metadata": {},
     "output_type": "execute_result"
    }
   ],
   "source": [
    "# Load dataset into dataframe \n",
    "df0=pd.read_csv(\"2017_Yellow_Taxi_Trip_Data.csv\") \n",
    "\n",
    "df0.head(5)"
   ]
  },
  {
   "cell_type": "markdown",
   "metadata": {
    "id": "OnrvCSfHUWPv"
   },
   "source": [
    "<img src=\"images/Analyze.png\" width=\"100\" height=\"100\" align=left>\n",
    "\n",
    "## PACE: **Analyze**\n",
    "\n",
    "In this stage, consider the following question where applicable to complete your code response:\n",
    "\n",
    "* What are some purposes of EDA before constructing a multiple linear regression model?\n"
   ]
  },
  {
   "cell_type": "markdown",
   "metadata": {},
   "source": [
    "**Understanding the Data:**\n",
    "\n",
    "Descriptive statistics: Get a sense of the central tendency, spread, and distribution of your variables (e.g., mean, median, standard deviation, histograms).   \n",
    "Visualizations: Use scatter plots, box plots, and other visualizations to see relationships between variables, identify patterns, and detect outliers.   \n",
    "\n",
    "**Checking Assumptions:**\n",
    "\n",
    "Linearity: Assess the linearity of the relationship between the dependent and independent variables using scatter plots.   \n",
    "Normality: Check the normality of the residuals using histograms and Q-Q plots.   \n",
    "Homoscedasticity: Examine residual plots for constant variance.   \n",
    "Multicollinearity: Calculate correlation coefficients and VIFs to detect multicollinearity.   \n",
    "\n",
    "**Identifying Potential Issues:**\n",
    "\n",
    "Missing values: Determine the extent and nature of missing data.   \n",
    "Outliers: Detect outliers that could unduly influence the model.   \n",
    "Data errors: Uncover inconsistencies or errors in the data.   \n",
    "\n",
    "**Feature Engineering:**\n",
    "\n",
    "Variable creation: Create new variables or interaction terms that might be more relevant for the model.\n",
    "\n",
    "**Gaining Insights:**\n",
    "\n",
    "Relationships: Discover relationships and patterns that might not be obvious from the raw data.   \n",
    "Hypotheses: Generate hypotheses about the relationships between variables that can be tested with the regression model.   \n"
   ]
  },
  {
   "cell_type": "markdown",
   "metadata": {
    "id": "rIcDG2e66wt9"
   },
   "source": [
    "### Task 2a. Explore data with EDA\n",
    "\n",
    "Analyze and discover data, looking for correlations, missing data, outliers, and duplicates."
   ]
  },
  {
   "cell_type": "markdown",
   "metadata": {
    "id": "CLpoUCz1277k"
   },
   "source": [
    "Start with `.shape` and `.info()`."
   ]
  },
  {
   "cell_type": "code",
   "execution_count": 3,
   "metadata": {
    "id": "T4Ag-sZhWg6K"
   },
   "outputs": [
    {
     "name": "stdout",
     "output_type": "stream",
     "text": [
      "(22699, 18)\n",
      "<class 'pandas.core.frame.DataFrame'>\n",
      "RangeIndex: 22699 entries, 0 to 22698\n",
      "Data columns (total 18 columns):\n",
      " #   Column                 Non-Null Count  Dtype  \n",
      "---  ------                 --------------  -----  \n",
      " 0   Unnamed: 0             22699 non-null  int64  \n",
      " 1   VendorID               22699 non-null  int64  \n",
      " 2   tpep_pickup_datetime   22699 non-null  object \n",
      " 3   tpep_dropoff_datetime  22699 non-null  object \n",
      " 4   passenger_count        22699 non-null  int64  \n",
      " 5   trip_distance          22699 non-null  float64\n",
      " 6   RatecodeID             22699 non-null  int64  \n",
      " 7   store_and_fwd_flag     22699 non-null  object \n",
      " 8   PULocationID           22699 non-null  int64  \n",
      " 9   DOLocationID           22699 non-null  int64  \n",
      " 10  payment_type           22699 non-null  int64  \n",
      " 11  fare_amount            22699 non-null  float64\n",
      " 12  extra                  22699 non-null  float64\n",
      " 13  mta_tax                22699 non-null  float64\n",
      " 14  tip_amount             22699 non-null  float64\n",
      " 15  tolls_amount           22699 non-null  float64\n",
      " 16  improvement_surcharge  22699 non-null  float64\n",
      " 17  total_amount           22699 non-null  float64\n",
      "dtypes: float64(8), int64(7), object(3)\n",
      "memory usage: 3.1+ MB\n",
      "None\n"
     ]
    }
   ],
   "source": [
    "# Start with `.shape` and `.info()`\n",
    "\n",
    "# Can revert `df` to `df0` if needed down the line\n",
    "df = df0.copy()\n",
    "\n",
    "# Display the dataset's shape\n",
    "print(df.shape)\n",
    "\n",
    "# Display basic info about the dataset\n",
    "print(df.info())\n",
    "\n"
   ]
  },
  {
   "cell_type": "markdown",
   "metadata": {},
   "source": [
    "* The dataset has no missing values, with 22,699 non-null entries for each column. \n",
    "* It contains a mix of data types: \n",
    "  * integers  (e.g., VendorID, passenger_count), \n",
    "  * floats (e.g., fare_amount, trip_distance), \n",
    "  * objects for datetime and flag columns (tpep_pickup_datetime, store_and_fwd_flag).\n",
    "\n",
    "* The Unnamed: 0 column  represents an index and can be removed. \n",
    "* The columns tpep_pickup_datetime and tpep_dropoff_datetime are treated as objects and should be converted to datetime format for easier manipulation. \n",
    "* The store_and_fwd_flag column can be converted to a categorical type . This conversion can help with tasks like one-hot encoding when preparing the data for machine learning models."
   ]
  },
  {
   "cell_type": "markdown",
   "metadata": {
    "id": "SWLHv_h_3Hcf"
   },
   "source": [
    "Check for missing data and duplicates using `.isna()` and `.drop_duplicates()`."
   ]
  },
  {
   "cell_type": "code",
   "execution_count": 4,
   "metadata": {
    "id": "3QZZIxxi3OV3"
   },
   "outputs": [
    {
     "name": "stdout",
     "output_type": "stream",
     "text": [
      "Unnamed: 0               0\n",
      "VendorID                 0\n",
      "tpep_pickup_datetime     0\n",
      "tpep_dropoff_datetime    0\n",
      "passenger_count          0\n",
      "trip_distance            0\n",
      "RatecodeID               0\n",
      "store_and_fwd_flag       0\n",
      "PULocationID             0\n",
      "DOLocationID             0\n",
      "payment_type             0\n",
      "fare_amount              0\n",
      "extra                    0\n",
      "mta_tax                  0\n",
      "tip_amount               0\n",
      "tolls_amount             0\n",
      "improvement_surcharge    0\n",
      "total_amount             0\n",
      "dtype: int64\n",
      "Total count of missing values: 0\n",
      "Shape of dataframe: (22699, 18)\n",
      "Shape of dataframe with duplicates dropped: (22699, 18)\n"
     ]
    }
   ],
   "source": [
    "# Check for missing data and duplicates using .isna() and .drop_duplicates()\n",
    "\n",
    "# missing values\n",
    "print(df.isna().sum())\n",
    "print('Total count of missing values:', df.isna().sum().sum())\n",
    "\n",
    "# dropping duplicate, shape\n",
    "print('Shape of dataframe:', df.shape)\n",
    "print('Shape of dataframe with duplicates dropped:', df.drop_duplicates().shape)\n"
   ]
  },
  {
   "cell_type": "markdown",
   "metadata": {},
   "source": [
    "**No Missing Values**\n",
    "\n",
    "The dataset has no missing values (every column has 0 missing entries).\n",
    "\n",
    "This means we do not need to handle missing data through imputation.\n",
    "\n",
    "**No Duplicate Rows**\n",
    "\n",
    "The shape of the dataframe before and after dropping duplicates is the same ((22699, 18)), meaning there are no duplicate rows in the dataset.\n",
    "\n",
    "This ensures that each taxi trip record is unique.\n",
    "\n",
    "**Dataset is Clean & Ready for Analysis**\n",
    "Since there are no missing values and no duplicates, the dataset is already well-prepared for further analysis, feature engineering, and modeling.\n",
    "\n",
    "We can proceed directly to exploratory data analysis (EDA) and regression modeling without needing data cleaning steps like imputation or duplicate removal.\n"
   ]
  },
  {
   "cell_type": "markdown",
   "metadata": {
    "id": "WXWAlPTY9iLK"
   },
   "source": [
    "Use `.describe()`."
   ]
  },
  {
   "cell_type": "code",
   "execution_count": 5,
   "metadata": {
    "id": "2O3b9H9B9nwk"
   },
   "outputs": [
    {
     "data": {
      "text/html": [
       "<div>\n",
       "<style scoped>\n",
       "    .dataframe tbody tr th:only-of-type {\n",
       "        vertical-align: middle;\n",
       "    }\n",
       "\n",
       "    .dataframe tbody tr th {\n",
       "        vertical-align: top;\n",
       "    }\n",
       "\n",
       "    .dataframe thead th {\n",
       "        text-align: right;\n",
       "    }\n",
       "</style>\n",
       "<table border=\"1\" class=\"dataframe\">\n",
       "  <thead>\n",
       "    <tr style=\"text-align: right;\">\n",
       "      <th></th>\n",
       "      <th>Unnamed: 0</th>\n",
       "      <th>VendorID</th>\n",
       "      <th>passenger_count</th>\n",
       "      <th>trip_distance</th>\n",
       "      <th>RatecodeID</th>\n",
       "      <th>PULocationID</th>\n",
       "      <th>DOLocationID</th>\n",
       "      <th>payment_type</th>\n",
       "      <th>fare_amount</th>\n",
       "      <th>extra</th>\n",
       "      <th>mta_tax</th>\n",
       "      <th>tip_amount</th>\n",
       "      <th>tolls_amount</th>\n",
       "      <th>improvement_surcharge</th>\n",
       "      <th>total_amount</th>\n",
       "    </tr>\n",
       "  </thead>\n",
       "  <tbody>\n",
       "    <tr>\n",
       "      <th>count</th>\n",
       "      <td>2.269900e+04</td>\n",
       "      <td>22699.000000</td>\n",
       "      <td>22699.000000</td>\n",
       "      <td>22699.000000</td>\n",
       "      <td>22699.000000</td>\n",
       "      <td>22699.000000</td>\n",
       "      <td>22699.000000</td>\n",
       "      <td>22699.000000</td>\n",
       "      <td>22699.000000</td>\n",
       "      <td>22699.000000</td>\n",
       "      <td>22699.000000</td>\n",
       "      <td>22699.000000</td>\n",
       "      <td>22699.000000</td>\n",
       "      <td>22699.000000</td>\n",
       "      <td>22699.000000</td>\n",
       "    </tr>\n",
       "    <tr>\n",
       "      <th>mean</th>\n",
       "      <td>5.675849e+07</td>\n",
       "      <td>1.556236</td>\n",
       "      <td>1.642319</td>\n",
       "      <td>2.913313</td>\n",
       "      <td>1.043394</td>\n",
       "      <td>162.412353</td>\n",
       "      <td>161.527997</td>\n",
       "      <td>1.336887</td>\n",
       "      <td>13.026629</td>\n",
       "      <td>0.333275</td>\n",
       "      <td>0.497445</td>\n",
       "      <td>1.835781</td>\n",
       "      <td>0.312542</td>\n",
       "      <td>0.299551</td>\n",
       "      <td>16.310502</td>\n",
       "    </tr>\n",
       "    <tr>\n",
       "      <th>std</th>\n",
       "      <td>3.274493e+07</td>\n",
       "      <td>0.496838</td>\n",
       "      <td>1.285231</td>\n",
       "      <td>3.653171</td>\n",
       "      <td>0.708391</td>\n",
       "      <td>66.633373</td>\n",
       "      <td>70.139691</td>\n",
       "      <td>0.496211</td>\n",
       "      <td>13.243791</td>\n",
       "      <td>0.463097</td>\n",
       "      <td>0.039465</td>\n",
       "      <td>2.800626</td>\n",
       "      <td>1.399212</td>\n",
       "      <td>0.015673</td>\n",
       "      <td>16.097295</td>\n",
       "    </tr>\n",
       "    <tr>\n",
       "      <th>min</th>\n",
       "      <td>1.212700e+04</td>\n",
       "      <td>1.000000</td>\n",
       "      <td>0.000000</td>\n",
       "      <td>0.000000</td>\n",
       "      <td>1.000000</td>\n",
       "      <td>1.000000</td>\n",
       "      <td>1.000000</td>\n",
       "      <td>1.000000</td>\n",
       "      <td>-120.000000</td>\n",
       "      <td>-1.000000</td>\n",
       "      <td>-0.500000</td>\n",
       "      <td>0.000000</td>\n",
       "      <td>0.000000</td>\n",
       "      <td>-0.300000</td>\n",
       "      <td>-120.300000</td>\n",
       "    </tr>\n",
       "    <tr>\n",
       "      <th>25%</th>\n",
       "      <td>2.852056e+07</td>\n",
       "      <td>1.000000</td>\n",
       "      <td>1.000000</td>\n",
       "      <td>0.990000</td>\n",
       "      <td>1.000000</td>\n",
       "      <td>114.000000</td>\n",
       "      <td>112.000000</td>\n",
       "      <td>1.000000</td>\n",
       "      <td>6.500000</td>\n",
       "      <td>0.000000</td>\n",
       "      <td>0.500000</td>\n",
       "      <td>0.000000</td>\n",
       "      <td>0.000000</td>\n",
       "      <td>0.300000</td>\n",
       "      <td>8.750000</td>\n",
       "    </tr>\n",
       "    <tr>\n",
       "      <th>50%</th>\n",
       "      <td>5.673150e+07</td>\n",
       "      <td>2.000000</td>\n",
       "      <td>1.000000</td>\n",
       "      <td>1.610000</td>\n",
       "      <td>1.000000</td>\n",
       "      <td>162.000000</td>\n",
       "      <td>162.000000</td>\n",
       "      <td>1.000000</td>\n",
       "      <td>9.500000</td>\n",
       "      <td>0.000000</td>\n",
       "      <td>0.500000</td>\n",
       "      <td>1.350000</td>\n",
       "      <td>0.000000</td>\n",
       "      <td>0.300000</td>\n",
       "      <td>11.800000</td>\n",
       "    </tr>\n",
       "    <tr>\n",
       "      <th>75%</th>\n",
       "      <td>8.537452e+07</td>\n",
       "      <td>2.000000</td>\n",
       "      <td>2.000000</td>\n",
       "      <td>3.060000</td>\n",
       "      <td>1.000000</td>\n",
       "      <td>233.000000</td>\n",
       "      <td>233.000000</td>\n",
       "      <td>2.000000</td>\n",
       "      <td>14.500000</td>\n",
       "      <td>0.500000</td>\n",
       "      <td>0.500000</td>\n",
       "      <td>2.450000</td>\n",
       "      <td>0.000000</td>\n",
       "      <td>0.300000</td>\n",
       "      <td>17.800000</td>\n",
       "    </tr>\n",
       "    <tr>\n",
       "      <th>max</th>\n",
       "      <td>1.134863e+08</td>\n",
       "      <td>2.000000</td>\n",
       "      <td>6.000000</td>\n",
       "      <td>33.960000</td>\n",
       "      <td>99.000000</td>\n",
       "      <td>265.000000</td>\n",
       "      <td>265.000000</td>\n",
       "      <td>4.000000</td>\n",
       "      <td>999.990000</td>\n",
       "      <td>4.500000</td>\n",
       "      <td>0.500000</td>\n",
       "      <td>200.000000</td>\n",
       "      <td>19.100000</td>\n",
       "      <td>0.300000</td>\n",
       "      <td>1200.290000</td>\n",
       "    </tr>\n",
       "  </tbody>\n",
       "</table>\n",
       "</div>"
      ],
      "text/plain": [
       "         Unnamed: 0      VendorID  passenger_count  trip_distance  \\\n",
       "count  2.269900e+04  22699.000000     22699.000000   22699.000000   \n",
       "mean   5.675849e+07      1.556236         1.642319       2.913313   \n",
       "std    3.274493e+07      0.496838         1.285231       3.653171   \n",
       "min    1.212700e+04      1.000000         0.000000       0.000000   \n",
       "25%    2.852056e+07      1.000000         1.000000       0.990000   \n",
       "50%    5.673150e+07      2.000000         1.000000       1.610000   \n",
       "75%    8.537452e+07      2.000000         2.000000       3.060000   \n",
       "max    1.134863e+08      2.000000         6.000000      33.960000   \n",
       "\n",
       "         RatecodeID  PULocationID  DOLocationID  payment_type   fare_amount  \\\n",
       "count  22699.000000  22699.000000  22699.000000  22699.000000  22699.000000   \n",
       "mean       1.043394    162.412353    161.527997      1.336887     13.026629   \n",
       "std        0.708391     66.633373     70.139691      0.496211     13.243791   \n",
       "min        1.000000      1.000000      1.000000      1.000000   -120.000000   \n",
       "25%        1.000000    114.000000    112.000000      1.000000      6.500000   \n",
       "50%        1.000000    162.000000    162.000000      1.000000      9.500000   \n",
       "75%        1.000000    233.000000    233.000000      2.000000     14.500000   \n",
       "max       99.000000    265.000000    265.000000      4.000000    999.990000   \n",
       "\n",
       "              extra       mta_tax    tip_amount  tolls_amount  \\\n",
       "count  22699.000000  22699.000000  22699.000000  22699.000000   \n",
       "mean       0.333275      0.497445      1.835781      0.312542   \n",
       "std        0.463097      0.039465      2.800626      1.399212   \n",
       "min       -1.000000     -0.500000      0.000000      0.000000   \n",
       "25%        0.000000      0.500000      0.000000      0.000000   \n",
       "50%        0.000000      0.500000      1.350000      0.000000   \n",
       "75%        0.500000      0.500000      2.450000      0.000000   \n",
       "max        4.500000      0.500000    200.000000     19.100000   \n",
       "\n",
       "       improvement_surcharge  total_amount  \n",
       "count           22699.000000  22699.000000  \n",
       "mean                0.299551     16.310502  \n",
       "std                 0.015673     16.097295  \n",
       "min                -0.300000   -120.300000  \n",
       "25%                 0.300000      8.750000  \n",
       "50%                 0.300000     11.800000  \n",
       "75%                 0.300000     17.800000  \n",
       "max                 0.300000   1200.290000  "
      ]
     },
     "execution_count": 5,
     "metadata": {},
     "output_type": "execute_result"
    }
   ],
   "source": [
    "# Use .describe()\n",
    "df.describe()\n"
   ]
  },
  {
   "cell_type": "code",
   "execution_count": 6,
   "metadata": {},
   "outputs": [
    {
     "name": "stdout",
     "output_type": "stream",
     "text": [
      ",Unnamed: 0,VendorID,passenger_count,trip_distance,RatecodeID,PULocationID,DOLocationID,payment_type,fare_amount,extra,mta_tax,tip_amount,tolls_amount,improvement_surcharge,total_amount\n",
      "count,22699.0,22699.0,22699.0,22699.0,22699.0,22699.0,22699.0,22699.0,22699.0,22699.0,22699.0,22699.0,22699.0,22699.0,22699.0\n",
      "mean,56758486.17128508,1.5562359575311688,1.6423190448918454,2.9133129212740796,1.0433939821137495,162.41235296709107,161.52799682805409,1.336887087536896,13.026629366932465,0.33327459359443146,0.4974448213577691,1.8357813119520605,0.3125415216529417,0.29955064099751805,16.31050222476416\n",
      "std,32744929.49214842,0.49683839619950737,1.2852311189940473,3.6531711828338906,0.7083908849941992,66.63337338646765,70.13969073441449,0.4962110576796442,13.243790516711957,0.46309657874841936,0.03946498733150259,2.8006262722637487,1.3992119315578602,0.015672737641520575,16.097295300636688\n",
      "min,12127.0,1.0,0.0,0.0,1.0,1.0,1.0,1.0,-120.0,-1.0,-0.5,0.0,0.0,-0.3,-120.3\n",
      "25%,28520556.0,1.0,1.0,0.99,1.0,114.0,112.0,1.0,6.5,0.0,0.5,0.0,0.0,0.3,8.75\n",
      "50%,56731504.0,2.0,1.0,1.61,1.0,162.0,162.0,1.0,9.5,0.0,0.5,1.35,0.0,0.3,11.8\n",
      "75%,85374524.0,2.0,2.0,3.06,1.0,233.0,233.0,2.0,14.5,0.5,0.5,2.45,0.0,0.3,17.8\n",
      "max,113486300.0,2.0,6.0,33.96,99.0,265.0,265.0,4.0,999.99,4.5,0.5,200.0,19.1,0.3,1200.29\n",
      "\n"
     ]
    }
   ],
   "source": [
    "print(df.describe().to_csv()) "
   ]
  },
  {
   "cell_type": "markdown",
   "metadata": {},
   "source": [
    "**Key Observations:**\n",
    "\n",
    "**Outliers:**\n",
    "\n",
    "Tip Amount (200) and Total Amount (1,200) are significant outliers. These may require further investigation, as they could represent rare events or errors.\n",
    "\n",
    "**Near-Constant Variables:**\n",
    "\n",
    "mta_tax and improvement_surcharge show minimal variability, suggesting they may not be useful for predictive modeling and could be excluded.\n",
    "\n",
    "\n",
    "**Min/Max Values:**\n",
    "\n",
    "Fare Amount has negative values (-$120) and very high values ($999.99), indicating possible data entry errors \n",
    "\n",
    "Trip Distance includes 0 values, possibly due to failed or canceled trips.\n",
    "\n",
    "**Percentiles:**\n",
    "\n",
    "Most fare_amount values are relatively low, with the 25th percentile at $6.5 and the 50th percentile (median) at $9.5.\n",
    "\n",
    "The 75th percentile is 14.5, indicating that 75 percentage of the fare amounts are below this value, with a few higher fares pushing it up.\n",
    "\n",
    "**Next Steps:**\n",
    "\n",
    "Handle Outliers: Review the extreme values for accuracy.\n",
    "\n",
    "Drop Low-Variance Features: Consider excluding mta_tax and improvement_surcharge.\n",
    "\n",
    "Clean Data: Correct or filter out negative and zero values in fare_amount and trip_distance.\n"
   ]
  },
  {
   "cell_type": "markdown",
   "metadata": {
    "id": "iXhaBfP_WOSR"
   },
   "source": [
    "### Task 2b. Convert pickup & dropoff columns to datetime\n"
   ]
  },
  {
   "cell_type": "code",
   "execution_count": 7,
   "metadata": {
    "id": "TbHu-SSInJCX"
   },
   "outputs": [
    {
     "data": {
      "text/plain": [
       "'03/25/2017 8:55:43 AM'"
      ]
     },
     "execution_count": 7,
     "metadata": {},
     "output_type": "execute_result"
    }
   ],
   "source": [
    "# Check the format of tpep_pickup_datetime\n",
    "df[\"tpep_pickup_datetime\"][0]\n"
   ]
  },
  {
   "cell_type": "code",
   "execution_count": 8,
   "metadata": {
    "id": "h5L6OdYPqV0N"
   },
   "outputs": [
    {
     "name": "stdout",
     "output_type": "stream",
     "text": [
      "Data type of tpep_pickup_datetime: object\n",
      "Data type of tpep_dropoff_datetime: object\n",
      "Data type of tpep_pickup_datetime: datetime64[ns]\n",
      "Data type of tpep_dropoff_datetime: datetime64[ns]\n"
     ]
    },
    {
     "data": {
      "text/html": [
       "<div>\n",
       "<style scoped>\n",
       "    .dataframe tbody tr th:only-of-type {\n",
       "        vertical-align: middle;\n",
       "    }\n",
       "\n",
       "    .dataframe tbody tr th {\n",
       "        vertical-align: top;\n",
       "    }\n",
       "\n",
       "    .dataframe thead th {\n",
       "        text-align: right;\n",
       "    }\n",
       "</style>\n",
       "<table border=\"1\" class=\"dataframe\">\n",
       "  <thead>\n",
       "    <tr style=\"text-align: right;\">\n",
       "      <th></th>\n",
       "      <th>Unnamed: 0</th>\n",
       "      <th>VendorID</th>\n",
       "      <th>tpep_pickup_datetime</th>\n",
       "      <th>tpep_dropoff_datetime</th>\n",
       "      <th>passenger_count</th>\n",
       "      <th>trip_distance</th>\n",
       "      <th>RatecodeID</th>\n",
       "      <th>store_and_fwd_flag</th>\n",
       "      <th>PULocationID</th>\n",
       "      <th>DOLocationID</th>\n",
       "      <th>payment_type</th>\n",
       "      <th>fare_amount</th>\n",
       "      <th>extra</th>\n",
       "      <th>mta_tax</th>\n",
       "      <th>tip_amount</th>\n",
       "      <th>tolls_amount</th>\n",
       "      <th>improvement_surcharge</th>\n",
       "      <th>total_amount</th>\n",
       "    </tr>\n",
       "  </thead>\n",
       "  <tbody>\n",
       "    <tr>\n",
       "      <th>0</th>\n",
       "      <td>24870114</td>\n",
       "      <td>2</td>\n",
       "      <td>2017-03-25 08:55:43</td>\n",
       "      <td>2017-03-25 09:09:47</td>\n",
       "      <td>6</td>\n",
       "      <td>3.34</td>\n",
       "      <td>1</td>\n",
       "      <td>N</td>\n",
       "      <td>100</td>\n",
       "      <td>231</td>\n",
       "      <td>1</td>\n",
       "      <td>13.0</td>\n",
       "      <td>0.0</td>\n",
       "      <td>0.5</td>\n",
       "      <td>2.76</td>\n",
       "      <td>0.0</td>\n",
       "      <td>0.3</td>\n",
       "      <td>16.56</td>\n",
       "    </tr>\n",
       "    <tr>\n",
       "      <th>1</th>\n",
       "      <td>35634249</td>\n",
       "      <td>1</td>\n",
       "      <td>2017-04-11 14:53:28</td>\n",
       "      <td>2017-04-11 15:19:58</td>\n",
       "      <td>1</td>\n",
       "      <td>1.80</td>\n",
       "      <td>1</td>\n",
       "      <td>N</td>\n",
       "      <td>186</td>\n",
       "      <td>43</td>\n",
       "      <td>1</td>\n",
       "      <td>16.0</td>\n",
       "      <td>0.0</td>\n",
       "      <td>0.5</td>\n",
       "      <td>4.00</td>\n",
       "      <td>0.0</td>\n",
       "      <td>0.3</td>\n",
       "      <td>20.80</td>\n",
       "    </tr>\n",
       "    <tr>\n",
       "      <th>2</th>\n",
       "      <td>106203690</td>\n",
       "      <td>1</td>\n",
       "      <td>2017-12-15 07:26:56</td>\n",
       "      <td>2017-12-15 07:34:08</td>\n",
       "      <td>1</td>\n",
       "      <td>1.00</td>\n",
       "      <td>1</td>\n",
       "      <td>N</td>\n",
       "      <td>262</td>\n",
       "      <td>236</td>\n",
       "      <td>1</td>\n",
       "      <td>6.5</td>\n",
       "      <td>0.0</td>\n",
       "      <td>0.5</td>\n",
       "      <td>1.45</td>\n",
       "      <td>0.0</td>\n",
       "      <td>0.3</td>\n",
       "      <td>8.75</td>\n",
       "    </tr>\n",
       "    <tr>\n",
       "      <th>3</th>\n",
       "      <td>38942136</td>\n",
       "      <td>2</td>\n",
       "      <td>2017-05-07 13:17:59</td>\n",
       "      <td>2017-05-07 13:48:14</td>\n",
       "      <td>1</td>\n",
       "      <td>3.70</td>\n",
       "      <td>1</td>\n",
       "      <td>N</td>\n",
       "      <td>188</td>\n",
       "      <td>97</td>\n",
       "      <td>1</td>\n",
       "      <td>20.5</td>\n",
       "      <td>0.0</td>\n",
       "      <td>0.5</td>\n",
       "      <td>6.39</td>\n",
       "      <td>0.0</td>\n",
       "      <td>0.3</td>\n",
       "      <td>27.69</td>\n",
       "    </tr>\n",
       "    <tr>\n",
       "      <th>4</th>\n",
       "      <td>30841670</td>\n",
       "      <td>2</td>\n",
       "      <td>2017-04-15 23:32:20</td>\n",
       "      <td>2017-04-15 23:49:03</td>\n",
       "      <td>1</td>\n",
       "      <td>4.37</td>\n",
       "      <td>1</td>\n",
       "      <td>N</td>\n",
       "      <td>4</td>\n",
       "      <td>112</td>\n",
       "      <td>2</td>\n",
       "      <td>16.5</td>\n",
       "      <td>0.5</td>\n",
       "      <td>0.5</td>\n",
       "      <td>0.00</td>\n",
       "      <td>0.0</td>\n",
       "      <td>0.3</td>\n",
       "      <td>17.80</td>\n",
       "    </tr>\n",
       "  </tbody>\n",
       "</table>\n",
       "</div>"
      ],
      "text/plain": [
       "   Unnamed: 0  VendorID tpep_pickup_datetime tpep_dropoff_datetime  \\\n",
       "0    24870114         2  2017-03-25 08:55:43   2017-03-25 09:09:47   \n",
       "1    35634249         1  2017-04-11 14:53:28   2017-04-11 15:19:58   \n",
       "2   106203690         1  2017-12-15 07:26:56   2017-12-15 07:34:08   \n",
       "3    38942136         2  2017-05-07 13:17:59   2017-05-07 13:48:14   \n",
       "4    30841670         2  2017-04-15 23:32:20   2017-04-15 23:49:03   \n",
       "\n",
       "   passenger_count  trip_distance  RatecodeID store_and_fwd_flag  \\\n",
       "0                6           3.34           1                  N   \n",
       "1                1           1.80           1                  N   \n",
       "2                1           1.00           1                  N   \n",
       "3                1           3.70           1                  N   \n",
       "4                1           4.37           1                  N   \n",
       "\n",
       "   PULocationID  DOLocationID  payment_type  fare_amount  extra  mta_tax  \\\n",
       "0           100           231             1         13.0    0.0      0.5   \n",
       "1           186            43             1         16.0    0.0      0.5   \n",
       "2           262           236             1          6.5    0.0      0.5   \n",
       "3           188            97             1         20.5    0.0      0.5   \n",
       "4             4           112             2         16.5    0.5      0.5   \n",
       "\n",
       "   tip_amount  tolls_amount  improvement_surcharge  total_amount  \n",
       "0        2.76           0.0                    0.3         16.56  \n",
       "1        4.00           0.0                    0.3         20.80  \n",
       "2        1.45           0.0                    0.3          8.75  \n",
       "3        6.39           0.0                    0.3         27.69  \n",
       "4        0.00           0.0                    0.3         17.80  "
      ]
     },
     "execution_count": 8,
     "metadata": {},
     "output_type": "execute_result"
    }
   ],
   "source": [
    "\n",
    "\n",
    "# Display data types of `tpep_pickup_datetime`, `tpep_dropoff_datetime`\n",
    "print(\"Data type of tpep_pickup_datetime:\", df[\"tpep_pickup_datetime\"].dtype)\n",
    "print('Data type of tpep_dropoff_datetime:', df['tpep_dropoff_datetime'].dtype)\n",
    "\n",
    "# Convert  types of `tpep_pickup_datetime`, `tpep_dropoff_datetime` to datetime format\n",
    "df[\"tpep_pickup_datetime\"] = pd.to_datetime(df[\"tpep_pickup_datetime\"],format = '%m/%d/%Y %I:%M:%S %p')\n",
    "df['tpep_dropoff_datetime'] = pd.to_datetime(df['tpep_dropoff_datetime'], format='%m/%d/%Y %I:%M:%S %p')\n",
    "\n",
    "# Display data types of `tpep_pickup_datetime`, `tpep_dropoff_datetime`\n",
    "print(\"Data type of tpep_pickup_datetime:\", df[\"tpep_pickup_datetime\"].dtype)\n",
    "print('Data type of tpep_dropoff_datetime:', df['tpep_dropoff_datetime'].dtype)\n",
    "\n",
    "df.head(5)\n",
    "\n"
   ]
  },
  {
   "cell_type": "markdown",
   "metadata": {
    "id": "KlF7ZNSyW0yV"
   },
   "source": [
    "### Task 2c. Create duration column"
   ]
  },
  {
   "cell_type": "markdown",
   "metadata": {
    "id": "w1v_Y1uunbsx"
   },
   "source": [
    "Create a new column called `duration` that represents the total number of minutes that each taxi ride took."
   ]
  },
  {
   "cell_type": "code",
   "execution_count": 9,
   "metadata": {
    "id": "suC4LJFPMPCo"
   },
   "outputs": [
    {
     "data": {
      "text/plain": [
       "0    14.066667\n",
       "1    26.500000\n",
       "2     7.200000\n",
       "3    30.250000\n",
       "4    16.716667\n",
       "Name: duration, dtype: float64"
      ]
     },
     "execution_count": 9,
     "metadata": {},
     "output_type": "execute_result"
    }
   ],
   "source": [
    "# Create `duration` column AND converts the duration to a numerical value representing the total duration in minutes.\n",
    "#df['tpep_dropoff_datetime'] - df['tpep_pickup_datetime'] calculates the difference between the dropoff and pickup times. \n",
    "# Since both columns are in datetime format, the result of this subtraction is a Timedelta object.\n",
    "# Dividing by np.timedelta64(1, 'm') converts this Timedelta into minutes.\n",
    "\n",
    "df['duration'] = (df['tpep_dropoff_datetime']-df['tpep_pickup_datetime'])/np.timedelta64(1,'m')\n",
    "df['duration'].head(5)"
   ]
  },
  {
   "cell_type": "markdown",
   "metadata": {
    "id": "7dcytBKhiGAr"
   },
   "source": [
    "### Outliers\n",
    "\n",
    "Call `df.info()` to inspect the columns and decide which ones to check for outliers."
   ]
  },
  {
   "cell_type": "code",
   "execution_count": 10,
   "metadata": {
    "id": "W5bCdL5SSfg1"
   },
   "outputs": [
    {
     "name": "stdout",
     "output_type": "stream",
     "text": [
      "<class 'pandas.core.frame.DataFrame'>\n",
      "RangeIndex: 22699 entries, 0 to 22698\n",
      "Data columns (total 19 columns):\n",
      " #   Column                 Non-Null Count  Dtype         \n",
      "---  ------                 --------------  -----         \n",
      " 0   Unnamed: 0             22699 non-null  int64         \n",
      " 1   VendorID               22699 non-null  int64         \n",
      " 2   tpep_pickup_datetime   22699 non-null  datetime64[ns]\n",
      " 3   tpep_dropoff_datetime  22699 non-null  datetime64[ns]\n",
      " 4   passenger_count        22699 non-null  int64         \n",
      " 5   trip_distance          22699 non-null  float64       \n",
      " 6   RatecodeID             22699 non-null  int64         \n",
      " 7   store_and_fwd_flag     22699 non-null  object        \n",
      " 8   PULocationID           22699 non-null  int64         \n",
      " 9   DOLocationID           22699 non-null  int64         \n",
      " 10  payment_type           22699 non-null  int64         \n",
      " 11  fare_amount            22699 non-null  float64       \n",
      " 12  extra                  22699 non-null  float64       \n",
      " 13  mta_tax                22699 non-null  float64       \n",
      " 14  tip_amount             22699 non-null  float64       \n",
      " 15  tolls_amount           22699 non-null  float64       \n",
      " 16  improvement_surcharge  22699 non-null  float64       \n",
      " 17  total_amount           22699 non-null  float64       \n",
      " 18  duration               22699 non-null  float64       \n",
      "dtypes: datetime64[ns](2), float64(9), int64(7), object(1)\n",
      "memory usage: 3.3+ MB\n"
     ]
    },
    {
     "data": {
      "text/html": [
       "<div>\n",
       "<style scoped>\n",
       "    .dataframe tbody tr th:only-of-type {\n",
       "        vertical-align: middle;\n",
       "    }\n",
       "\n",
       "    .dataframe tbody tr th {\n",
       "        vertical-align: top;\n",
       "    }\n",
       "\n",
       "    .dataframe thead th {\n",
       "        text-align: right;\n",
       "    }\n",
       "</style>\n",
       "<table border=\"1\" class=\"dataframe\">\n",
       "  <thead>\n",
       "    <tr style=\"text-align: right;\">\n",
       "      <th></th>\n",
       "      <th>Unnamed: 0</th>\n",
       "      <th>VendorID</th>\n",
       "      <th>passenger_count</th>\n",
       "      <th>trip_distance</th>\n",
       "      <th>RatecodeID</th>\n",
       "      <th>PULocationID</th>\n",
       "      <th>DOLocationID</th>\n",
       "      <th>payment_type</th>\n",
       "      <th>fare_amount</th>\n",
       "      <th>extra</th>\n",
       "      <th>mta_tax</th>\n",
       "      <th>tip_amount</th>\n",
       "      <th>tolls_amount</th>\n",
       "      <th>improvement_surcharge</th>\n",
       "      <th>total_amount</th>\n",
       "      <th>duration</th>\n",
       "    </tr>\n",
       "  </thead>\n",
       "  <tbody>\n",
       "    <tr>\n",
       "      <th>count</th>\n",
       "      <td>2.269900e+04</td>\n",
       "      <td>22699.000000</td>\n",
       "      <td>22699.000000</td>\n",
       "      <td>22699.000000</td>\n",
       "      <td>22699.000000</td>\n",
       "      <td>22699.000000</td>\n",
       "      <td>22699.000000</td>\n",
       "      <td>22699.000000</td>\n",
       "      <td>22699.000000</td>\n",
       "      <td>22699.000000</td>\n",
       "      <td>22699.000000</td>\n",
       "      <td>22699.000000</td>\n",
       "      <td>22699.000000</td>\n",
       "      <td>22699.000000</td>\n",
       "      <td>22699.000000</td>\n",
       "      <td>22699.000000</td>\n",
       "    </tr>\n",
       "    <tr>\n",
       "      <th>mean</th>\n",
       "      <td>5.675849e+07</td>\n",
       "      <td>1.556236</td>\n",
       "      <td>1.642319</td>\n",
       "      <td>2.913313</td>\n",
       "      <td>1.043394</td>\n",
       "      <td>162.412353</td>\n",
       "      <td>161.527997</td>\n",
       "      <td>1.336887</td>\n",
       "      <td>13.026629</td>\n",
       "      <td>0.333275</td>\n",
       "      <td>0.497445</td>\n",
       "      <td>1.835781</td>\n",
       "      <td>0.312542</td>\n",
       "      <td>0.299551</td>\n",
       "      <td>16.310502</td>\n",
       "      <td>17.013777</td>\n",
       "    </tr>\n",
       "    <tr>\n",
       "      <th>std</th>\n",
       "      <td>3.274493e+07</td>\n",
       "      <td>0.496838</td>\n",
       "      <td>1.285231</td>\n",
       "      <td>3.653171</td>\n",
       "      <td>0.708391</td>\n",
       "      <td>66.633373</td>\n",
       "      <td>70.139691</td>\n",
       "      <td>0.496211</td>\n",
       "      <td>13.243791</td>\n",
       "      <td>0.463097</td>\n",
       "      <td>0.039465</td>\n",
       "      <td>2.800626</td>\n",
       "      <td>1.399212</td>\n",
       "      <td>0.015673</td>\n",
       "      <td>16.097295</td>\n",
       "      <td>61.996482</td>\n",
       "    </tr>\n",
       "    <tr>\n",
       "      <th>min</th>\n",
       "      <td>1.212700e+04</td>\n",
       "      <td>1.000000</td>\n",
       "      <td>0.000000</td>\n",
       "      <td>0.000000</td>\n",
       "      <td>1.000000</td>\n",
       "      <td>1.000000</td>\n",
       "      <td>1.000000</td>\n",
       "      <td>1.000000</td>\n",
       "      <td>-120.000000</td>\n",
       "      <td>-1.000000</td>\n",
       "      <td>-0.500000</td>\n",
       "      <td>0.000000</td>\n",
       "      <td>0.000000</td>\n",
       "      <td>-0.300000</td>\n",
       "      <td>-120.300000</td>\n",
       "      <td>-16.983333</td>\n",
       "    </tr>\n",
       "    <tr>\n",
       "      <th>25%</th>\n",
       "      <td>2.852056e+07</td>\n",
       "      <td>1.000000</td>\n",
       "      <td>1.000000</td>\n",
       "      <td>0.990000</td>\n",
       "      <td>1.000000</td>\n",
       "      <td>114.000000</td>\n",
       "      <td>112.000000</td>\n",
       "      <td>1.000000</td>\n",
       "      <td>6.500000</td>\n",
       "      <td>0.000000</td>\n",
       "      <td>0.500000</td>\n",
       "      <td>0.000000</td>\n",
       "      <td>0.000000</td>\n",
       "      <td>0.300000</td>\n",
       "      <td>8.750000</td>\n",
       "      <td>6.650000</td>\n",
       "    </tr>\n",
       "    <tr>\n",
       "      <th>50%</th>\n",
       "      <td>5.673150e+07</td>\n",
       "      <td>2.000000</td>\n",
       "      <td>1.000000</td>\n",
       "      <td>1.610000</td>\n",
       "      <td>1.000000</td>\n",
       "      <td>162.000000</td>\n",
       "      <td>162.000000</td>\n",
       "      <td>1.000000</td>\n",
       "      <td>9.500000</td>\n",
       "      <td>0.000000</td>\n",
       "      <td>0.500000</td>\n",
       "      <td>1.350000</td>\n",
       "      <td>0.000000</td>\n",
       "      <td>0.300000</td>\n",
       "      <td>11.800000</td>\n",
       "      <td>11.183333</td>\n",
       "    </tr>\n",
       "    <tr>\n",
       "      <th>75%</th>\n",
       "      <td>8.537452e+07</td>\n",
       "      <td>2.000000</td>\n",
       "      <td>2.000000</td>\n",
       "      <td>3.060000</td>\n",
       "      <td>1.000000</td>\n",
       "      <td>233.000000</td>\n",
       "      <td>233.000000</td>\n",
       "      <td>2.000000</td>\n",
       "      <td>14.500000</td>\n",
       "      <td>0.500000</td>\n",
       "      <td>0.500000</td>\n",
       "      <td>2.450000</td>\n",
       "      <td>0.000000</td>\n",
       "      <td>0.300000</td>\n",
       "      <td>17.800000</td>\n",
       "      <td>18.383333</td>\n",
       "    </tr>\n",
       "    <tr>\n",
       "      <th>max</th>\n",
       "      <td>1.134863e+08</td>\n",
       "      <td>2.000000</td>\n",
       "      <td>6.000000</td>\n",
       "      <td>33.960000</td>\n",
       "      <td>99.000000</td>\n",
       "      <td>265.000000</td>\n",
       "      <td>265.000000</td>\n",
       "      <td>4.000000</td>\n",
       "      <td>999.990000</td>\n",
       "      <td>4.500000</td>\n",
       "      <td>0.500000</td>\n",
       "      <td>200.000000</td>\n",
       "      <td>19.100000</td>\n",
       "      <td>0.300000</td>\n",
       "      <td>1200.290000</td>\n",
       "      <td>1439.550000</td>\n",
       "    </tr>\n",
       "  </tbody>\n",
       "</table>\n",
       "</div>"
      ],
      "text/plain": [
       "         Unnamed: 0      VendorID  passenger_count  trip_distance  \\\n",
       "count  2.269900e+04  22699.000000     22699.000000   22699.000000   \n",
       "mean   5.675849e+07      1.556236         1.642319       2.913313   \n",
       "std    3.274493e+07      0.496838         1.285231       3.653171   \n",
       "min    1.212700e+04      1.000000         0.000000       0.000000   \n",
       "25%    2.852056e+07      1.000000         1.000000       0.990000   \n",
       "50%    5.673150e+07      2.000000         1.000000       1.610000   \n",
       "75%    8.537452e+07      2.000000         2.000000       3.060000   \n",
       "max    1.134863e+08      2.000000         6.000000      33.960000   \n",
       "\n",
       "         RatecodeID  PULocationID  DOLocationID  payment_type   fare_amount  \\\n",
       "count  22699.000000  22699.000000  22699.000000  22699.000000  22699.000000   \n",
       "mean       1.043394    162.412353    161.527997      1.336887     13.026629   \n",
       "std        0.708391     66.633373     70.139691      0.496211     13.243791   \n",
       "min        1.000000      1.000000      1.000000      1.000000   -120.000000   \n",
       "25%        1.000000    114.000000    112.000000      1.000000      6.500000   \n",
       "50%        1.000000    162.000000    162.000000      1.000000      9.500000   \n",
       "75%        1.000000    233.000000    233.000000      2.000000     14.500000   \n",
       "max       99.000000    265.000000    265.000000      4.000000    999.990000   \n",
       "\n",
       "              extra       mta_tax    tip_amount  tolls_amount  \\\n",
       "count  22699.000000  22699.000000  22699.000000  22699.000000   \n",
       "mean       0.333275      0.497445      1.835781      0.312542   \n",
       "std        0.463097      0.039465      2.800626      1.399212   \n",
       "min       -1.000000     -0.500000      0.000000      0.000000   \n",
       "25%        0.000000      0.500000      0.000000      0.000000   \n",
       "50%        0.000000      0.500000      1.350000      0.000000   \n",
       "75%        0.500000      0.500000      2.450000      0.000000   \n",
       "max        4.500000      0.500000    200.000000     19.100000   \n",
       "\n",
       "       improvement_surcharge  total_amount      duration  \n",
       "count           22699.000000  22699.000000  22699.000000  \n",
       "mean                0.299551     16.310502     17.013777  \n",
       "std                 0.015673     16.097295     61.996482  \n",
       "min                -0.300000   -120.300000    -16.983333  \n",
       "25%                 0.300000      8.750000      6.650000  \n",
       "50%                 0.300000     11.800000     11.183333  \n",
       "75%                 0.300000     17.800000     18.383333  \n",
       "max                 0.300000   1200.290000   1439.550000  "
      ]
     },
     "execution_count": 10,
     "metadata": {},
     "output_type": "execute_result"
    }
   ],
   "source": [
    "### YOUR CODE HERE ###\n",
    "\n",
    "df.info() \n",
    "df.describe()"
   ]
  },
  {
   "cell_type": "code",
   "execution_count": 11,
   "metadata": {},
   "outputs": [
    {
     "name": "stdout",
     "output_type": "stream",
     "text": [
      ",Unnamed: 0,VendorID,passenger_count,trip_distance,RatecodeID,PULocationID,DOLocationID,payment_type,fare_amount,extra,mta_tax,tip_amount,tolls_amount,improvement_surcharge,total_amount,duration\n",
      "count,22699.0,22699.0,22699.0,22699.0,22699.0,22699.0,22699.0,22699.0,22699.0,22699.0,22699.0,22699.0,22699.0,22699.0,22699.0,22699.0\n",
      "mean,56758486.17128508,1.5562359575311688,1.6423190448918454,2.9133129212740796,1.0433939821137495,162.41235296709107,161.52799682805409,1.336887087536896,13.026629366932465,0.33327459359443146,0.4974448213577691,1.8357813119520605,0.3125415216529417,0.29955064099751805,16.31050222476416,17.013776671512638\n",
      "std,32744929.49214842,0.49683839619950737,1.2852311189940473,3.6531711828338906,0.7083908849941992,66.63337338646765,70.13969073441449,0.4962110576796442,13.243790516711957,0.46309657874841936,0.03946498733150259,2.8006262722637487,1.3992119315578602,0.015672737641520575,16.097295300636688,61.99648205511019\n",
      "min,12127.0,1.0,0.0,0.0,1.0,1.0,1.0,1.0,-120.0,-1.0,-0.5,0.0,0.0,-0.3,-120.3,-16.983333333333334\n",
      "25%,28520556.0,1.0,1.0,0.99,1.0,114.0,112.0,1.0,6.5,0.0,0.5,0.0,0.0,0.3,8.75,6.65\n",
      "50%,56731504.0,2.0,1.0,1.61,1.0,162.0,162.0,1.0,9.5,0.0,0.5,1.35,0.0,0.3,11.8,11.183333333333334\n",
      "75%,85374524.0,2.0,2.0,3.06,1.0,233.0,233.0,2.0,14.5,0.5,0.5,2.45,0.0,0.3,17.8,18.383333333333333\n",
      "max,113486300.0,2.0,6.0,33.96,99.0,265.0,265.0,4.0,999.99,4.5,0.5,200.0,19.1,0.3,1200.29,1439.55\n",
      "\n"
     ]
    }
   ],
   "source": [
    "print(df.describe().to_csv()) "
   ]
  },
  {
   "cell_type": "markdown",
   "metadata": {},
   "source": [
    "* The majority of taxi rides have durations between 6.65 minutes and 18.38 minutes, with an average duration of about 17 minutes. However, there are significant outliers (both very short and very long durations) that need further investigation or cleaning. The minimum duration is -16.98 minutes, which is likely an error, and the maximum duration is 1439.55 minutes, which suggests a ride that lasted nearly 24 hours, likely indicating a data issue or an unusual event."
   ]
  },
  {
   "cell_type": "markdown",
   "metadata": {
    "id": "gS7VR2S0izZE"
   },
   "source": [
    "Keeping in mind that many of the features will not be used to fit your model, the most important columns to check for outliers are likely to be:\n",
    "* `trip_distance`\n",
    "* `fare_amount`\n",
    "* `duration`\n",
    "\n"
   ]
  },
  {
   "cell_type": "markdown",
   "metadata": {},
   "source": [
    "**Here are the short comments on the key columns with the minimum, 25th percentile, 50th percentile, 75th percentile, and maximum values:**\n",
    "\n",
    "**trip_distance:**\n",
    "\n",
    "Min: 0.0 miles\n",
    "\n",
    "25th percentile: 0.99 miles\n",
    "\n",
    "50th percentile: 1.61 miles\n",
    "\n",
    "75th percentile: 3.06 miles\n",
    "\n",
    "Max: 33.96 miles\n",
    "\n",
    "* There are trips with very short distances (0 miles) and some exceptionally long trips (up to 33.96 miles) that may require further inspection.\n",
    "\n",
    "**fare_amount:**\n",
    "\n",
    "Min: -$120.0\n",
    "\n",
    "25th percentile: $6.5\n",
    "\n",
    "50th percentile: $9.5\n",
    "\n",
    "75th percentile: $14.5\n",
    "\n",
    "Max: $999.99\n",
    "\n",
    "* Negative fare amounts and unusually high fares are present, which should be checked for errors or outliers.\n",
    "\n",
    "**duration:**\n",
    "\n",
    "Min: -16.98 minutes\n",
    "\n",
    "25th percentile: 6.65 minutes\n",
    "\n",
    "50th percentile: 11.18 minutes\n",
    "\n",
    "75th percentile: 18.38 minutes\n",
    "\n",
    "Max: 1439.55 minutes (24 hours)\n",
    "\n",
    "* Negative duration values and extreme outliers with durations over 24 hours are present and need further investigation."
   ]
  },
  {
   "cell_type": "markdown",
   "metadata": {
    "id": "Vtj4iAJMk9Vc"
   },
   "source": [
    "### Task 2d. Box plots\n",
    "\n",
    "Plot a box plot for each feature: `trip_distance`, `fare_amount`, `duration`."
   ]
  },
  {
   "cell_type": "code",
   "execution_count": 12,
   "metadata": {
    "id": "KCEzE-gwL5gq"
   },
   "outputs": [
    {
     "data": {
      "image/png": "[encoded data removed]",
      "text/plain": [
       "<Figure size 1080x144 with 3 Axes>"
      ]
     },
     "metadata": {
      "needs_background": "light"
     },
     "output_type": "display_data"
    }
   ],
   "source": [
    "fig, axes = plt.subplots(1,3,figsize=(15,2))\n",
    "fig.suptitle('Boxplots for outlier detection')\n",
    "sns.boxplot(ax=axes[0], x= df[\"trip_distance\"])\n",
    "sns.boxplot(ax=axes[1],x=df['fare_amount'])\n",
    "sns.boxplot(ax=axes[2], x=df['duration'])\n",
    "plt.show()\n",
    "\n"
   ]
  },
  {
   "cell_type": "markdown",
   "metadata": {
    "id": "pqcGiHLa4TvP"
   },
   "source": [
    "**Questions:** \n",
    "1. Which variable(s) contains outliers? \n",
    "\n",
    "2. Are the values in the `trip_distance` column unbelievable?\n",
    "\n",
    "3. What about the lower end? Do distances, fares, and durations of 0 (or negative values) make sense?"
   ]
  },
  {
   "cell_type": "markdown",
   "metadata": {
    "id": "FetTHatPoR6n"
   },
   "source": [
    "**The analysis found outliers in three variables: trip_distance, fare_amount, and duration.**\n",
    "\n",
    "**trip_distance:**\n",
    "\n",
    "Outliers: Some trips have very long distances, but these are considered believable. It's possible to have long trips within NYC.\n",
    "\n",
    "Action: We'll leave these values alone, as they likely represent genuine long trips.\n",
    "\n",
    "**fare_amount:**\n",
    "\n",
    "Outliers: Some trips have extremely high fares. While fares can vary, there's a limit to how expensive a taxi ride within NYC is likely to be. Extremely high fares might be due to errors or unusual circumstances.\n",
    "\n",
    "Action: We'll need to investigate these outliers further to understand if they are valid or need adjustment.\n",
    "\n",
    "**duration:**\n",
    "\n",
    "Outliers: Some trips have extremely long durations. Similar to fares, there's a reasonable limit to how long a taxi trip within NYC should take. Extremely long durations might indicate errors or unusual events (e.g., a traffic jam, a detour).\n",
    "\n",
    "Action: We'll need to investigate these outliers to determine if they are valid or need adjustment.\n",
    "\n",
    "**Zero or negative values (all variables):**\n",
    "\n",
    "trip_distance: A trip can't have zero  distance.\n",
    "\n",
    "fare_amount: A taxi ride can't cost zero or negative dollars.\n",
    "\n",
    "duration: A trip can't take zero or negative time.\n",
    "\n",
    "Action: These values are likely errors and need to be addressed (e.g., by removing them or imputing with more reasonable values).\n",
    "\n",
    "\n",
    "**We need to investigate and potentially adjust outliers in fare_amount and duration, as well as any values of 0 or less in all three variables. This will help ensure that our analysis and modeling are based on reliable and accurate data.**"
   ]
  },
  {
   "cell_type": "markdown",
   "metadata": {},
   "source": [
    "### Task 2e. Imputations"
   ]
  },
  {
   "cell_type": "markdown",
   "metadata": {},
   "source": [
    "#### `trip_distance` outliers\n",
    "\n",
    "You know from the summary statistics that there are trip distances of 0. Are these reflective of erroneous data, or are they very short trips that get rounded down?\n",
    "\n",
    "To check, sort the column values, eliminate duplicates, and inspect the least 10 values. Are they rounded values or precise values?"
   ]
  },
  {
   "cell_type": "code",
   "execution_count": 13,
   "metadata": {},
   "outputs": [
    {
     "data": {
      "text/plain": [
       "[0.0, 0.01, 0.02, 0.03, 0.04, 0.05, 0.06, 0.07, 0.08, 0.09]"
      ]
     },
     "execution_count": 13,
     "metadata": {},
     "output_type": "execute_result"
    }
   ],
   "source": [
    "# Are trip distances of 0 bad data or very short trips rounded down?\n",
    "\n",
    "sorted(set(df['trip_distance']))[:10]"
   ]
  },
  {
   "cell_type": "markdown",
   "metadata": {},
   "source": [
    "The distances are captured with a high degree of precision. However, it might be possible for trips to have distances of zero if a passenger summoned a taxi and then changed their mind. Besides, are there enough zero values in the data to pose a problem?\n",
    "\n",
    "Calculate the count of rides where the `trip_distance` is zero."
   ]
  },
  {
   "cell_type": "code",
   "execution_count": 14,
   "metadata": {},
   "outputs": [
    {
     "data": {
      "text/plain": [
       "148"
      ]
     },
     "execution_count": 14,
     "metadata": {},
     "output_type": "execute_result"
    }
   ],
   "source": [
    "sum(df['trip_distance']==0)"
   ]
  },
  {
   "cell_type": "markdown",
   "metadata": {},
   "source": [
    "*  The 148 trips with a trip_distance of 0 are relatively insignificant compared to the total number of trips (~23,000). While we could impute these values with a small positive value like 0.01, it's unlikely to have a major impact on the model's performance. Therefore, the decision is to leave the trip_distance column as is and not make any adjustments for these outliers."
   ]
  },
  {
   "cell_type": "markdown",
   "metadata": {},
   "source": [
    "#### `fare_amount` outliers"
   ]
  },
  {
   "cell_type": "code",
   "execution_count": 15,
   "metadata": {},
   "outputs": [
    {
     "data": {
      "text/plain": [
       "count    22699.000000\n",
       "mean        13.026629\n",
       "std         13.243791\n",
       "min       -120.000000\n",
       "25%          6.500000\n",
       "50%          9.500000\n",
       "75%         14.500000\n",
       "max        999.990000\n",
       "Name: fare_amount, dtype: float64"
      ]
     },
     "execution_count": 15,
     "metadata": {},
     "output_type": "execute_result"
    }
   ],
   "source": [
    "### YOUR CODE HERE ###\n",
    "df['fare_amount'].describe()"
   ]
  },
  {
   "cell_type": "markdown",
   "metadata": {},
   "source": [
    "**Question:** What do you notice about the values in the `fare_amount` column?\n"
   ]
  },
  {
   "cell_type": "markdown",
   "metadata": {},
   "source": [
    "**There are a few key observations about the fare_amount column:**\n",
    "\n",
    "* Negative Fare (-120.00) , This is unrealistic and likely an error or incorrect data entry.\n",
    "* Values of zero could be legitimate if the taxi logged a trip that was immediately canceled.\n",
    "* Extremely High Fare (999.99) , This may be an outlier and should be checked.\n",
    "* High Standard Deviation (13.24) , Indicates significant variation in fare amounts.\n",
    "* The large gap between the mean (13.03) and max (999.99) suggests potential outliers.\n",
    "* The Interquartile Range (IQR) for fare_amount is 8, calculated as Q3 - Q1. Using the standard method (Q3 + 1.5 * IQR), the upper limit for outliers is 26.50.  However, this seems too low for realistic taxi fares. So, we adjust the factor from 1.5 to 6, resulting in an upper limit of 62.50, which is a more reasonable cap for fare amounts, preventing unrealistic fares like $999.99.\n",
    "\n",
    "**Impute values less than $0 with 0.**\n"
   ]
  },
  {
   "cell_type": "code",
   "execution_count": 16,
   "metadata": {},
   "outputs": [
    {
     "data": {
      "text/plain": [
       "0.0"
      ]
     },
     "execution_count": 16,
     "metadata": {},
     "output_type": "execute_result"
    }
   ],
   "source": [
    "# Impute values less than $0 with 0\n",
    "df.loc[df['fare_amount']<0, 'fare_amount']=0\n",
    "df['fare_amount'].min()\n",
    "       "
   ]
  },
  {
   "cell_type": "markdown",
   "metadata": {},
   "source": [
    "**Now impute the maximum value as `Q3 + (6 * IQR)`.**"
   ]
  },
  {
   "cell_type": "code",
   "execution_count": 17,
   "metadata": {},
   "outputs": [],
   "source": [
    "# This function imputes outlier values in the specified columns of the DataFrame based on the Interquartile Range (IQR).\n",
    "# It first handles negative values by setting them to zero,\n",
    "# then calculates the upper threshold for outliers using a customizable IQR factor.\n",
    "# Any value above this threshold is replaced by the threshold value.\n",
    "# The function works on each column in the provided list and updates the DataFrame in place.\n",
    "\n",
    "#Function to handle outliers in specified columns.\n",
    "def outlier_imputer(column_list, iqr_factor):   \n",
    "    '''\n",
    "    Impute upper-limit values in specified columns based on their interquartile range.\n",
    "\n",
    "    Arguments:\n",
    "        column_list: A list of columns to iterate over\n",
    "        iqr_factor: A number representing x in the formula:\n",
    "                    Q3 + (x * IQR). Used to determine maximum threshold,\n",
    "                    beyond which a point is considered an outlier.\n",
    "\n",
    "    The IQR is computed for each column in column_list and values exceeding\n",
    "    the upper threshold for each column are imputed with the upper threshold value.\n",
    "    '''\n",
    "    \n",
    "    \n",
    "    \n",
    "    # Loop through the columns in the list\n",
    "    for col in column_list:\n",
    "        \n",
    "            # Reassign minimum to zero\n",
    "            df.loc[df[col] < 0, col] = 0\n",
    "            \n",
    "         \n",
    "            # Calculate the first (Q1) and third (Q3) quartiles\n",
    "            q1 = df[col].quantile(0.25)\n",
    "            q3 = df[col].quantile(0.75)\n",
    "            \n",
    "            # Calculate the Interquartile Range (IQR)\n",
    "            iqr = q3-q1\n",
    "            \n",
    "            # Calculate the upper threshold for outliers based on the IQR and the adjustment factor\n",
    "            upper_threshold = q3+ (iqr_factor*iqr)\n",
    "            \n",
    "            # Print the column name, Q3, and the calculated upper threshold\n",
    "            print(col)\n",
    "            print('q3:', q3)\n",
    "            print('upper_threshold:', upper_threshold)\n",
    "      \n",
    "           \n",
    "            # Reassign values greater than the upper threshold to the upper threshold value\n",
    "            df.loc[df[col]>upper_threshold, col] = upper_threshold\n",
    "            # Print the summary statistics of the column after adjustments\n",
    "            print(df[col].describe()) \n",
    "            print() # Add a blank line for better readability\n",
    "            \n",
    "    "
   ]
  },
  {
   "cell_type": "code",
   "execution_count": 18,
   "metadata": {},
   "outputs": [
    {
     "name": "stdout",
     "output_type": "stream",
     "text": [
      "fare_amount\n",
      "q3: 14.5\n",
      "upper_threshold: 62.5\n",
      "count    22699.000000\n",
      "mean        12.897913\n",
      "std         10.541137\n",
      "min          0.000000\n",
      "25%          6.500000\n",
      "50%          9.500000\n",
      "75%         14.500000\n",
      "max         62.500000\n",
      "Name: fare_amount, dtype: float64\n",
      "\n"
     ]
    }
   ],
   "source": [
    "outlier_imputer(['fare_amount'], 6)"
   ]
  },
  {
   "cell_type": "markdown",
   "metadata": {},
   "source": [
    "#### `duration` outliers\n"
   ]
  },
  {
   "cell_type": "code",
   "execution_count": 19,
   "metadata": {},
   "outputs": [
    {
     "data": {
      "text/plain": [
       "count    22699.000000\n",
       "mean        17.013777\n",
       "std         61.996482\n",
       "min        -16.983333\n",
       "25%          6.650000\n",
       "50%         11.183333\n",
       "75%         18.383333\n",
       "max       1439.550000\n",
       "Name: duration, dtype: float64"
      ]
     },
     "execution_count": 19,
     "metadata": {},
     "output_type": "execute_result"
    }
   ],
   "source": [
    "# Call .describe() for duration outliers\n",
    "df['duration'].describe()"
   ]
  },
  {
   "cell_type": "markdown",
   "metadata": {},
   "source": [
    "The `duration` column has problematic values at both the lower and upper extremities.\n",
    "\n",
    "* **Low values:** There should be no values that represent negative time. Impute all negative durations with `0`.\n",
    "\n",
    "* **High values:** Impute high values the same way you imputed the high-end outliers for fares: `Q3 + (6 * IQR)`."
   ]
  },
  {
   "cell_type": "code",
   "execution_count": 20,
   "metadata": {},
   "outputs": [
    {
     "data": {
      "text/plain": [
       "0.0"
      ]
     },
     "execution_count": 20,
     "metadata": {},
     "output_type": "execute_result"
    }
   ],
   "source": [
    "# Impute a 0 for any negative values\n",
    "df.loc[df['duration']<0 , 'duration'] = 0\n",
    "df['duration'].min()"
   ]
  },
  {
   "cell_type": "code",
   "execution_count": 21,
   "metadata": {},
   "outputs": [
    {
     "name": "stdout",
     "output_type": "stream",
     "text": [
      "duration\n",
      "q3: 18.383333333333333\n",
      "upper_threshold: 88.78333333333333\n",
      "count    22699.000000\n",
      "mean        14.460555\n",
      "std         11.947043\n",
      "min          0.000000\n",
      "25%          6.650000\n",
      "50%         11.183333\n",
      "75%         18.383333\n",
      "max         88.783333\n",
      "Name: duration, dtype: float64\n",
      "\n"
     ]
    }
   ],
   "source": [
    "# Impute the high outliers\n",
    "outlier_imputer(['duration'], 6)"
   ]
  },
  {
   "cell_type": "markdown",
   "metadata": {},
   "source": [
    "### Task 3a. Feature engineering"
   ]
  },
  {
   "cell_type": "markdown",
   "metadata": {},
   "source": [
    "#### Create `mean_distance` column\n",
    "\n",
    "When deployed, the model will not know the duration of a trip until after the trip occurs, so you cannot train a model that uses this feature. However, you can use the statistics of trips you *do* know to generalize about ones you do not know.\n",
    "\n",
    "In this step, create a column called `mean_distance` that captures the mean distance for each group of trips that share pickup and dropoff points.\n",
    "\n",
    "For example, if your data were:\n",
    "\n",
    "|Trip|Start|End|Distance|\n",
    "|--: |:---:|:-:|    |\n",
    "| 1  | A   | B | 1  |\n",
    "| 2  | C   | D | 2  |\n",
    "| 3  | A   | B |1.5 |\n",
    "| 4  | D   | C | 3  |\n",
    "\n",
    "The results should be:\n",
    "```\n",
    "A -> B: 1.25 miles\n",
    "C -> D: 2 miles\n",
    "D -> C: 3 miles\n",
    "```\n",
    "\n",
    "Notice that C -> D is not the same as D -> C. All trips that share a unique pair of start and end points get grouped and averaged.\n",
    "\n",
    "Then, a new column `mean_distance` will be added where the value at each row is the average for all trips with those pickup and dropoff locations:\n",
    "\n",
    "|Trip|Start|End|Distance|mean_distance|\n",
    "|--: |:---:|:-:|  :--   |:--   |\n",
    "| 1  | A   | B | 1      | 1.25 |\n",
    "| 2  | C   | D | 2      | 2    |\n",
    "| 3  | A   | B |1.5     | 1.25 |\n",
    "| 4  | D   | C | 3      | 3    |\n",
    "\n",
    "\n",
    "Begin by creating a helper column called `pickup_dropoff`, which contains the unique combination of pickup and dropoff location IDs for each row.\n",
    "\n",
    "One way to do this is to convert the pickup and dropoff location IDs to strings and join them, separated by a space. The space is to ensure that, for example, a trip with pickup/dropoff points of 12 & 151 gets encoded differently than a trip with points 121 & 51.\n",
    "\n",
    "So, the new column would look like this:\n",
    "\n",
    "|Trip|Start|End|pickup_dropoff|\n",
    "|--: |:---:|:-:|  :--         |\n",
    "| 1  | A   | B | 'A B'        |\n",
    "| 2  | C   | D | 'C D'        |\n",
    "| 3  | A   | B | 'A B'        |\n",
    "| 4  | D   | C | 'D C'        |\n"
   ]
  },
  {
   "cell_type": "code",
   "execution_count": 22,
   "metadata": {},
   "outputs": [
    {
     "data": {
      "text/plain": [
       "0    100 231\n",
       "1     186 43\n",
       "2    262 236\n",
       "3     188 97\n",
       "4      4 112\n",
       "Name: pickup_dropoff, dtype: object"
      ]
     },
     "execution_count": 22,
     "metadata": {},
     "output_type": "execute_result"
    }
   ],
   "source": [
    "# Create `pickup_dropoff` column\n",
    "df['pickup_dropoff'] =df['PULocationID'].astype(str) +\" \"+df['DOLocationID'].astype(str)\n",
    "df['pickup_dropoff'].head()"
   ]
  },
  {
   "cell_type": "markdown",
   "metadata": {},
   "source": [
    "Now, use a `groupby()` statement to group each row by the new `pickup_dropoff` column, compute the mean, and capture the values only in the `trip_distance` column. Assign the results to a variable named `grouped`."
   ]
  },
  {
   "cell_type": "code",
   "execution_count": 23,
   "metadata": {},
   "outputs": [
    {
     "data": {
      "text/html": [
       "<div>\n",
       "<style scoped>\n",
       "    .dataframe tbody tr th:only-of-type {\n",
       "        vertical-align: middle;\n",
       "    }\n",
       "\n",
       "    .dataframe tbody tr th {\n",
       "        vertical-align: top;\n",
       "    }\n",
       "\n",
       "    .dataframe thead th {\n",
       "        text-align: right;\n",
       "    }\n",
       "</style>\n",
       "<table border=\"1\" class=\"dataframe\">\n",
       "  <thead>\n",
       "    <tr style=\"text-align: right;\">\n",
       "      <th></th>\n",
       "      <th>trip_distance</th>\n",
       "    </tr>\n",
       "    <tr>\n",
       "      <th>pickup_dropoff</th>\n",
       "      <th></th>\n",
       "    </tr>\n",
       "  </thead>\n",
       "  <tbody>\n",
       "    <tr>\n",
       "      <th>1 1</th>\n",
       "      <td>2.433333</td>\n",
       "    </tr>\n",
       "    <tr>\n",
       "      <th>10 148</th>\n",
       "      <td>15.700000</td>\n",
       "    </tr>\n",
       "    <tr>\n",
       "      <th>100 1</th>\n",
       "      <td>16.890000</td>\n",
       "    </tr>\n",
       "    <tr>\n",
       "      <th>100 100</th>\n",
       "      <td>0.253333</td>\n",
       "    </tr>\n",
       "    <tr>\n",
       "      <th>100 107</th>\n",
       "      <td>1.180000</td>\n",
       "    </tr>\n",
       "  </tbody>\n",
       "</table>\n",
       "</div>"
      ],
      "text/plain": [
       "                trip_distance\n",
       "pickup_dropoff               \n",
       "1 1                  2.433333\n",
       "10 148              15.700000\n",
       "100 1               16.890000\n",
       "100 100              0.253333\n",
       "100 107              1.180000"
      ]
     },
     "execution_count": 23,
     "metadata": {},
     "output_type": "execute_result"
    }
   ],
   "source": [
    "grouped = df.groupby('pickup_dropoff').mean(numeric_only=True)[['trip_distance']]\n",
    "grouped.head(5)"
   ]
  },
  {
   "cell_type": "markdown",
   "metadata": {},
   "source": [
    "`grouped` is an object of the `DataFrame` class.\n",
    "\n",
    "1. Convert it to a dictionary using the [`to_dict()`](https://pandas.pydata.org/docs/reference/api/pandas.DataFrame.to_dict.html) method. Assign the results to a variable called `grouped_dict`. This will result in a dictionary with a key of `trip_distance` whose values are another dictionary. The inner dictionary's keys are pickup/dropoff points and its values are mean distances. This is the information you want.\n",
    "\n",
    "```\n",
    "Example:\n",
    "grouped_dict = {'trip_distance': {'A B': 1.25, 'C D': 2, 'D C': 3}\n",
    "```\n",
    "\n",
    "2. Reassign the `grouped_dict` dictionary so it contains only the inner dictionary. In other words, get rid of `trip_distance` as a key, so:\n",
    "\n",
    "```\n",
    "Example:\n",
    "grouped_dict = {'A B': 1.25, 'C D': 2, 'D C': 3}\n",
    " ```"
   ]
  },
  {
   "cell_type": "code",
   "execution_count": 24,
   "metadata": {},
   "outputs": [],
   "source": [
    "# 1. Convert `grouped` to a dictionary\n",
    "grouped_dict = grouped.to_dict()\n",
    "\n",
    "# 2. Reassign to only contain the inner dictionary\n",
    "grouped_dict = grouped_dict['trip_distance']"
   ]
  },
  {
   "cell_type": "markdown",
   "metadata": {},
   "source": [
    "1. Create a `mean_distance` column that is a copy of the `pickup_dropoff` helper column.\n",
    "\n",
    "2. Use the [`map()`](https://pandas.pydata.org/docs/reference/api/pandas.Series.map.html#pandas-series-map) method on the `mean_distance` series. Pass `grouped_dict` as its argument. Reassign the result back to the `mean_distance` series.\n",
    "</br></br>\n",
    "When you pass a dictionary to the `Series.map()` method, it will replace the data in the series where that data matches the dictionary's keys. The values that get imputed are the values of the dictionary.\n",
    "\n",
    "```\n",
    "Example:\n",
    "df['mean_distance']\n",
    "```\n",
    "\n",
    "|mean_distance |\n",
    "|  :-:         |\n",
    "| 'A B'        |\n",
    "| 'C D'        |\n",
    "| 'A B'        |\n",
    "| 'D C'        |\n",
    "| 'E F'        |\n",
    "\n",
    "```\n",
    "grouped_dict = {'A B': 1.25, 'C D': 2, 'D C': 3}\n",
    "df['mean_distance`] = df['mean_distance'].map(grouped_dict)\n",
    "df['mean_distance']\n",
    "```\n",
    "\n",
    "|mean_distance |\n",
    "|  :-:         |\n",
    "| 1.25         |\n",
    "| 2            |\n",
    "| 1.25         |\n",
    "| 3            |\n",
    "| NaN          |\n",
    "\n",
    "When used this way, the `map()` `Series` method is very similar to `replace()`, however, note that `map()` will impute `NaN` for any values in the series that do not have a corresponding key in the mapping dictionary, so be careful."
   ]
  },
  {
   "cell_type": "code",
   "execution_count": 25,
   "metadata": {},
   "outputs": [
    {
     "data": {
      "text/html": [
       "<div>\n",
       "<style scoped>\n",
       "    .dataframe tbody tr th:only-of-type {\n",
       "        vertical-align: middle;\n",
       "    }\n",
       "\n",
       "    .dataframe tbody tr th {\n",
       "        vertical-align: top;\n",
       "    }\n",
       "\n",
       "    .dataframe thead th {\n",
       "        text-align: right;\n",
       "    }\n",
       "</style>\n",
       "<table border=\"1\" class=\"dataframe\">\n",
       "  <thead>\n",
       "    <tr style=\"text-align: right;\">\n",
       "      <th></th>\n",
       "      <th>mean_distance</th>\n",
       "    </tr>\n",
       "  </thead>\n",
       "  <tbody>\n",
       "    <tr>\n",
       "      <th>0</th>\n",
       "      <td>3.521667</td>\n",
       "    </tr>\n",
       "    <tr>\n",
       "      <th>4909</th>\n",
       "      <td>3.521667</td>\n",
       "    </tr>\n",
       "    <tr>\n",
       "      <th>16636</th>\n",
       "      <td>3.521667</td>\n",
       "    </tr>\n",
       "    <tr>\n",
       "      <th>18134</th>\n",
       "      <td>3.521667</td>\n",
       "    </tr>\n",
       "    <tr>\n",
       "      <th>19761</th>\n",
       "      <td>3.521667</td>\n",
       "    </tr>\n",
       "    <tr>\n",
       "      <th>20581</th>\n",
       "      <td>3.521667</td>\n",
       "    </tr>\n",
       "  </tbody>\n",
       "</table>\n",
       "</div>"
      ],
      "text/plain": [
       "       mean_distance\n",
       "0           3.521667\n",
       "4909        3.521667\n",
       "16636       3.521667\n",
       "18134       3.521667\n",
       "19761       3.521667\n",
       "20581       3.521667"
      ]
     },
     "execution_count": 25,
     "metadata": {},
     "output_type": "execute_result"
    }
   ],
   "source": [
    "# 1. Create a mean_distance column that is a copy of the pickup_dropoff helper column\n",
    "df['mean_distance'] = df['pickup_dropoff']\n",
    "\n",
    "# 2. Map `grouped_dict` to the `mean_distance` column\n",
    "df['mean_distance'] = df['mean_distance'].map(grouped_dict)\n",
    "\n",
    "# Confirm that it worked\n",
    "df[(df['PULocationID']==100) & (df['DOLocationID']==231)][['mean_distance']]\n"
   ]
  },
  {
   "cell_type": "markdown",
   "metadata": {},
   "source": [
    "#### Create `mean_duration` column\n",
    "\n",
    "Repeat the process used to create the `mean_distance` column to create a `mean_duration` column."
   ]
  },
  {
   "cell_type": "code",
   "execution_count": 26,
   "metadata": {},
   "outputs": [
    {
     "data": {
      "text/html": [
       "<div>\n",
       "<style scoped>\n",
       "    .dataframe tbody tr th:only-of-type {\n",
       "        vertical-align: middle;\n",
       "    }\n",
       "\n",
       "    .dataframe tbody tr th {\n",
       "        vertical-align: top;\n",
       "    }\n",
       "\n",
       "    .dataframe thead th {\n",
       "        text-align: right;\n",
       "    }\n",
       "</style>\n",
       "<table border=\"1\" class=\"dataframe\">\n",
       "  <thead>\n",
       "    <tr style=\"text-align: right;\">\n",
       "      <th></th>\n",
       "      <th>mean_duration</th>\n",
       "    </tr>\n",
       "  </thead>\n",
       "  <tbody>\n",
       "    <tr>\n",
       "      <th>0</th>\n",
       "      <td>22.847222</td>\n",
       "    </tr>\n",
       "    <tr>\n",
       "      <th>4909</th>\n",
       "      <td>22.847222</td>\n",
       "    </tr>\n",
       "    <tr>\n",
       "      <th>16636</th>\n",
       "      <td>22.847222</td>\n",
       "    </tr>\n",
       "    <tr>\n",
       "      <th>18134</th>\n",
       "      <td>22.847222</td>\n",
       "    </tr>\n",
       "    <tr>\n",
       "      <th>19761</th>\n",
       "      <td>22.847222</td>\n",
       "    </tr>\n",
       "    <tr>\n",
       "      <th>20581</th>\n",
       "      <td>22.847222</td>\n",
       "    </tr>\n",
       "  </tbody>\n",
       "</table>\n",
       "</div>"
      ],
      "text/plain": [
       "       mean_duration\n",
       "0          22.847222\n",
       "4909       22.847222\n",
       "16636      22.847222\n",
       "18134      22.847222\n",
       "19761      22.847222\n",
       "20581      22.847222"
      ]
     },
     "execution_count": 26,
     "metadata": {},
     "output_type": "execute_result"
    }
   ],
   "source": [
    "# Step 1: Group the dataframe by the 'pickup_dropoff' column and calculate the mean duration for each group\n",
    "grouped = df.groupby('pickup_dropoff').mean(numeric_only=True)[['duration']]\n",
    "\n",
    "# Step 2: Convert the grouped DataFrame into a dictionary\n",
    "# The keys of the dictionary will be 'pickup_dropoff' combinations, \n",
    "# and the values will be the corresponding mean 'duration' values for those combinations.\n",
    "grouped_dict = grouped.to_dict()\n",
    "\n",
    "# Step 3: Extract the 'duration' column from the dictionary\n",
    "# The outer key is 'duration', so we access it to get the actual dictionary that contains the mean durations for each pickup_dropoff pair.\n",
    "grouped_dict = grouped_dict['duration']\n",
    "\n",
    "# Step 4: Create a new column 'mean_duration' in the original dataframe \n",
    "# This column will initially be a copy of the 'pickup_dropoff' column\n",
    "df['mean_duration'] = df['pickup_dropoff']\n",
    "\n",
    "# Step 5: Use the map() method to replace the 'pickup_dropoff' values with the corresponding mean duration values\n",
    "# The map() method will look up the value for each 'pickup_dropoff' pair from the 'grouped_dict' dictionary and assign it to the 'mean_duration' column.\n",
    "df['mean_duration'] = df['mean_duration'].map(grouped_dict)\n",
    "\n",
    "# Step 6: Confirm that the mapping worked correctly by checking the mean_duration for a specific pair of pickup and dropoff locations\n",
    "# In this case, we are checking for rows where PULocationID is 100 and DOLocationID is 231.\n",
    "df[(df['PULocationID'] == 100) & (df['DOLocationID'] == 231)][['mean_duration']]"
   ]
  },
  {
   "cell_type": "markdown",
   "metadata": {},
   "source": [
    "#### Create `day` and `month` columns\n",
    "\n",
    "Create two new columns, `day` (name of day) and `month` (name of month) by extracting the relevant information from the `tpep_pickup_datetime` column."
   ]
  },
  {
   "cell_type": "code",
   "execution_count": 27,
   "metadata": {},
   "outputs": [],
   "source": [
    "# Create 'day' col\n",
    "df['day'] = df['tpep_pickup_datetime'].dt.day_name().str.lower()\n",
    "\n",
    "# Create 'month' col\n",
    "df['month']= df['tpep_pickup_datetime'].dt.strftime('%b').str.lower()"
   ]
  },
  {
   "cell_type": "markdown",
   "metadata": {},
   "source": [
    "#### Create `rush_hour` column\n",
    "\n",
    "Define rush hour as:\n",
    "* Any weekday (not Saturday or Sunday) AND\n",
    "* Either from 06:00&ndash;10:00 or from 16:00&ndash;20:00\n",
    "\n",
    "Create a binary `rush_hour` column that contains a 1 if the ride was during rush hour and a 0 if it was not."
   ]
  },
  {
   "cell_type": "code",
   "execution_count": 28,
   "metadata": {},
   "outputs": [],
   "source": [
    "# Create 'rush_hour' col\n",
    "df['rush_hour'] = df['tpep_pickup_datetime'].dt.hour\n",
    "\n",
    "# If day is Saturday or Sunday, impute 0 in `rush_hour` column\n",
    "df.loc[df['day'].isin(['saturday', 'sunday']), 'rush_hour'] = 0"
   ]
  },
  {
   "cell_type": "code",
   "execution_count": 29,
   "metadata": {},
   "outputs": [],
   "source": [
    "def rush_hourizer(hour):\n",
    "    if 6 <= hour['rush_hour'] < 10:\n",
    "        val = 1\n",
    "    elif 16 <= hour['rush_hour'] < 20:\n",
    "        val = 1\n",
    "    else:\n",
    "        val = 0\n",
    "    return val  "
   ]
  },
  {
   "cell_type": "code",
   "execution_count": 30,
   "metadata": {},
   "outputs": [
    {
     "data": {
      "text/html": [
       "<div>\n",
       "<style scoped>\n",
       "    .dataframe tbody tr th:only-of-type {\n",
       "        vertical-align: middle;\n",
       "    }\n",
       "\n",
       "    .dataframe tbody tr th {\n",
       "        vertical-align: top;\n",
       "    }\n",
       "\n",
       "    .dataframe thead th {\n",
       "        text-align: right;\n",
       "    }\n",
       "</style>\n",
       "<table border=\"1\" class=\"dataframe\">\n",
       "  <thead>\n",
       "    <tr style=\"text-align: right;\">\n",
       "      <th></th>\n",
       "      <th>Unnamed: 0</th>\n",
       "      <th>VendorID</th>\n",
       "      <th>tpep_pickup_datetime</th>\n",
       "      <th>tpep_dropoff_datetime</th>\n",
       "      <th>passenger_count</th>\n",
       "      <th>trip_distance</th>\n",
       "      <th>RatecodeID</th>\n",
       "      <th>store_and_fwd_flag</th>\n",
       "      <th>PULocationID</th>\n",
       "      <th>DOLocationID</th>\n",
       "      <th>...</th>\n",
       "      <th>tolls_amount</th>\n",
       "      <th>improvement_surcharge</th>\n",
       "      <th>total_amount</th>\n",
       "      <th>duration</th>\n",
       "      <th>pickup_dropoff</th>\n",
       "      <th>mean_distance</th>\n",
       "      <th>mean_duration</th>\n",
       "      <th>day</th>\n",
       "      <th>month</th>\n",
       "      <th>rush_hour</th>\n",
       "    </tr>\n",
       "  </thead>\n",
       "  <tbody>\n",
       "    <tr>\n",
       "      <th>0</th>\n",
       "      <td>24870114</td>\n",
       "      <td>2</td>\n",
       "      <td>2017-03-25 08:55:43</td>\n",
       "      <td>2017-03-25 09:09:47</td>\n",
       "      <td>6</td>\n",
       "      <td>3.34</td>\n",
       "      <td>1</td>\n",
       "      <td>N</td>\n",
       "      <td>100</td>\n",
       "      <td>231</td>\n",
       "      <td>...</td>\n",
       "      <td>0.0</td>\n",
       "      <td>0.3</td>\n",
       "      <td>16.56</td>\n",
       "      <td>14.066667</td>\n",
       "      <td>100 231</td>\n",
       "      <td>3.521667</td>\n",
       "      <td>22.847222</td>\n",
       "      <td>saturday</td>\n",
       "      <td>mar</td>\n",
       "      <td>0</td>\n",
       "    </tr>\n",
       "    <tr>\n",
       "      <th>1</th>\n",
       "      <td>35634249</td>\n",
       "      <td>1</td>\n",
       "      <td>2017-04-11 14:53:28</td>\n",
       "      <td>2017-04-11 15:19:58</td>\n",
       "      <td>1</td>\n",
       "      <td>1.80</td>\n",
       "      <td>1</td>\n",
       "      <td>N</td>\n",
       "      <td>186</td>\n",
       "      <td>43</td>\n",
       "      <td>...</td>\n",
       "      <td>0.0</td>\n",
       "      <td>0.3</td>\n",
       "      <td>20.80</td>\n",
       "      <td>26.500000</td>\n",
       "      <td>186 43</td>\n",
       "      <td>3.108889</td>\n",
       "      <td>24.470370</td>\n",
       "      <td>tuesday</td>\n",
       "      <td>apr</td>\n",
       "      <td>0</td>\n",
       "    </tr>\n",
       "    <tr>\n",
       "      <th>2</th>\n",
       "      <td>106203690</td>\n",
       "      <td>1</td>\n",
       "      <td>2017-12-15 07:26:56</td>\n",
       "      <td>2017-12-15 07:34:08</td>\n",
       "      <td>1</td>\n",
       "      <td>1.00</td>\n",
       "      <td>1</td>\n",
       "      <td>N</td>\n",
       "      <td>262</td>\n",
       "      <td>236</td>\n",
       "      <td>...</td>\n",
       "      <td>0.0</td>\n",
       "      <td>0.3</td>\n",
       "      <td>8.75</td>\n",
       "      <td>7.200000</td>\n",
       "      <td>262 236</td>\n",
       "      <td>0.881429</td>\n",
       "      <td>7.250000</td>\n",
       "      <td>friday</td>\n",
       "      <td>dec</td>\n",
       "      <td>1</td>\n",
       "    </tr>\n",
       "    <tr>\n",
       "      <th>3</th>\n",
       "      <td>38942136</td>\n",
       "      <td>2</td>\n",
       "      <td>2017-05-07 13:17:59</td>\n",
       "      <td>2017-05-07 13:48:14</td>\n",
       "      <td>1</td>\n",
       "      <td>3.70</td>\n",
       "      <td>1</td>\n",
       "      <td>N</td>\n",
       "      <td>188</td>\n",
       "      <td>97</td>\n",
       "      <td>...</td>\n",
       "      <td>0.0</td>\n",
       "      <td>0.3</td>\n",
       "      <td>27.69</td>\n",
       "      <td>30.250000</td>\n",
       "      <td>188 97</td>\n",
       "      <td>3.700000</td>\n",
       "      <td>30.250000</td>\n",
       "      <td>sunday</td>\n",
       "      <td>may</td>\n",
       "      <td>0</td>\n",
       "    </tr>\n",
       "    <tr>\n",
       "      <th>4</th>\n",
       "      <td>30841670</td>\n",
       "      <td>2</td>\n",
       "      <td>2017-04-15 23:32:20</td>\n",
       "      <td>2017-04-15 23:49:03</td>\n",
       "      <td>1</td>\n",
       "      <td>4.37</td>\n",
       "      <td>1</td>\n",
       "      <td>N</td>\n",
       "      <td>4</td>\n",
       "      <td>112</td>\n",
       "      <td>...</td>\n",
       "      <td>0.0</td>\n",
       "      <td>0.3</td>\n",
       "      <td>17.80</td>\n",
       "      <td>16.716667</td>\n",
       "      <td>4 112</td>\n",
       "      <td>4.435000</td>\n",
       "      <td>14.616667</td>\n",
       "      <td>saturday</td>\n",
       "      <td>apr</td>\n",
       "      <td>0</td>\n",
       "    </tr>\n",
       "  </tbody>\n",
       "</table>\n",
       "<p>5 rows × 25 columns</p>\n",
       "</div>"
      ],
      "text/plain": [
       "   Unnamed: 0  VendorID tpep_pickup_datetime tpep_dropoff_datetime  \\\n",
       "0    24870114         2  2017-03-25 08:55:43   2017-03-25 09:09:47   \n",
       "1    35634249         1  2017-04-11 14:53:28   2017-04-11 15:19:58   \n",
       "2   106203690         1  2017-12-15 07:26:56   2017-12-15 07:34:08   \n",
       "3    38942136         2  2017-05-07 13:17:59   2017-05-07 13:48:14   \n",
       "4    30841670         2  2017-04-15 23:32:20   2017-04-15 23:49:03   \n",
       "\n",
       "   passenger_count  trip_distance  RatecodeID store_and_fwd_flag  \\\n",
       "0                6           3.34           1                  N   \n",
       "1                1           1.80           1                  N   \n",
       "2                1           1.00           1                  N   \n",
       "3                1           3.70           1                  N   \n",
       "4                1           4.37           1                  N   \n",
       "\n",
       "   PULocationID  DOLocationID  ...  tolls_amount  improvement_surcharge  \\\n",
       "0           100           231  ...           0.0                    0.3   \n",
       "1           186            43  ...           0.0                    0.3   \n",
       "2           262           236  ...           0.0                    0.3   \n",
       "3           188            97  ...           0.0                    0.3   \n",
       "4             4           112  ...           0.0                    0.3   \n",
       "\n",
       "   total_amount   duration  pickup_dropoff  mean_distance  mean_duration  \\\n",
       "0         16.56  14.066667         100 231       3.521667      22.847222   \n",
       "1         20.80  26.500000          186 43       3.108889      24.470370   \n",
       "2          8.75   7.200000         262 236       0.881429       7.250000   \n",
       "3         27.69  30.250000          188 97       3.700000      30.250000   \n",
       "4         17.80  16.716667           4 112       4.435000      14.616667   \n",
       "\n",
       "        day  month rush_hour  \n",
       "0  saturday    mar         0  \n",
       "1   tuesday    apr         0  \n",
       "2    friday    dec         1  \n",
       "3    sunday    may         0  \n",
       "4  saturday    apr         0  \n",
       "\n",
       "[5 rows x 25 columns]"
      ]
     },
     "execution_count": 30,
     "metadata": {},
     "output_type": "execute_result"
    }
   ],
   "source": [
    "# Apply the `rush_hourizer()` function to the new column\n",
    "df.loc[(df.day != 'saturday') & (df.day != 'sunday'), 'rush_hour'] = df.apply(rush_hourizer, axis=1)\n",
    "df.head()"
   ]
  },
  {
   "cell_type": "markdown",
   "metadata": {},
   "source": [
    "### Task 4. Scatter plot\n",
    "\n",
    "Create a scatterplot to visualize the relationship between `mean_duration` and `fare_amount`."
   ]
  },
  {
   "cell_type": "code",
   "execution_count": 31,
   "metadata": {},
   "outputs": [
    {
     "data": {
      "image/png": "[encoded data removed]",
      "text/plain": [
       "<Figure size 360x360 with 1 Axes>"
      ]
     },
     "metadata": {},
     "output_type": "display_data"
    }
   ],
   "source": [
    "# Create a scatterplot to visualize the relationship between variables of interest\n",
    "\n",
    "sns.set(style='whitegrid')  # Set a clean, white grid background for the plot\n",
    "\n",
    "f = plt.figure()  # Create a figure object\n",
    "f.set_figwidth(5)  # Set figure width to 5 inches\n",
    "f.set_figheight(5)  # Set figure height to 5 inches\n",
    "\n",
    "sns.regplot(x=df['mean_duration'], y=df['fare_amount'],  # Create a regression plot\n",
    "            scatter_kws={'alpha':0.5, 's':5},  # Set scatter plot transparency (alpha) and size (s)\n",
    "            line_kws={'color':'red'})  # Set regression line color to red\n",
    "\n",
    "plt.ylim(0, 70)  # Set y-axis limit between 0 and 70\n",
    "plt.xlim(0, 70)  # Set x-axis limit between 0 and 70\n",
    "plt.title('Mean duration x fare amount')  # Add a title to the plot\n",
    "plt.show()  # Display the plot\n",
    "        "
   ]
  },
  {
   "cell_type": "markdown",
   "metadata": {},
   "source": [
    "**In the scatter plot, we see two horizontal lines where many data points are aligned:**\n",
    "\n",
    "**At $62.50:**\n",
    "\n",
    "* This is expected because we capped outliers at $62.50 when handling fare amount outliers.\n",
    "\n",
    "* Any fare that was originally above this threshold is now set to $62.50, causing a flat line in the plot.\n",
    "\n",
    "**At around $52:**\n",
    "\n",
    "* We need to check why this value appears frequently.\n",
    "\n",
    "* It could be a fixed fare amount\n",
    "\n",
    "**How to check:**\n",
    "We can filter the dataset to see how many rides have a fare of exactly $52 and investigate why this occurs.\n",
    "\n",
    "df[df['fare_amount'] == 52]\n",
    "\n",
    "But, here, we check df[df['fare_amount'] > 50]['fare_amount'].value_counts().head()\n"
   ]
  },
  {
   "cell_type": "code",
   "execution_count": 32,
   "metadata": {},
   "outputs": [
    {
     "data": {
      "text/plain": [
       "52.0    514\n",
       "62.5     84\n",
       "59.0      9\n",
       "50.5      9\n",
       "57.5      8\n",
       "Name: fare_amount, dtype: int64"
      ]
     },
     "execution_count": 32,
     "metadata": {},
     "output_type": "execute_result"
    }
   ],
   "source": [
    "\n",
    "# Check the value of the rides in the second horizontal line in the scatter plot.\n",
    "\n",
    "df[df['fare_amount']>50]['fare_amount'].value_counts().head()"
   ]
  },
  {
   "cell_type": "markdown",
   "metadata": {},
   "source": [
    "Examine the first 30 of these trips."
   ]
  },
  {
   "cell_type": "code",
   "execution_count": 33,
   "metadata": {},
   "outputs": [
    {
     "data": {
      "text/html": [
       "<div>\n",
       "<style scoped>\n",
       "    .dataframe tbody tr th:only-of-type {\n",
       "        vertical-align: middle;\n",
       "    }\n",
       "\n",
       "    .dataframe tbody tr th {\n",
       "        vertical-align: top;\n",
       "    }\n",
       "\n",
       "    .dataframe thead th {\n",
       "        text-align: right;\n",
       "    }\n",
       "</style>\n",
       "<table border=\"1\" class=\"dataframe\">\n",
       "  <thead>\n",
       "    <tr style=\"text-align: right;\">\n",
       "      <th></th>\n",
       "      <th>Unnamed: 0</th>\n",
       "      <th>VendorID</th>\n",
       "      <th>tpep_pickup_datetime</th>\n",
       "      <th>tpep_dropoff_datetime</th>\n",
       "      <th>passenger_count</th>\n",
       "      <th>trip_distance</th>\n",
       "      <th>RatecodeID</th>\n",
       "      <th>store_and_fwd_flag</th>\n",
       "      <th>PULocationID</th>\n",
       "      <th>DOLocationID</th>\n",
       "      <th>payment_type</th>\n",
       "      <th>fare_amount</th>\n",
       "      <th>extra</th>\n",
       "      <th>mta_tax</th>\n",
       "      <th>tip_amount</th>\n",
       "      <th>tolls_amount</th>\n",
       "      <th>improvement_surcharge</th>\n",
       "      <th>total_amount</th>\n",
       "      <th>duration</th>\n",
       "      <th>pickup_dropoff</th>\n",
       "      <th>mean_distance</th>\n",
       "      <th>mean_duration</th>\n",
       "      <th>day</th>\n",
       "      <th>month</th>\n",
       "      <th>rush_hour</th>\n",
       "    </tr>\n",
       "  </thead>\n",
       "  <tbody>\n",
       "    <tr>\n",
       "      <th>11</th>\n",
       "      <td>18600059</td>\n",
       "      <td>2</td>\n",
       "      <td>2017-03-05 19:15:30</td>\n",
       "      <td>2017-03-05 19:52:18</td>\n",
       "      <td>2</td>\n",
       "      <td>18.90</td>\n",
       "      <td>2</td>\n",
       "      <td>N</td>\n",
       "      <td>236</td>\n",
       "      <td>132</td>\n",
       "      <td>1</td>\n",
       "      <td>52.0</td>\n",
       "      <td>0.0</td>\n",
       "      <td>0.5</td>\n",
       "      <td>14.58</td>\n",
       "      <td>5.54</td>\n",
       "      <td>0.3</td>\n",
       "      <td>72.92</td>\n",
       "      <td>36.800000</td>\n",
       "      <td>236 132</td>\n",
       "      <td>19.211667</td>\n",
       "      <td>40.500000</td>\n",
       "      <td>sunday</td>\n",
       "      <td>mar</td>\n",
       "      <td>0</td>\n",
       "    </tr>\n",
       "    <tr>\n",
       "      <th>110</th>\n",
       "      <td>47959795</td>\n",
       "      <td>1</td>\n",
       "      <td>2017-06-03 14:24:57</td>\n",
       "      <td>2017-06-03 15:31:48</td>\n",
       "      <td>1</td>\n",
       "      <td>18.00</td>\n",
       "      <td>2</td>\n",
       "      <td>N</td>\n",
       "      <td>132</td>\n",
       "      <td>163</td>\n",
       "      <td>1</td>\n",
       "      <td>52.0</td>\n",
       "      <td>0.0</td>\n",
       "      <td>0.5</td>\n",
       "      <td>0.00</td>\n",
       "      <td>0.00</td>\n",
       "      <td>0.3</td>\n",
       "      <td>52.80</td>\n",
       "      <td>66.850000</td>\n",
       "      <td>132 163</td>\n",
       "      <td>19.229000</td>\n",
       "      <td>52.941667</td>\n",
       "      <td>saturday</td>\n",
       "      <td>jun</td>\n",
       "      <td>0</td>\n",
       "    </tr>\n",
       "    <tr>\n",
       "      <th>161</th>\n",
       "      <td>95729204</td>\n",
       "      <td>2</td>\n",
       "      <td>2017-11-11 20:16:16</td>\n",
       "      <td>2017-11-11 20:17:14</td>\n",
       "      <td>1</td>\n",
       "      <td>0.23</td>\n",
       "      <td>2</td>\n",
       "      <td>N</td>\n",
       "      <td>132</td>\n",
       "      <td>132</td>\n",
       "      <td>2</td>\n",
       "      <td>52.0</td>\n",
       "      <td>0.0</td>\n",
       "      <td>0.5</td>\n",
       "      <td>0.00</td>\n",
       "      <td>0.00</td>\n",
       "      <td>0.3</td>\n",
       "      <td>52.80</td>\n",
       "      <td>0.966667</td>\n",
       "      <td>132 132</td>\n",
       "      <td>2.255862</td>\n",
       "      <td>3.021839</td>\n",
       "      <td>saturday</td>\n",
       "      <td>nov</td>\n",
       "      <td>0</td>\n",
       "    </tr>\n",
       "    <tr>\n",
       "      <th>247</th>\n",
       "      <td>103404868</td>\n",
       "      <td>2</td>\n",
       "      <td>2017-12-06 23:37:08</td>\n",
       "      <td>2017-12-07 00:06:19</td>\n",
       "      <td>1</td>\n",
       "      <td>18.93</td>\n",
       "      <td>2</td>\n",
       "      <td>N</td>\n",
       "      <td>132</td>\n",
       "      <td>79</td>\n",
       "      <td>2</td>\n",
       "      <td>52.0</td>\n",
       "      <td>0.0</td>\n",
       "      <td>0.5</td>\n",
       "      <td>0.00</td>\n",
       "      <td>0.00</td>\n",
       "      <td>0.3</td>\n",
       "      <td>52.80</td>\n",
       "      <td>29.183333</td>\n",
       "      <td>132 79</td>\n",
       "      <td>19.431667</td>\n",
       "      <td>47.275000</td>\n",
       "      <td>wednesday</td>\n",
       "      <td>dec</td>\n",
       "      <td>0</td>\n",
       "    </tr>\n",
       "    <tr>\n",
       "      <th>379</th>\n",
       "      <td>80479432</td>\n",
       "      <td>2</td>\n",
       "      <td>2017-09-24 23:45:45</td>\n",
       "      <td>2017-09-25 00:15:14</td>\n",
       "      <td>1</td>\n",
       "      <td>17.99</td>\n",
       "      <td>2</td>\n",
       "      <td>N</td>\n",
       "      <td>132</td>\n",
       "      <td>234</td>\n",
       "      <td>1</td>\n",
       "      <td>52.0</td>\n",
       "      <td>0.0</td>\n",
       "      <td>0.5</td>\n",
       "      <td>14.64</td>\n",
       "      <td>5.76</td>\n",
       "      <td>0.3</td>\n",
       "      <td>73.20</td>\n",
       "      <td>29.483333</td>\n",
       "      <td>132 234</td>\n",
       "      <td>17.654000</td>\n",
       "      <td>49.833333</td>\n",
       "      <td>sunday</td>\n",
       "      <td>sep</td>\n",
       "      <td>0</td>\n",
       "    </tr>\n",
       "    <tr>\n",
       "      <th>388</th>\n",
       "      <td>16226157</td>\n",
       "      <td>1</td>\n",
       "      <td>2017-02-28 18:30:05</td>\n",
       "      <td>2017-02-28 19:09:55</td>\n",
       "      <td>1</td>\n",
       "      <td>18.40</td>\n",
       "      <td>2</td>\n",
       "      <td>N</td>\n",
       "      <td>132</td>\n",
       "      <td>48</td>\n",
       "      <td>2</td>\n",
       "      <td>52.0</td>\n",
       "      <td>4.5</td>\n",
       "      <td>0.5</td>\n",
       "      <td>0.00</td>\n",
       "      <td>5.54</td>\n",
       "      <td>0.3</td>\n",
       "      <td>62.84</td>\n",
       "      <td>39.833333</td>\n",
       "      <td>132 48</td>\n",
       "      <td>18.761905</td>\n",
       "      <td>58.246032</td>\n",
       "      <td>tuesday</td>\n",
       "      <td>feb</td>\n",
       "      <td>1</td>\n",
       "    </tr>\n",
       "    <tr>\n",
       "      <th>406</th>\n",
       "      <td>55253442</td>\n",
       "      <td>2</td>\n",
       "      <td>2017-06-05 12:51:58</td>\n",
       "      <td>2017-06-05 13:07:35</td>\n",
       "      <td>1</td>\n",
       "      <td>4.73</td>\n",
       "      <td>2</td>\n",
       "      <td>N</td>\n",
       "      <td>228</td>\n",
       "      <td>88</td>\n",
       "      <td>2</td>\n",
       "      <td>52.0</td>\n",
       "      <td>0.0</td>\n",
       "      <td>0.5</td>\n",
       "      <td>0.00</td>\n",
       "      <td>5.76</td>\n",
       "      <td>0.3</td>\n",
       "      <td>58.56</td>\n",
       "      <td>15.616667</td>\n",
       "      <td>228 88</td>\n",
       "      <td>4.730000</td>\n",
       "      <td>15.616667</td>\n",
       "      <td>monday</td>\n",
       "      <td>jun</td>\n",
       "      <td>0</td>\n",
       "    </tr>\n",
       "    <tr>\n",
       "      <th>449</th>\n",
       "      <td>65900029</td>\n",
       "      <td>2</td>\n",
       "      <td>2017-08-03 22:47:14</td>\n",
       "      <td>2017-08-03 23:32:41</td>\n",
       "      <td>2</td>\n",
       "      <td>18.21</td>\n",
       "      <td>2</td>\n",
       "      <td>N</td>\n",
       "      <td>132</td>\n",
       "      <td>48</td>\n",
       "      <td>2</td>\n",
       "      <td>52.0</td>\n",
       "      <td>0.0</td>\n",
       "      <td>0.5</td>\n",
       "      <td>0.00</td>\n",
       "      <td>5.76</td>\n",
       "      <td>0.3</td>\n",
       "      <td>58.56</td>\n",
       "      <td>45.450000</td>\n",
       "      <td>132 48</td>\n",
       "      <td>18.761905</td>\n",
       "      <td>58.246032</td>\n",
       "      <td>thursday</td>\n",
       "      <td>aug</td>\n",
       "      <td>0</td>\n",
       "    </tr>\n",
       "    <tr>\n",
       "      <th>468</th>\n",
       "      <td>80904240</td>\n",
       "      <td>2</td>\n",
       "      <td>2017-09-26 13:48:26</td>\n",
       "      <td>2017-09-26 14:31:17</td>\n",
       "      <td>1</td>\n",
       "      <td>17.27</td>\n",
       "      <td>2</td>\n",
       "      <td>N</td>\n",
       "      <td>186</td>\n",
       "      <td>132</td>\n",
       "      <td>2</td>\n",
       "      <td>52.0</td>\n",
       "      <td>0.0</td>\n",
       "      <td>0.5</td>\n",
       "      <td>0.00</td>\n",
       "      <td>5.76</td>\n",
       "      <td>0.3</td>\n",
       "      <td>58.56</td>\n",
       "      <td>42.850000</td>\n",
       "      <td>186 132</td>\n",
       "      <td>17.096000</td>\n",
       "      <td>42.920000</td>\n",
       "      <td>tuesday</td>\n",
       "      <td>sep</td>\n",
       "      <td>0</td>\n",
       "    </tr>\n",
       "    <tr>\n",
       "      <th>520</th>\n",
       "      <td>33706214</td>\n",
       "      <td>2</td>\n",
       "      <td>2017-04-23 21:34:48</td>\n",
       "      <td>2017-04-23 22:46:23</td>\n",
       "      <td>6</td>\n",
       "      <td>18.34</td>\n",
       "      <td>2</td>\n",
       "      <td>N</td>\n",
       "      <td>132</td>\n",
       "      <td>148</td>\n",
       "      <td>1</td>\n",
       "      <td>52.0</td>\n",
       "      <td>0.0</td>\n",
       "      <td>0.5</td>\n",
       "      <td>5.00</td>\n",
       "      <td>0.00</td>\n",
       "      <td>0.3</td>\n",
       "      <td>57.80</td>\n",
       "      <td>71.583333</td>\n",
       "      <td>132 148</td>\n",
       "      <td>17.994286</td>\n",
       "      <td>46.340476</td>\n",
       "      <td>sunday</td>\n",
       "      <td>apr</td>\n",
       "      <td>0</td>\n",
       "    </tr>\n",
       "    <tr>\n",
       "      <th>569</th>\n",
       "      <td>99259872</td>\n",
       "      <td>2</td>\n",
       "      <td>2017-11-22 21:31:32</td>\n",
       "      <td>2017-11-22 22:00:25</td>\n",
       "      <td>1</td>\n",
       "      <td>18.65</td>\n",
       "      <td>2</td>\n",
       "      <td>N</td>\n",
       "      <td>132</td>\n",
       "      <td>144</td>\n",
       "      <td>1</td>\n",
       "      <td>52.0</td>\n",
       "      <td>0.0</td>\n",
       "      <td>0.5</td>\n",
       "      <td>10.56</td>\n",
       "      <td>0.00</td>\n",
       "      <td>0.3</td>\n",
       "      <td>63.36</td>\n",
       "      <td>28.883333</td>\n",
       "      <td>132 144</td>\n",
       "      <td>18.537500</td>\n",
       "      <td>37.000000</td>\n",
       "      <td>wednesday</td>\n",
       "      <td>nov</td>\n",
       "      <td>0</td>\n",
       "    </tr>\n",
       "    <tr>\n",
       "      <th>572</th>\n",
       "      <td>61050418</td>\n",
       "      <td>2</td>\n",
       "      <td>2017-07-18 13:29:06</td>\n",
       "      <td>2017-07-18 13:29:19</td>\n",
       "      <td>1</td>\n",
       "      <td>0.00</td>\n",
       "      <td>2</td>\n",
       "      <td>N</td>\n",
       "      <td>230</td>\n",
       "      <td>161</td>\n",
       "      <td>1</td>\n",
       "      <td>52.0</td>\n",
       "      <td>0.0</td>\n",
       "      <td>0.5</td>\n",
       "      <td>11.71</td>\n",
       "      <td>5.76</td>\n",
       "      <td>0.3</td>\n",
       "      <td>70.27</td>\n",
       "      <td>0.216667</td>\n",
       "      <td>230 161</td>\n",
       "      <td>0.685484</td>\n",
       "      <td>7.965591</td>\n",
       "      <td>tuesday</td>\n",
       "      <td>jul</td>\n",
       "      <td>0</td>\n",
       "    </tr>\n",
       "    <tr>\n",
       "      <th>586</th>\n",
       "      <td>54444647</td>\n",
       "      <td>2</td>\n",
       "      <td>2017-06-26 13:39:12</td>\n",
       "      <td>2017-06-26 14:34:54</td>\n",
       "      <td>1</td>\n",
       "      <td>17.76</td>\n",
       "      <td>2</td>\n",
       "      <td>N</td>\n",
       "      <td>211</td>\n",
       "      <td>132</td>\n",
       "      <td>1</td>\n",
       "      <td>52.0</td>\n",
       "      <td>0.0</td>\n",
       "      <td>0.5</td>\n",
       "      <td>11.71</td>\n",
       "      <td>5.76</td>\n",
       "      <td>0.3</td>\n",
       "      <td>70.27</td>\n",
       "      <td>55.700000</td>\n",
       "      <td>211 132</td>\n",
       "      <td>16.580000</td>\n",
       "      <td>61.691667</td>\n",
       "      <td>monday</td>\n",
       "      <td>jun</td>\n",
       "      <td>0</td>\n",
       "    </tr>\n",
       "    <tr>\n",
       "      <th>692</th>\n",
       "      <td>94424289</td>\n",
       "      <td>2</td>\n",
       "      <td>2017-11-07 22:15:00</td>\n",
       "      <td>2017-11-07 22:45:32</td>\n",
       "      <td>2</td>\n",
       "      <td>16.97</td>\n",
       "      <td>2</td>\n",
       "      <td>N</td>\n",
       "      <td>132</td>\n",
       "      <td>170</td>\n",
       "      <td>1</td>\n",
       "      <td>52.0</td>\n",
       "      <td>0.0</td>\n",
       "      <td>0.5</td>\n",
       "      <td>11.71</td>\n",
       "      <td>5.76</td>\n",
       "      <td>0.3</td>\n",
       "      <td>70.27</td>\n",
       "      <td>30.533333</td>\n",
       "      <td>132 170</td>\n",
       "      <td>17.203000</td>\n",
       "      <td>37.113333</td>\n",
       "      <td>tuesday</td>\n",
       "      <td>nov</td>\n",
       "      <td>0</td>\n",
       "    </tr>\n",
       "    <tr>\n",
       "      <th>717</th>\n",
       "      <td>103094220</td>\n",
       "      <td>1</td>\n",
       "      <td>2017-12-06 05:19:50</td>\n",
       "      <td>2017-12-06 05:53:52</td>\n",
       "      <td>1</td>\n",
       "      <td>20.80</td>\n",
       "      <td>2</td>\n",
       "      <td>N</td>\n",
       "      <td>132</td>\n",
       "      <td>239</td>\n",
       "      <td>1</td>\n",
       "      <td>52.0</td>\n",
       "      <td>0.0</td>\n",
       "      <td>0.5</td>\n",
       "      <td>5.85</td>\n",
       "      <td>5.76</td>\n",
       "      <td>0.3</td>\n",
       "      <td>64.41</td>\n",
       "      <td>34.033333</td>\n",
       "      <td>132 239</td>\n",
       "      <td>20.901250</td>\n",
       "      <td>44.862500</td>\n",
       "      <td>wednesday</td>\n",
       "      <td>dec</td>\n",
       "      <td>0</td>\n",
       "    </tr>\n",
       "    <tr>\n",
       "      <th>719</th>\n",
       "      <td>66115834</td>\n",
       "      <td>1</td>\n",
       "      <td>2017-08-04 17:53:34</td>\n",
       "      <td>2017-08-04 18:50:56</td>\n",
       "      <td>1</td>\n",
       "      <td>21.60</td>\n",
       "      <td>2</td>\n",
       "      <td>N</td>\n",
       "      <td>264</td>\n",
       "      <td>264</td>\n",
       "      <td>1</td>\n",
       "      <td>52.0</td>\n",
       "      <td>4.5</td>\n",
       "      <td>0.5</td>\n",
       "      <td>12.60</td>\n",
       "      <td>5.76</td>\n",
       "      <td>0.3</td>\n",
       "      <td>75.66</td>\n",
       "      <td>57.366667</td>\n",
       "      <td>264 264</td>\n",
       "      <td>3.191516</td>\n",
       "      <td>15.618773</td>\n",
       "      <td>friday</td>\n",
       "      <td>aug</td>\n",
       "      <td>1</td>\n",
       "    </tr>\n",
       "    <tr>\n",
       "      <th>782</th>\n",
       "      <td>55934137</td>\n",
       "      <td>2</td>\n",
       "      <td>2017-06-09 09:31:25</td>\n",
       "      <td>2017-06-09 10:24:10</td>\n",
       "      <td>2</td>\n",
       "      <td>18.81</td>\n",
       "      <td>2</td>\n",
       "      <td>N</td>\n",
       "      <td>163</td>\n",
       "      <td>132</td>\n",
       "      <td>1</td>\n",
       "      <td>52.0</td>\n",
       "      <td>0.0</td>\n",
       "      <td>0.5</td>\n",
       "      <td>13.20</td>\n",
       "      <td>0.00</td>\n",
       "      <td>0.3</td>\n",
       "      <td>66.00</td>\n",
       "      <td>52.750000</td>\n",
       "      <td>163 132</td>\n",
       "      <td>17.275833</td>\n",
       "      <td>52.338889</td>\n",
       "      <td>friday</td>\n",
       "      <td>jun</td>\n",
       "      <td>1</td>\n",
       "    </tr>\n",
       "    <tr>\n",
       "      <th>816</th>\n",
       "      <td>13731926</td>\n",
       "      <td>2</td>\n",
       "      <td>2017-02-21 06:11:03</td>\n",
       "      <td>2017-02-21 06:59:39</td>\n",
       "      <td>5</td>\n",
       "      <td>16.94</td>\n",
       "      <td>2</td>\n",
       "      <td>N</td>\n",
       "      <td>132</td>\n",
       "      <td>170</td>\n",
       "      <td>1</td>\n",
       "      <td>52.0</td>\n",
       "      <td>0.0</td>\n",
       "      <td>0.5</td>\n",
       "      <td>2.00</td>\n",
       "      <td>5.54</td>\n",
       "      <td>0.3</td>\n",
       "      <td>60.34</td>\n",
       "      <td>48.600000</td>\n",
       "      <td>132 170</td>\n",
       "      <td>17.203000</td>\n",
       "      <td>37.113333</td>\n",
       "      <td>tuesday</td>\n",
       "      <td>feb</td>\n",
       "      <td>1</td>\n",
       "    </tr>\n",
       "    <tr>\n",
       "      <th>818</th>\n",
       "      <td>52277743</td>\n",
       "      <td>2</td>\n",
       "      <td>2017-06-20 08:15:18</td>\n",
       "      <td>2017-06-20 10:24:37</td>\n",
       "      <td>1</td>\n",
       "      <td>17.77</td>\n",
       "      <td>2</td>\n",
       "      <td>N</td>\n",
       "      <td>132</td>\n",
       "      <td>246</td>\n",
       "      <td>1</td>\n",
       "      <td>52.0</td>\n",
       "      <td>0.0</td>\n",
       "      <td>0.5</td>\n",
       "      <td>11.71</td>\n",
       "      <td>5.76</td>\n",
       "      <td>0.3</td>\n",
       "      <td>70.27</td>\n",
       "      <td>88.783333</td>\n",
       "      <td>132 246</td>\n",
       "      <td>18.515000</td>\n",
       "      <td>66.316667</td>\n",
       "      <td>tuesday</td>\n",
       "      <td>jun</td>\n",
       "      <td>1</td>\n",
       "    </tr>\n",
       "    <tr>\n",
       "      <th>835</th>\n",
       "      <td>2684305</td>\n",
       "      <td>2</td>\n",
       "      <td>2017-01-10 22:29:47</td>\n",
       "      <td>2017-01-10 23:06:46</td>\n",
       "      <td>1</td>\n",
       "      <td>18.57</td>\n",
       "      <td>2</td>\n",
       "      <td>N</td>\n",
       "      <td>132</td>\n",
       "      <td>48</td>\n",
       "      <td>1</td>\n",
       "      <td>52.0</td>\n",
       "      <td>0.0</td>\n",
       "      <td>0.5</td>\n",
       "      <td>13.20</td>\n",
       "      <td>0.00</td>\n",
       "      <td>0.3</td>\n",
       "      <td>66.00</td>\n",
       "      <td>36.983333</td>\n",
       "      <td>132 48</td>\n",
       "      <td>18.761905</td>\n",
       "      <td>58.246032</td>\n",
       "      <td>tuesday</td>\n",
       "      <td>jan</td>\n",
       "      <td>0</td>\n",
       "    </tr>\n",
       "    <tr>\n",
       "      <th>840</th>\n",
       "      <td>90860814</td>\n",
       "      <td>2</td>\n",
       "      <td>2017-10-27 21:50:00</td>\n",
       "      <td>2017-10-27 22:35:04</td>\n",
       "      <td>1</td>\n",
       "      <td>22.43</td>\n",
       "      <td>2</td>\n",
       "      <td>N</td>\n",
       "      <td>132</td>\n",
       "      <td>163</td>\n",
       "      <td>2</td>\n",
       "      <td>52.0</td>\n",
       "      <td>0.0</td>\n",
       "      <td>0.5</td>\n",
       "      <td>0.00</td>\n",
       "      <td>5.76</td>\n",
       "      <td>0.3</td>\n",
       "      <td>58.56</td>\n",
       "      <td>45.066667</td>\n",
       "      <td>132 163</td>\n",
       "      <td>19.229000</td>\n",
       "      <td>52.941667</td>\n",
       "      <td>friday</td>\n",
       "      <td>oct</td>\n",
       "      <td>0</td>\n",
       "    </tr>\n",
       "    <tr>\n",
       "      <th>861</th>\n",
       "      <td>106575186</td>\n",
       "      <td>1</td>\n",
       "      <td>2017-12-16 06:39:59</td>\n",
       "      <td>2017-12-16 07:07:59</td>\n",
       "      <td>2</td>\n",
       "      <td>17.80</td>\n",
       "      <td>2</td>\n",
       "      <td>N</td>\n",
       "      <td>75</td>\n",
       "      <td>132</td>\n",
       "      <td>1</td>\n",
       "      <td>52.0</td>\n",
       "      <td>0.0</td>\n",
       "      <td>0.5</td>\n",
       "      <td>6.00</td>\n",
       "      <td>5.76</td>\n",
       "      <td>0.3</td>\n",
       "      <td>64.56</td>\n",
       "      <td>28.000000</td>\n",
       "      <td>75 132</td>\n",
       "      <td>18.442500</td>\n",
       "      <td>36.204167</td>\n",
       "      <td>saturday</td>\n",
       "      <td>dec</td>\n",
       "      <td>0</td>\n",
       "    </tr>\n",
       "    <tr>\n",
       "      <th>881</th>\n",
       "      <td>110495611</td>\n",
       "      <td>2</td>\n",
       "      <td>2017-12-30 05:25:29</td>\n",
       "      <td>2017-12-30 06:01:29</td>\n",
       "      <td>6</td>\n",
       "      <td>18.23</td>\n",
       "      <td>2</td>\n",
       "      <td>N</td>\n",
       "      <td>68</td>\n",
       "      <td>132</td>\n",
       "      <td>2</td>\n",
       "      <td>52.0</td>\n",
       "      <td>0.0</td>\n",
       "      <td>0.5</td>\n",
       "      <td>0.00</td>\n",
       "      <td>0.00</td>\n",
       "      <td>0.3</td>\n",
       "      <td>52.80</td>\n",
       "      <td>36.000000</td>\n",
       "      <td>68 132</td>\n",
       "      <td>18.785000</td>\n",
       "      <td>58.041667</td>\n",
       "      <td>saturday</td>\n",
       "      <td>dec</td>\n",
       "      <td>0</td>\n",
       "    </tr>\n",
       "    <tr>\n",
       "      <th>958</th>\n",
       "      <td>87017503</td>\n",
       "      <td>1</td>\n",
       "      <td>2017-10-15 22:39:12</td>\n",
       "      <td>2017-10-15 23:14:22</td>\n",
       "      <td>1</td>\n",
       "      <td>21.80</td>\n",
       "      <td>2</td>\n",
       "      <td>N</td>\n",
       "      <td>132</td>\n",
       "      <td>261</td>\n",
       "      <td>2</td>\n",
       "      <td>52.0</td>\n",
       "      <td>0.0</td>\n",
       "      <td>0.5</td>\n",
       "      <td>0.00</td>\n",
       "      <td>0.00</td>\n",
       "      <td>0.3</td>\n",
       "      <td>52.80</td>\n",
       "      <td>35.166667</td>\n",
       "      <td>132 261</td>\n",
       "      <td>22.115000</td>\n",
       "      <td>51.493750</td>\n",
       "      <td>sunday</td>\n",
       "      <td>oct</td>\n",
       "      <td>0</td>\n",
       "    </tr>\n",
       "    <tr>\n",
       "      <th>970</th>\n",
       "      <td>12762608</td>\n",
       "      <td>2</td>\n",
       "      <td>2017-02-17 20:39:42</td>\n",
       "      <td>2017-02-17 21:13:29</td>\n",
       "      <td>1</td>\n",
       "      <td>19.57</td>\n",
       "      <td>2</td>\n",
       "      <td>N</td>\n",
       "      <td>132</td>\n",
       "      <td>140</td>\n",
       "      <td>1</td>\n",
       "      <td>52.0</td>\n",
       "      <td>0.0</td>\n",
       "      <td>0.5</td>\n",
       "      <td>11.67</td>\n",
       "      <td>5.54</td>\n",
       "      <td>0.3</td>\n",
       "      <td>70.01</td>\n",
       "      <td>33.783333</td>\n",
       "      <td>132 140</td>\n",
       "      <td>19.293333</td>\n",
       "      <td>36.791667</td>\n",
       "      <td>friday</td>\n",
       "      <td>feb</td>\n",
       "      <td>0</td>\n",
       "    </tr>\n",
       "    <tr>\n",
       "      <th>984</th>\n",
       "      <td>71264442</td>\n",
       "      <td>1</td>\n",
       "      <td>2017-08-23 18:23:26</td>\n",
       "      <td>2017-08-23 19:18:29</td>\n",
       "      <td>1</td>\n",
       "      <td>16.70</td>\n",
       "      <td>2</td>\n",
       "      <td>N</td>\n",
       "      <td>132</td>\n",
       "      <td>230</td>\n",
       "      <td>1</td>\n",
       "      <td>52.0</td>\n",
       "      <td>4.5</td>\n",
       "      <td>0.5</td>\n",
       "      <td>42.29</td>\n",
       "      <td>0.00</td>\n",
       "      <td>0.3</td>\n",
       "      <td>99.59</td>\n",
       "      <td>55.050000</td>\n",
       "      <td>132 230</td>\n",
       "      <td>18.571200</td>\n",
       "      <td>59.598000</td>\n",
       "      <td>wednesday</td>\n",
       "      <td>aug</td>\n",
       "      <td>1</td>\n",
       "    </tr>\n",
       "    <tr>\n",
       "      <th>1082</th>\n",
       "      <td>11006300</td>\n",
       "      <td>2</td>\n",
       "      <td>2017-02-07 17:20:19</td>\n",
       "      <td>2017-02-07 17:34:41</td>\n",
       "      <td>1</td>\n",
       "      <td>1.09</td>\n",
       "      <td>2</td>\n",
       "      <td>N</td>\n",
       "      <td>170</td>\n",
       "      <td>48</td>\n",
       "      <td>2</td>\n",
       "      <td>52.0</td>\n",
       "      <td>4.5</td>\n",
       "      <td>0.5</td>\n",
       "      <td>0.00</td>\n",
       "      <td>5.54</td>\n",
       "      <td>0.3</td>\n",
       "      <td>62.84</td>\n",
       "      <td>14.366667</td>\n",
       "      <td>170 48</td>\n",
       "      <td>1.265789</td>\n",
       "      <td>14.135965</td>\n",
       "      <td>tuesday</td>\n",
       "      <td>feb</td>\n",
       "      <td>1</td>\n",
       "    </tr>\n",
       "    <tr>\n",
       "      <th>1097</th>\n",
       "      <td>68882036</td>\n",
       "      <td>2</td>\n",
       "      <td>2017-08-14 23:01:15</td>\n",
       "      <td>2017-08-14 23:03:35</td>\n",
       "      <td>5</td>\n",
       "      <td>2.12</td>\n",
       "      <td>2</td>\n",
       "      <td>N</td>\n",
       "      <td>265</td>\n",
       "      <td>265</td>\n",
       "      <td>2</td>\n",
       "      <td>52.0</td>\n",
       "      <td>0.0</td>\n",
       "      <td>0.5</td>\n",
       "      <td>0.00</td>\n",
       "      <td>0.00</td>\n",
       "      <td>0.3</td>\n",
       "      <td>52.80</td>\n",
       "      <td>2.333333</td>\n",
       "      <td>265 265</td>\n",
       "      <td>0.753077</td>\n",
       "      <td>3.411538</td>\n",
       "      <td>monday</td>\n",
       "      <td>aug</td>\n",
       "      <td>0</td>\n",
       "    </tr>\n",
       "    <tr>\n",
       "      <th>1110</th>\n",
       "      <td>74720333</td>\n",
       "      <td>1</td>\n",
       "      <td>2017-09-06 10:46:17</td>\n",
       "      <td>2017-09-06 11:44:41</td>\n",
       "      <td>1</td>\n",
       "      <td>19.10</td>\n",
       "      <td>2</td>\n",
       "      <td>N</td>\n",
       "      <td>239</td>\n",
       "      <td>132</td>\n",
       "      <td>1</td>\n",
       "      <td>52.0</td>\n",
       "      <td>0.0</td>\n",
       "      <td>0.5</td>\n",
       "      <td>15.80</td>\n",
       "      <td>0.00</td>\n",
       "      <td>0.3</td>\n",
       "      <td>68.60</td>\n",
       "      <td>58.400000</td>\n",
       "      <td>239 132</td>\n",
       "      <td>19.795000</td>\n",
       "      <td>50.562500</td>\n",
       "      <td>wednesday</td>\n",
       "      <td>sep</td>\n",
       "      <td>0</td>\n",
       "    </tr>\n",
       "    <tr>\n",
       "      <th>1179</th>\n",
       "      <td>51937907</td>\n",
       "      <td>2</td>\n",
       "      <td>2017-06-19 06:23:13</td>\n",
       "      <td>2017-06-19 07:03:53</td>\n",
       "      <td>6</td>\n",
       "      <td>19.77</td>\n",
       "      <td>2</td>\n",
       "      <td>N</td>\n",
       "      <td>238</td>\n",
       "      <td>132</td>\n",
       "      <td>1</td>\n",
       "      <td>52.0</td>\n",
       "      <td>0.0</td>\n",
       "      <td>0.5</td>\n",
       "      <td>17.57</td>\n",
       "      <td>5.76</td>\n",
       "      <td>0.3</td>\n",
       "      <td>76.13</td>\n",
       "      <td>40.666667</td>\n",
       "      <td>238 132</td>\n",
       "      <td>19.470000</td>\n",
       "      <td>53.861111</td>\n",
       "      <td>monday</td>\n",
       "      <td>jun</td>\n",
       "      <td>1</td>\n",
       "    </tr>\n",
       "  </tbody>\n",
       "</table>\n",
       "</div>"
      ],
      "text/plain": [
       "      Unnamed: 0  VendorID tpep_pickup_datetime tpep_dropoff_datetime  \\\n",
       "11      18600059         2  2017-03-05 19:15:30   2017-03-05 19:52:18   \n",
       "110     47959795         1  2017-06-03 14:24:57   2017-06-03 15:31:48   \n",
       "161     95729204         2  2017-11-11 20:16:16   2017-11-11 20:17:14   \n",
       "247    103404868         2  2017-12-06 23:37:08   2017-12-07 00:06:19   \n",
       "379     80479432         2  2017-09-24 23:45:45   2017-09-25 00:15:14   \n",
       "388     16226157         1  2017-02-28 18:30:05   2017-02-28 19:09:55   \n",
       "406     55253442         2  2017-06-05 12:51:58   2017-06-05 13:07:35   \n",
       "449     65900029         2  2017-08-03 22:47:14   2017-08-03 23:32:41   \n",
       "468     80904240         2  2017-09-26 13:48:26   2017-09-26 14:31:17   \n",
       "520     33706214         2  2017-04-23 21:34:48   2017-04-23 22:46:23   \n",
       "569     99259872         2  2017-11-22 21:31:32   2017-11-22 22:00:25   \n",
       "572     61050418         2  2017-07-18 13:29:06   2017-07-18 13:29:19   \n",
       "586     54444647         2  2017-06-26 13:39:12   2017-06-26 14:34:54   \n",
       "692     94424289         2  2017-11-07 22:15:00   2017-11-07 22:45:32   \n",
       "717    103094220         1  2017-12-06 05:19:50   2017-12-06 05:53:52   \n",
       "719     66115834         1  2017-08-04 17:53:34   2017-08-04 18:50:56   \n",
       "782     55934137         2  2017-06-09 09:31:25   2017-06-09 10:24:10   \n",
       "816     13731926         2  2017-02-21 06:11:03   2017-02-21 06:59:39   \n",
       "818     52277743         2  2017-06-20 08:15:18   2017-06-20 10:24:37   \n",
       "835      2684305         2  2017-01-10 22:29:47   2017-01-10 23:06:46   \n",
       "840     90860814         2  2017-10-27 21:50:00   2017-10-27 22:35:04   \n",
       "861    106575186         1  2017-12-16 06:39:59   2017-12-16 07:07:59   \n",
       "881    110495611         2  2017-12-30 05:25:29   2017-12-30 06:01:29   \n",
       "958     87017503         1  2017-10-15 22:39:12   2017-10-15 23:14:22   \n",
       "970     12762608         2  2017-02-17 20:39:42   2017-02-17 21:13:29   \n",
       "984     71264442         1  2017-08-23 18:23:26   2017-08-23 19:18:29   \n",
       "1082    11006300         2  2017-02-07 17:20:19   2017-02-07 17:34:41   \n",
       "1097    68882036         2  2017-08-14 23:01:15   2017-08-14 23:03:35   \n",
       "1110    74720333         1  2017-09-06 10:46:17   2017-09-06 11:44:41   \n",
       "1179    51937907         2  2017-06-19 06:23:13   2017-06-19 07:03:53   \n",
       "\n",
       "      passenger_count  trip_distance  RatecodeID store_and_fwd_flag  \\\n",
       "11                  2          18.90           2                  N   \n",
       "110                 1          18.00           2                  N   \n",
       "161                 1           0.23           2                  N   \n",
       "247                 1          18.93           2                  N   \n",
       "379                 1          17.99           2                  N   \n",
       "388                 1          18.40           2                  N   \n",
       "406                 1           4.73           2                  N   \n",
       "449                 2          18.21           2                  N   \n",
       "468                 1          17.27           2                  N   \n",
       "520                 6          18.34           2                  N   \n",
       "569                 1          18.65           2                  N   \n",
       "572                 1           0.00           2                  N   \n",
       "586                 1          17.76           2                  N   \n",
       "692                 2          16.97           2                  N   \n",
       "717                 1          20.80           2                  N   \n",
       "719                 1          21.60           2                  N   \n",
       "782                 2          18.81           2                  N   \n",
       "816                 5          16.94           2                  N   \n",
       "818                 1          17.77           2                  N   \n",
       "835                 1          18.57           2                  N   \n",
       "840                 1          22.43           2                  N   \n",
       "861                 2          17.80           2                  N   \n",
       "881                 6          18.23           2                  N   \n",
       "958                 1          21.80           2                  N   \n",
       "970                 1          19.57           2                  N   \n",
       "984                 1          16.70           2                  N   \n",
       "1082                1           1.09           2                  N   \n",
       "1097                5           2.12           2                  N   \n",
       "1110                1          19.10           2                  N   \n",
       "1179                6          19.77           2                  N   \n",
       "\n",
       "      PULocationID  DOLocationID  payment_type  fare_amount  extra  mta_tax  \\\n",
       "11             236           132             1         52.0    0.0      0.5   \n",
       "110            132           163             1         52.0    0.0      0.5   \n",
       "161            132           132             2         52.0    0.0      0.5   \n",
       "247            132            79             2         52.0    0.0      0.5   \n",
       "379            132           234             1         52.0    0.0      0.5   \n",
       "388            132            48             2         52.0    4.5      0.5   \n",
       "406            228            88             2         52.0    0.0      0.5   \n",
       "449            132            48             2         52.0    0.0      0.5   \n",
       "468            186           132             2         52.0    0.0      0.5   \n",
       "520            132           148             1         52.0    0.0      0.5   \n",
       "569            132           144             1         52.0    0.0      0.5   \n",
       "572            230           161             1         52.0    0.0      0.5   \n",
       "586            211           132             1         52.0    0.0      0.5   \n",
       "692            132           170             1         52.0    0.0      0.5   \n",
       "717            132           239             1         52.0    0.0      0.5   \n",
       "719            264           264             1         52.0    4.5      0.5   \n",
       "782            163           132             1         52.0    0.0      0.5   \n",
       "816            132           170             1         52.0    0.0      0.5   \n",
       "818            132           246             1         52.0    0.0      0.5   \n",
       "835            132            48             1         52.0    0.0      0.5   \n",
       "840            132           163             2         52.0    0.0      0.5   \n",
       "861             75           132             1         52.0    0.0      0.5   \n",
       "881             68           132             2         52.0    0.0      0.5   \n",
       "958            132           261             2         52.0    0.0      0.5   \n",
       "970            132           140             1         52.0    0.0      0.5   \n",
       "984            132           230             1         52.0    4.5      0.5   \n",
       "1082           170            48             2         52.0    4.5      0.5   \n",
       "1097           265           265             2         52.0    0.0      0.5   \n",
       "1110           239           132             1         52.0    0.0      0.5   \n",
       "1179           238           132             1         52.0    0.0      0.5   \n",
       "\n",
       "      tip_amount  tolls_amount  improvement_surcharge  total_amount  \\\n",
       "11         14.58          5.54                    0.3         72.92   \n",
       "110         0.00          0.00                    0.3         52.80   \n",
       "161         0.00          0.00                    0.3         52.80   \n",
       "247         0.00          0.00                    0.3         52.80   \n",
       "379        14.64          5.76                    0.3         73.20   \n",
       "388         0.00          5.54                    0.3         62.84   \n",
       "406         0.00          5.76                    0.3         58.56   \n",
       "449         0.00          5.76                    0.3         58.56   \n",
       "468         0.00          5.76                    0.3         58.56   \n",
       "520         5.00          0.00                    0.3         57.80   \n",
       "569        10.56          0.00                    0.3         63.36   \n",
       "572        11.71          5.76                    0.3         70.27   \n",
       "586        11.71          5.76                    0.3         70.27   \n",
       "692        11.71          5.76                    0.3         70.27   \n",
       "717         5.85          5.76                    0.3         64.41   \n",
       "719        12.60          5.76                    0.3         75.66   \n",
       "782        13.20          0.00                    0.3         66.00   \n",
       "816         2.00          5.54                    0.3         60.34   \n",
       "818        11.71          5.76                    0.3         70.27   \n",
       "835        13.20          0.00                    0.3         66.00   \n",
       "840         0.00          5.76                    0.3         58.56   \n",
       "861         6.00          5.76                    0.3         64.56   \n",
       "881         0.00          0.00                    0.3         52.80   \n",
       "958         0.00          0.00                    0.3         52.80   \n",
       "970        11.67          5.54                    0.3         70.01   \n",
       "984        42.29          0.00                    0.3         99.59   \n",
       "1082        0.00          5.54                    0.3         62.84   \n",
       "1097        0.00          0.00                    0.3         52.80   \n",
       "1110       15.80          0.00                    0.3         68.60   \n",
       "1179       17.57          5.76                    0.3         76.13   \n",
       "\n",
       "       duration pickup_dropoff  mean_distance  mean_duration        day month  \\\n",
       "11    36.800000        236 132      19.211667      40.500000     sunday   mar   \n",
       "110   66.850000        132 163      19.229000      52.941667   saturday   jun   \n",
       "161    0.966667        132 132       2.255862       3.021839   saturday   nov   \n",
       "247   29.183333         132 79      19.431667      47.275000  wednesday   dec   \n",
       "379   29.483333        132 234      17.654000      49.833333     sunday   sep   \n",
       "388   39.833333         132 48      18.761905      58.246032    tuesday   feb   \n",
       "406   15.616667         228 88       4.730000      15.616667     monday   jun   \n",
       "449   45.450000         132 48      18.761905      58.246032   thursday   aug   \n",
       "468   42.850000        186 132      17.096000      42.920000    tuesday   sep   \n",
       "520   71.583333        132 148      17.994286      46.340476     sunday   apr   \n",
       "569   28.883333        132 144      18.537500      37.000000  wednesday   nov   \n",
       "572    0.216667        230 161       0.685484       7.965591    tuesday   jul   \n",
       "586   55.700000        211 132      16.580000      61.691667     monday   jun   \n",
       "692   30.533333        132 170      17.203000      37.113333    tuesday   nov   \n",
       "717   34.033333        132 239      20.901250      44.862500  wednesday   dec   \n",
       "719   57.366667        264 264       3.191516      15.618773     friday   aug   \n",
       "782   52.750000        163 132      17.275833      52.338889     friday   jun   \n",
       "816   48.600000        132 170      17.203000      37.113333    tuesday   feb   \n",
       "818   88.783333        132 246      18.515000      66.316667    tuesday   jun   \n",
       "835   36.983333         132 48      18.761905      58.246032    tuesday   jan   \n",
       "840   45.066667        132 163      19.229000      52.941667     friday   oct   \n",
       "861   28.000000         75 132      18.442500      36.204167   saturday   dec   \n",
       "881   36.000000         68 132      18.785000      58.041667   saturday   dec   \n",
       "958   35.166667        132 261      22.115000      51.493750     sunday   oct   \n",
       "970   33.783333        132 140      19.293333      36.791667     friday   feb   \n",
       "984   55.050000        132 230      18.571200      59.598000  wednesday   aug   \n",
       "1082  14.366667         170 48       1.265789      14.135965    tuesday   feb   \n",
       "1097   2.333333        265 265       0.753077       3.411538     monday   aug   \n",
       "1110  58.400000        239 132      19.795000      50.562500  wednesday   sep   \n",
       "1179  40.666667        238 132      19.470000      53.861111     monday   jun   \n",
       "\n",
       "      rush_hour  \n",
       "11            0  \n",
       "110           0  \n",
       "161           0  \n",
       "247           0  \n",
       "379           0  \n",
       "388           1  \n",
       "406           0  \n",
       "449           0  \n",
       "468           0  \n",
       "520           0  \n",
       "569           0  \n",
       "572           0  \n",
       "586           0  \n",
       "692           0  \n",
       "717           0  \n",
       "719           1  \n",
       "782           1  \n",
       "816           1  \n",
       "818           1  \n",
       "835           0  \n",
       "840           0  \n",
       "861           0  \n",
       "881           0  \n",
       "958           0  \n",
       "970           0  \n",
       "984           1  \n",
       "1082          1  \n",
       "1097          0  \n",
       "1110          0  \n",
       "1179          1  "
      ]
     },
     "execution_count": 33,
     "metadata": {},
     "output_type": "execute_result"
    }
   ],
   "source": [
    "\n",
    "# This line ensures that all columns of the DataFrame are displayed, even if there are many.\n",
    "pd.set_option('display.max_columns', None) \n",
    "\n",
    "# Display the first 30 rows where the fare amount is exactly 52\n",
    "df[df['fare_amount'] == 52].head(30) "
   ]
  },
  {
   "cell_type": "markdown",
   "metadata": {},
   "source": [
    "**Question:** What do you notice about the first 30 trips?\n",
    "\n",
    "Many trips with a fare of $52 either start or end at location 132, and all of them have a RatecodeID of 2.\n",
    "\n",
    "At first, it’s unclear why location 132 has so many trips with this exact fare. These trips happen on different days, at different times, with both vendors, and in all months. However, many of them include toll amounts of $5.76 or $5.54, suggesting that this location is in an area where tolls are common. This makes it likely that location 132 is an airport.\n",
    "\n",
    "According to the data dictionary, RatecodeID 2 refers to trips related to JFK Airport (John F. Kennedy International Airport). A quick Google search confirms that in 2017, NYC taxis had a flat fare of $52 for trips between JFK Airport (Queens) and Manhattan.\n",
    "\n",
    "RatecodeID 2 means the trip follows a fixed fare for JFK Airport rides. After making predictions, we can restore this fixed fare to ensure accuracy."
   ]
  },
  {
   "cell_type": "markdown",
   "metadata": {},
   "source": [
    "### Task 5. Isolate modeling variables\n",
    "\n",
    "Drop features that are redundant, irrelevant, or that will not be available in a deployed environment."
   ]
  },
  {
   "cell_type": "code",
   "execution_count": 34,
   "metadata": {},
   "outputs": [
    {
     "name": "stdout",
     "output_type": "stream",
     "text": [
      "<class 'pandas.core.frame.DataFrame'>\n",
      "RangeIndex: 22699 entries, 0 to 22698\n",
      "Data columns (total 25 columns):\n",
      " #   Column                 Non-Null Count  Dtype         \n",
      "---  ------                 --------------  -----         \n",
      " 0   Unnamed: 0             22699 non-null  int64         \n",
      " 1   VendorID               22699 non-null  int64         \n",
      " 2   tpep_pickup_datetime   22699 non-null  datetime64[ns]\n",
      " 3   tpep_dropoff_datetime  22699 non-null  datetime64[ns]\n",
      " 4   passenger_count        22699 non-null  int64         \n",
      " 5   trip_distance          22699 non-null  float64       \n",
      " 6   RatecodeID             22699 non-null  int64         \n",
      " 7   store_and_fwd_flag     22699 non-null  object        \n",
      " 8   PULocationID           22699 non-null  int64         \n",
      " 9   DOLocationID           22699 non-null  int64         \n",
      " 10  payment_type           22699 non-null  int64         \n",
      " 11  fare_amount            22699 non-null  float64       \n",
      " 12  extra                  22699 non-null  float64       \n",
      " 13  mta_tax                22699 non-null  float64       \n",
      " 14  tip_amount             22699 non-null  float64       \n",
      " 15  tolls_amount           22699 non-null  float64       \n",
      " 16  improvement_surcharge  22699 non-null  float64       \n",
      " 17  total_amount           22699 non-null  float64       \n",
      " 18  duration               22699 non-null  float64       \n",
      " 19  pickup_dropoff         22699 non-null  object        \n",
      " 20  mean_distance          22699 non-null  float64       \n",
      " 21  mean_duration          22699 non-null  float64       \n",
      " 22  day                    22699 non-null  object        \n",
      " 23  month                  22699 non-null  object        \n",
      " 24  rush_hour              22699 non-null  int64         \n",
      "dtypes: datetime64[ns](2), float64(11), int64(8), object(4)\n",
      "memory usage: 4.3+ MB\n"
     ]
    }
   ],
   "source": [
    "df.info()"
   ]
  },
  {
   "cell_type": "code",
   "execution_count": 35,
   "metadata": {},
   "outputs": [
    {
     "name": "stdout",
     "output_type": "stream",
     "text": [
      "<class 'pandas.core.frame.DataFrame'>\n",
      "RangeIndex: 22699 entries, 0 to 22698\n",
      "Data columns (total 6 columns):\n",
      " #   Column           Non-Null Count  Dtype  \n",
      "---  ------           --------------  -----  \n",
      " 0   VendorID         22699 non-null  int64  \n",
      " 1   passenger_count  22699 non-null  int64  \n",
      " 2   fare_amount      22699 non-null  float64\n",
      " 3   mean_distance    22699 non-null  float64\n",
      " 4   mean_duration    22699 non-null  float64\n",
      " 5   rush_hour        22699 non-null  int64  \n",
      "dtypes: float64(3), int64(3)\n",
      "memory usage: 1.0 MB\n"
     ]
    }
   ],
   "source": [
    "df2 = df.copy()\n",
    "df2 = df2.drop(['Unnamed: 0','tpep_pickup_datetime','tpep_dropoff_datetime',\n",
    "                'trip_distance','RatecodeID','store_and_fwd_flag',\n",
    "                'PULocationID','DOLocationID',\n",
    "               'payment_type','extra', 'mta_tax',\n",
    "                'tip_amount','tolls_amount', 'improvement_surcharge', \n",
    "                'total_amount','duration', 'pickup_dropoff','day','month'],axis=1)\n",
    "df2.info()\n",
    "\n"
   ]
  },
  {
   "cell_type": "markdown",
   "metadata": {},
   "source": [
    "### Task 6. Pair plot\n",
    "\n",
    "Create a pairplot to visualize pairwise relationships between `fare_amount`, `mean_duration`, and `mean_distance`."
   ]
  },
  {
   "cell_type": "code",
   "execution_count": 36,
   "metadata": {},
   "outputs": [
    {
     "data": {
      "text/plain": [
       "<seaborn.axisgrid.PairGrid at 0x701871f85c10>"
      ]
     },
     "execution_count": 36,
     "metadata": {},
     "output_type": "execute_result"
    },
    {
     "data": {
      "image/png": "[encoded data removed]",
      "text/plain": [
       "<Figure size 540x540 with 12 Axes>"
      ]
     },
     "metadata": {},
     "output_type": "display_data"
    }
   ],
   "source": [
    "# Create a pairplot to visualize pairwise relationships between variables in the data\n",
    "sns.pairplot(df2[['fare_amount', 'mean_duration', 'mean_distance']],plot_kws={'alpha':0.4, 'size':5})"
   ]
  },
  {
   "cell_type": "markdown",
   "metadata": {},
   "source": [
    "These variables all show linear correlation with each other. Investigate this further."
   ]
  },
  {
   "cell_type": "markdown",
   "metadata": {},
   "source": [
    "### Task 7. Identify correlations"
   ]
  },
  {
   "cell_type": "markdown",
   "metadata": {},
   "source": [
    "Next, code a correlation matrix to help determine most correlated variables."
   ]
  },
  {
   "cell_type": "code",
   "execution_count": 37,
   "metadata": {},
   "outputs": [
    {
     "data": {
      "text/html": [
       "<div>\n",
       "<style scoped>\n",
       "    .dataframe tbody tr th:only-of-type {\n",
       "        vertical-align: middle;\n",
       "    }\n",
       "\n",
       "    .dataframe tbody tr th {\n",
       "        vertical-align: top;\n",
       "    }\n",
       "\n",
       "    .dataframe thead th {\n",
       "        text-align: right;\n",
       "    }\n",
       "</style>\n",
       "<table border=\"1\" class=\"dataframe\">\n",
       "  <thead>\n",
       "    <tr style=\"text-align: right;\">\n",
       "      <th></th>\n",
       "      <th>VendorID</th>\n",
       "      <th>passenger_count</th>\n",
       "      <th>fare_amount</th>\n",
       "      <th>mean_distance</th>\n",
       "      <th>mean_duration</th>\n",
       "      <th>rush_hour</th>\n",
       "    </tr>\n",
       "  </thead>\n",
       "  <tbody>\n",
       "    <tr>\n",
       "      <th>VendorID</th>\n",
       "      <td>1.000000</td>\n",
       "      <td>0.266463</td>\n",
       "      <td>0.001045</td>\n",
       "      <td>0.004741</td>\n",
       "      <td>0.001876</td>\n",
       "      <td>-0.002874</td>\n",
       "    </tr>\n",
       "    <tr>\n",
       "      <th>passenger_count</th>\n",
       "      <td>0.266463</td>\n",
       "      <td>1.000000</td>\n",
       "      <td>0.014942</td>\n",
       "      <td>0.013428</td>\n",
       "      <td>0.015852</td>\n",
       "      <td>-0.022035</td>\n",
       "    </tr>\n",
       "    <tr>\n",
       "      <th>fare_amount</th>\n",
       "      <td>0.001045</td>\n",
       "      <td>0.014942</td>\n",
       "      <td>1.000000</td>\n",
       "      <td>0.910185</td>\n",
       "      <td>0.859105</td>\n",
       "      <td>-0.020075</td>\n",
       "    </tr>\n",
       "    <tr>\n",
       "      <th>mean_distance</th>\n",
       "      <td>0.004741</td>\n",
       "      <td>0.013428</td>\n",
       "      <td>0.910185</td>\n",
       "      <td>1.000000</td>\n",
       "      <td>0.874864</td>\n",
       "      <td>-0.039725</td>\n",
       "    </tr>\n",
       "    <tr>\n",
       "      <th>mean_duration</th>\n",
       "      <td>0.001876</td>\n",
       "      <td>0.015852</td>\n",
       "      <td>0.859105</td>\n",
       "      <td>0.874864</td>\n",
       "      <td>1.000000</td>\n",
       "      <td>-0.021583</td>\n",
       "    </tr>\n",
       "    <tr>\n",
       "      <th>rush_hour</th>\n",
       "      <td>-0.002874</td>\n",
       "      <td>-0.022035</td>\n",
       "      <td>-0.020075</td>\n",
       "      <td>-0.039725</td>\n",
       "      <td>-0.021583</td>\n",
       "      <td>1.000000</td>\n",
       "    </tr>\n",
       "  </tbody>\n",
       "</table>\n",
       "</div>"
      ],
      "text/plain": [
       "                 VendorID  passenger_count  fare_amount  mean_distance  \\\n",
       "VendorID         1.000000         0.266463     0.001045       0.004741   \n",
       "passenger_count  0.266463         1.000000     0.014942       0.013428   \n",
       "fare_amount      0.001045         0.014942     1.000000       0.910185   \n",
       "mean_distance    0.004741         0.013428     0.910185       1.000000   \n",
       "mean_duration    0.001876         0.015852     0.859105       0.874864   \n",
       "rush_hour       -0.002874        -0.022035    -0.020075      -0.039725   \n",
       "\n",
       "                 mean_duration  rush_hour  \n",
       "VendorID              0.001876  -0.002874  \n",
       "passenger_count       0.015852  -0.022035  \n",
       "fare_amount           0.859105  -0.020075  \n",
       "mean_distance         0.874864  -0.039725  \n",
       "mean_duration         1.000000  -0.021583  \n",
       "rush_hour            -0.021583   1.000000  "
      ]
     },
     "execution_count": 37,
     "metadata": {},
     "output_type": "execute_result"
    }
   ],
   "source": [
    "# Correlation matrix to help determine most correlated variables\n",
    "df2.corr(method='pearson')"
   ]
  },
  {
   "cell_type": "code",
   "execution_count": 38,
   "metadata": {},
   "outputs": [
    {
     "name": "stdout",
     "output_type": "stream",
     "text": [
      ",VendorID,passenger_count,fare_amount,mean_distance,mean_duration,rush_hour\n",
      "VendorID,1.0,0.26646321339067147,0.0010452538428770573,0.004740820009934476,0.0018762596908186767,-0.002873800102198543\n",
      "passenger_count,0.26646321339067147,1.0,0.014941609326788233,0.01342763726664352,0.015852073557633503,-0.022035171712455292\n",
      "fare_amount,0.0010452538428770573,0.014941609326788233,1.0,0.9101854602134332,0.8591054447614108,-0.020075469426999285\n",
      "mean_distance,0.004740820009934476,0.01342763726664352,0.9101854602134332,1.0,0.8748640408470973,-0.039725371388227404\n",
      "mean_duration,0.0018762596908186767,0.015852073557633503,0.8591054447614108,0.8748640408470973,1.0,-0.021582769345393524\n",
      "rush_hour,-0.002873800102198543,-0.022035171712455292,-0.020075469426999285,-0.039725371388227404,-0.021582769345393524,1.0\n",
      "\n"
     ]
    }
   ],
   "source": [
    "print(df2.corr(method='pearson').to_csv())"
   ]
  },
  {
   "cell_type": "markdown",
   "metadata": {},
   "source": [
    "Visualize a correlation heatmap of the data."
   ]
  },
  {
   "cell_type": "code",
   "execution_count": 39,
   "metadata": {},
   "outputs": [
    {
     "data": {
      "image/png": "[encoded data removed]",
      "text/plain": [
       "<Figure size 432x288 with 2 Axes>"
      ]
     },
     "metadata": {},
     "output_type": "display_data"
    }
   ],
   "source": [
    "# Create correlation heatmap\n",
    "plt.figure(figsize=(6,4))\n",
    "sns.heatmap(df2.corr(method='pearson'),annot=True, cmap='Reds')\n",
    "plt.title('Correlation heatmap',\n",
    "          fontsize=18)\n",
    "plt.show()"
   ]
  },
  {
   "cell_type": "markdown",
   "metadata": {},
   "source": [
    "**Question:** Which variable(s) are correlated with the target variable of `fare_amount`? \n",
    "\n",
    "Mean duration and mean distance are both strongly related to fare amount. They also have a high correlation with each other (0.87).\n",
    "\n",
    "In linear regression, highly correlated predictors can be a problem if you want to understand the impact of each variable. However, if accurate predictions are more important than interpretation, using correlated variables is fine.\n",
    "\n",
    "Since the goal is to predict fare amount for machine learning models, it's worth testing the model with both variables, even though they are correlated.\n",
    "\n",
    "Therefor, Try modeling with both variables even though they are correlated."
   ]
  },
  {
   "cell_type": "markdown",
   "metadata": {},
   "source": [
    "**Even though rush_hour has a weak correlation with fare_amount and others, it might still impact fares in non-linear ways. So, we keep it in the model**\n",
    "\n",
    "A non-linear relationship means that the effect of one variable on another isn’t a constant, straight-line change. For example, during rush hour, fares might not always increase by the same amount; the effect could be small at some times and larger at others depending on conditions like traffic congestion. So, even if the direct (linear) correlation is weak, rush_hour could still impact fares in more complex, non-linear ways.\n",
    "\n",
    "Even though VendorID and passenger_count show weak individual correlations with fare_amount, they may still add value in the model.Their impact might be non-linear or only noticeable under certain conditions, which a machine learning model can capture even if a simple correlation measure doesn't show it strongly."
   ]
  },
  {
   "cell_type": "markdown",
   "metadata": {
    "id": "lgPul2DiY6T4"
   },
   "source": [
    "<img src=\"images/Construct.png\" width=\"100\" height=\"100\" align=left>\n",
    "\n",
    "## PACE: **Construct**\n",
    "\n",
    "After analysis and deriving variables with close relationships, it is time to begin constructing the model. Consider the questions in your PACE Strategy Document to reflect on the Construct stage.\n"
   ]
  },
  {
   "cell_type": "markdown",
   "metadata": {
    "id": "P_QYzJfVUrIc"
   },
   "source": [
    "### Task 8a. Split data into outcome variable and features"
   ]
  },
  {
   "cell_type": "code",
   "execution_count": 40,
   "metadata": {
    "id": "AzcDgLRET4d7"
   },
   "outputs": [
    {
     "name": "stdout",
     "output_type": "stream",
     "text": [
      "<class 'pandas.core.frame.DataFrame'>\n",
      "RangeIndex: 22699 entries, 0 to 22698\n",
      "Data columns (total 6 columns):\n",
      " #   Column           Non-Null Count  Dtype  \n",
      "---  ------           --------------  -----  \n",
      " 0   VendorID         22699 non-null  int64  \n",
      " 1   passenger_count  22699 non-null  int64  \n",
      " 2   fare_amount      22699 non-null  float64\n",
      " 3   mean_distance    22699 non-null  float64\n",
      " 4   mean_duration    22699 non-null  float64\n",
      " 5   rush_hour        22699 non-null  int64  \n",
      "dtypes: float64(3), int64(3)\n",
      "memory usage: 1.0 MB\n"
     ]
    }
   ],
   "source": [
    "df2.info()\n",
    "\n"
   ]
  },
  {
   "cell_type": "markdown",
   "metadata": {},
   "source": [
    "Set your X and y variables. X represents the features and y represents the outcome (target) variable."
   ]
  },
  {
   "cell_type": "code",
   "execution_count": 41,
   "metadata": {},
   "outputs": [
    {
     "data": {
      "text/html": [
       "<div>\n",
       "<style scoped>\n",
       "    .dataframe tbody tr th:only-of-type {\n",
       "        vertical-align: middle;\n",
       "    }\n",
       "\n",
       "    .dataframe tbody tr th {\n",
       "        vertical-align: top;\n",
       "    }\n",
       "\n",
       "    .dataframe thead th {\n",
       "        text-align: right;\n",
       "    }\n",
       "</style>\n",
       "<table border=\"1\" class=\"dataframe\">\n",
       "  <thead>\n",
       "    <tr style=\"text-align: right;\">\n",
       "      <th></th>\n",
       "      <th>VendorID</th>\n",
       "      <th>passenger_count</th>\n",
       "      <th>mean_distance</th>\n",
       "      <th>mean_duration</th>\n",
       "      <th>rush_hour</th>\n",
       "    </tr>\n",
       "  </thead>\n",
       "  <tbody>\n",
       "    <tr>\n",
       "      <th>0</th>\n",
       "      <td>2</td>\n",
       "      <td>6</td>\n",
       "      <td>3.521667</td>\n",
       "      <td>22.847222</td>\n",
       "      <td>0</td>\n",
       "    </tr>\n",
       "    <tr>\n",
       "      <th>1</th>\n",
       "      <td>1</td>\n",
       "      <td>1</td>\n",
       "      <td>3.108889</td>\n",
       "      <td>24.470370</td>\n",
       "      <td>0</td>\n",
       "    </tr>\n",
       "    <tr>\n",
       "      <th>2</th>\n",
       "      <td>1</td>\n",
       "      <td>1</td>\n",
       "      <td>0.881429</td>\n",
       "      <td>7.250000</td>\n",
       "      <td>1</td>\n",
       "    </tr>\n",
       "    <tr>\n",
       "      <th>3</th>\n",
       "      <td>2</td>\n",
       "      <td>1</td>\n",
       "      <td>3.700000</td>\n",
       "      <td>30.250000</td>\n",
       "      <td>0</td>\n",
       "    </tr>\n",
       "    <tr>\n",
       "      <th>4</th>\n",
       "      <td>2</td>\n",
       "      <td>1</td>\n",
       "      <td>4.435000</td>\n",
       "      <td>14.616667</td>\n",
       "      <td>0</td>\n",
       "    </tr>\n",
       "  </tbody>\n",
       "</table>\n",
       "</div>"
      ],
      "text/plain": [
       "   VendorID  passenger_count  mean_distance  mean_duration  rush_hour\n",
       "0         2                6       3.521667      22.847222          0\n",
       "1         1                1       3.108889      24.470370          0\n",
       "2         1                1       0.881429       7.250000          1\n",
       "3         2                1       3.700000      30.250000          0\n",
       "4         2                1       4.435000      14.616667          0"
      ]
     },
     "execution_count": 41,
     "metadata": {},
     "output_type": "execute_result"
    }
   ],
   "source": [
    "# Remove the target column from the features\n",
    "X = df2.drop(columns='fare_amount')\n",
    "\n",
    "# Set y variable\n",
    "y = df2[['fare_amount']]\n",
    "\n",
    "# Display first few rows\n",
    "X.head()\n"
   ]
  },
  {
   "cell_type": "markdown",
   "metadata": {
    "id": "o3ArC_5xa7Oi"
   },
   "source": [
    "### Task 8b. Pre-process data\n"
   ]
  },
  {
   "cell_type": "markdown",
   "metadata": {
    "id": "PdfTaopCcbTj"
   },
   "source": [
    "Dummy encode categorical variables"
   ]
  },
  {
   "cell_type": "markdown",
   "metadata": {},
   "source": [
    "Although VendorID is stored as an integer, we know it represents a categorical variable.\n",
    "\n",
    "Converting it to a string makes it clear that the variable is categorical and should be treated as such."
   ]
  },
  {
   "cell_type": "code",
   "execution_count": 42,
   "metadata": {
    "id": "4Y3T2poF28fP"
   },
   "outputs": [
    {
     "data": {
      "text/html": [
       "<div>\n",
       "<style scoped>\n",
       "    .dataframe tbody tr th:only-of-type {\n",
       "        vertical-align: middle;\n",
       "    }\n",
       "\n",
       "    .dataframe tbody tr th {\n",
       "        vertical-align: top;\n",
       "    }\n",
       "\n",
       "    .dataframe thead th {\n",
       "        text-align: right;\n",
       "    }\n",
       "</style>\n",
       "<table border=\"1\" class=\"dataframe\">\n",
       "  <thead>\n",
       "    <tr style=\"text-align: right;\">\n",
       "      <th></th>\n",
       "      <th>VendorID</th>\n",
       "      <th>passenger_count</th>\n",
       "      <th>mean_distance</th>\n",
       "      <th>mean_duration</th>\n",
       "      <th>rush_hour</th>\n",
       "    </tr>\n",
       "  </thead>\n",
       "  <tbody>\n",
       "    <tr>\n",
       "      <th>0</th>\n",
       "      <td>1</td>\n",
       "      <td>6</td>\n",
       "      <td>3.521667</td>\n",
       "      <td>22.847222</td>\n",
       "      <td>0</td>\n",
       "    </tr>\n",
       "    <tr>\n",
       "      <th>1</th>\n",
       "      <td>0</td>\n",
       "      <td>1</td>\n",
       "      <td>3.108889</td>\n",
       "      <td>24.470370</td>\n",
       "      <td>0</td>\n",
       "    </tr>\n",
       "    <tr>\n",
       "      <th>2</th>\n",
       "      <td>0</td>\n",
       "      <td>1</td>\n",
       "      <td>0.881429</td>\n",
       "      <td>7.250000</td>\n",
       "      <td>1</td>\n",
       "    </tr>\n",
       "    <tr>\n",
       "      <th>3</th>\n",
       "      <td>1</td>\n",
       "      <td>1</td>\n",
       "      <td>3.700000</td>\n",
       "      <td>30.250000</td>\n",
       "      <td>0</td>\n",
       "    </tr>\n",
       "    <tr>\n",
       "      <th>4</th>\n",
       "      <td>1</td>\n",
       "      <td>1</td>\n",
       "      <td>4.435000</td>\n",
       "      <td>14.616667</td>\n",
       "      <td>0</td>\n",
       "    </tr>\n",
       "  </tbody>\n",
       "</table>\n",
       "</div>"
      ],
      "text/plain": [
       "   VendorID  passenger_count  mean_distance  mean_duration  rush_hour\n",
       "0         1                6       3.521667      22.847222          0\n",
       "1         0                1       3.108889      24.470370          0\n",
       "2         0                1       0.881429       7.250000          1\n",
       "3         1                1       3.700000      30.250000          0\n",
       "4         1                1       4.435000      14.616667          0"
      ]
     },
     "execution_count": 42,
     "metadata": {},
     "output_type": "execute_result"
    }
   ],
   "source": [
    "# Convert the 'VendorID' column to a string data type.\n",
    "# Although VendorID is stored as an integer, it actually represents a categorical variable (e.g., different taxi companies).\n",
    "X['VendorID'] = X['VendorID'].astype(str)\n",
    "\n",
    "# Convert all categorical variables in DataFrame X to dummy variables.\n",
    "# pd.get_dummies() creates new binary columns (0 or 1) for each category.\n",
    "# 'drop_first=True' drops the first category of each variable to avoid multicollinearity.\n",
    "X['VendorID'] = pd.get_dummies(X['VendorID'], drop_first=True)\n",
    "\n",
    "# Display the first few rows of the updated DataFrame to verify the changes.\n",
    "X.head()\n",
    "\n"
   ]
  },
  {
   "cell_type": "code",
   "execution_count": 43,
   "metadata": {},
   "outputs": [
    {
     "name": "stdout",
     "output_type": "stream",
     "text": [
      "uint8\n"
     ]
    }
   ],
   "source": [
    "print(X['VendorID'].dtype)"
   ]
  },
  {
   "cell_type": "markdown",
   "metadata": {},
   "source": [
    "When  dummy encode a categorical variable with only two categories (like VendorID converted to 0 and 1), the resulting column is numeric (0s and 1s) and often stored as uint8.So, our VendorID column has been converted into a dummy variable."
   ]
  },
  {
   "cell_type": "markdown",
   "metadata": {},
   "source": [
    "### Split data into training and test sets"
   ]
  },
  {
   "cell_type": "markdown",
   "metadata": {},
   "source": [
    "Create training and testing sets. The test set should contain 20% of the total samples. Set `random_state=0`."
   ]
  },
  {
   "cell_type": "code",
   "execution_count": 44,
   "metadata": {
    "id": "A2BNUvacwaZY"
   },
   "outputs": [],
   "source": [
    "# Create training and testing sets\n",
    "X_train, X_test, y_train, y_test = train_test_split(X, y, test_size = 0.2, random_state = 0)\n"
   ]
  },
  {
   "cell_type": "markdown",
   "metadata": {
    "id": "iDYyjWssbnBG"
   },
   "source": [
    "### Standardize the data\n",
    "\n",
    "Use `StandardScaler()`, `fit()`, and `transform()` to standardize the `X_train` variables. Assign the results to a variable called `X_train_scaled`."
   ]
  },
  {
   "cell_type": "markdown",
   "metadata": {},
   "source": [
    "**Equal Weight for All Features:** Standardization ensures that features are on a similar scale so that one feature doesn't dominate others due to its scale.\n",
    "**Improved Model Performance** Perform better when the data is standardized."
   ]
  },
  {
   "cell_type": "code",
   "execution_count": 45,
   "metadata": {},
   "outputs": [
    {
     "name": "stdout",
     "output_type": "stream",
     "text": [
      "X_train scaled: [[ 0.89286563 -0.50301524  0.8694684   0.17616665 -0.64893329]\n",
      " [ 0.89286563 -0.50301524 -0.60011281 -0.69829589  1.54099045]\n",
      " [-1.11998936  0.27331093 -0.47829156 -0.57301906 -0.64893329]\n",
      " ...\n",
      " [-1.11998936 -0.50301524 -0.45121122 -0.6788917  -0.64893329]\n",
      " [-1.11998936 -0.50301524 -0.58944763 -0.85743597  1.54099045]\n",
      " [ 0.89286563  1.82596329  0.83673851  1.13212101 -0.64893329]]\n"
     ]
    }
   ],
   "source": [
    "# Standardize the X variables\n",
    "\n",
    "# Create a StandardScaler object and fit it to the training features.\n",
    "# This calculates the mean and standard deviation for each feature in X_train.\n",
    "scaler = StandardScaler().fit(X_train)\n",
    "\n",
    "# Use the scaler to transform X_train.\n",
    "# This standardizes the features by subtracting the mean and dividing by the standard deviation,\n",
    "# resulting in each feature having a mean of 0 and a standard deviation of 1.\n",
    "X_train_scaled = scaler.transform(X_train)\n",
    "\n",
    "# Print the standardized training data to verify the transformation.\n",
    "print('X_train scaled:', X_train_scaled)"
   ]
  },
  {
   "cell_type": "markdown",
   "metadata": {
    "id": "wk0rjKeO3JLv"
   },
   "source": [
    "### Fit the model\n",
    "\n",
    "Instantiate your model and fit it to the training data."
   ]
  },
  {
   "cell_type": "code",
   "execution_count": 46,
   "metadata": {
    "id": "SClNm5hWotj6"
   },
   "outputs": [
    {
     "data": {
      "text/plain": [
       "LinearRegression(copy_X=True, fit_intercept=True, n_jobs=None, normalize=False)"
      ]
     },
     "execution_count": 46,
     "metadata": {},
     "output_type": "execute_result"
    }
   ],
   "source": [
    "# Fit your model to the training data\n",
    "\n",
    "# Instantiate the model:\n",
    "# Create an instance of the LinearRegression model with default settings.\n",
    "# This step allocates memory and initializes the model's internal parameters.\n",
    "lr = LinearRegression()  \n",
    "\n",
    "# Fit the model to the training data:\n",
    "# The fit() method is an instance method, so it must be called on the model instance 'lr'.\n",
    "# This trains the model by finding the best-fitting line through the data (X_train_scaled) to predict y_train.\n",
    "lr.fit(X_train_scaled, y_train)\n"
   ]
  },
  {
   "cell_type": "markdown",
   "metadata": {
    "id": "HMj6QkK1cLmS"
   },
   "source": [
    "### Task 8c. Evaluate model"
   ]
  },
  {
   "cell_type": "markdown",
   "metadata": {
    "id": "AromLx7t5hjt"
   },
   "source": [
    "### Train data\n",
    "\n",
    "Evaluate your model performance by calculating the residual sum of squares and the explained variance score (R^2). Calculate the Mean Absolute Error, Mean Squared Error, and the Root Mean Squared Error."
   ]
  },
  {
   "cell_type": "code",
   "execution_count": 47,
   "metadata": {
    "id": "33rE1x9e3U6t"
   },
   "outputs": [
    {
     "name": "stdout",
     "output_type": "stream",
     "text": [
      "Coefficient of determination (R²) using lr.score: 0.8398434585044773\n",
      "Coefficient of determination (R²) using r2_score: 0.8398434585044773\n",
      "MAE: 2.1866664167754135\n",
      "MSE: 17.88973296349268\n",
      "RMSE: 4.229625629236313\n"
     ]
    }
   ],
   "source": [
    "# Evaluate the model performance on the training data\n",
    "\n",
    "# we use two  methods are used to calculate R² for Cross-Verification:\n",
    "\n",
    "#  Method 1 : Using the model's score() method.\n",
    "# lr.score() takes in the features (X_train_scaled) and the true target values (y_train),\n",
    "# automatically makes predictions internally, and then computes R² by comparing these predictions to y_train.\n",
    "r_sq = lr.score(X_train_scaled, y_train)\n",
    "print(\"Coefficient of determination (R²) using lr.score:\", r_sq)\n",
    "\n",
    "# Method 2 : Using the r2_score() function.\n",
    "# First, we manually predict the target values using the model:\n",
    "y_pred_train = lr.predict(X_train_scaled)\n",
    "# Then, we pass the actual values (y_train) and the predicted values (y_pred_train) to r2_score() to compute R².\n",
    "r2 = r2_score(y_train, y_pred_train)\n",
    "print(\"Coefficient of determination (R²) using r2_score:\", r2)\n",
    "\n",
    "# Both methods ultimately compare the predicted values to the actual values,\n",
    "# but lr.score() does the prediction step for you automatically.\n",
    "\n",
    "\n",
    "# Calculate and print the Mean Absolute Error (MAE)\n",
    "print('MAE:', mean_absolute_error(y_train, y_pred_train))\n",
    "\n",
    "# Calculate and print the Mean Squared Error (MSE)\n",
    "print('MSE:', mean_squared_error(y_train, y_pred_train))\n",
    "\n",
    "# Calculate and print the Root Mean Squared Error (RMSE)\n",
    "print('RMSE:', np.sqrt(mean_squared_error(y_train, y_pred_train)))"
   ]
  },
  {
   "cell_type": "markdown",
   "metadata": {},
   "source": [
    "**R²**\n",
    "\n",
    "Maximum Value: The best R² can be is 1.0 (or 100%).\n",
    "\n",
    "Our Model: With an R² of 0.84, the model explains 84% of the variance in the target variable.\n",
    "\n",
    "Comparison: A perfect model (with no error) would score 1.0, so our 0.84 is close to that ideal.\n",
    "\n",
    "\n",
    "**MAE (Mean Absolute Error):**\n",
    "\n",
    "Best case: MAE = 0 (perfect predictions). Here, our model's MAE is 2.19, meaning on average, the predictions are off by $2.19 from the actual fares.\n",
    "\n",
    "**MSE (Mean Squared Error):**\n",
    "\n",
    "Best case: MSE = 0 (perfect predictions).\n",
    "In our case, the MSE is 17.89. This metric squares the errors, so larger mistakes have a bigger impact.\n",
    "\n",
    "**RMSE (Root Mean Squared Error):**\n",
    "\n",
    "Best case: RMSE = 0 (perfect predictions).\n",
    "Our model's RMSE is 4.23, which gives the average error in the same units as the target variable (dollars)."
   ]
  },
  {
   "cell_type": "markdown",
   "metadata": {},
   "source": [
    "### Test data\n",
    "\n",
    "Calculate the same metrics on the test data. Remember to scale the `X_test` data using the scaler that was fit to the training data. Do not refit the scaler to the testing data, just transform it. Call the results `X_test_scaled`."
   ]
  },
  {
   "cell_type": "code",
   "execution_count": 48,
   "metadata": {},
   "outputs": [],
   "source": [
    "# Scale the X_test data\n",
    "X_test_scaled = scaler.transform(X_test)"
   ]
  },
  {
   "cell_type": "code",
   "execution_count": 49,
   "metadata": {
    "id": "P5nXSpRCVXq6"
   },
   "outputs": [
    {
     "name": "stdout",
     "output_type": "stream",
     "text": [
      "Coefficient of determination: 0.8682583641795454\n",
      "R^2: 0.8682583641795454\n",
      "MAE: 2.1336549840593864\n",
      "MSE: 14.326454156998944\n",
      "RMSE: 3.785030271609323\n"
     ]
    }
   ],
   "source": [
    "# Evaluate the model performance on the testing data\n",
    "# Evaluate the model performance on the testing data\n",
    "r_sq_test = lr.score(X_test_scaled, y_test)\n",
    "print('Coefficient of determination:', r_sq_test)\n",
    "y_pred_test = lr.predict(X_test_scaled)\n",
    "print('R^2:', r2_score(y_test, y_pred_test))\n",
    "print('MAE:', mean_absolute_error(y_test,y_pred_test))\n",
    "print('MSE:', mean_squared_error(y_test, y_pred_test))\n",
    "print('RMSE:',np.sqrt(mean_squared_error(y_test, y_pred_test)))\n"
   ]
  },
  {
   "cell_type": "markdown",
   "metadata": {},
   "source": [
    "T**he results for the test set are:**\n",
    "\n",
    "Coefficient of determination (R²): 0.8683\n",
    "\n",
    "MAE: 2.13\n",
    "\n",
    "MSE: 14.33\n",
    "\n",
    "RMSE: 3.79\n",
    "\n",
    "**Comparing with the Training Data:**\n",
    "\n",
    "Training R²: ~0.84\n",
    "\n",
    "Training MAE: ~2.19\n",
    "\n",
    "Training MSE: ~17.89\n",
    "\n",
    "Training RMSE: ~4.23\n",
    "\n",
    "**Conclusion:**\n",
    "\n",
    "    * Slightly Better Test Performance: The test R² (0.8683) is a bit higher than the training R² (0.84), and the error metrics (MAE, MSE, RMSE) are lower on the test set.\n",
    "\n",
    "    * Good Generalization:This indicates that the model performs well on unseen data and is not overfitting.\n",
    "\n",
    "    * Consistent Results:The model's performance is consistent between training and testing, suggesting it has learned a reliable relationship between the features and the target variable.\n",
    "\n",
    "**Overall, the model generalizes well and can be expected to perform reliably on new data.**"
   ]
  },
  {
   "cell_type": "markdown",
   "metadata": {
    "id": "L3MCKUhPJLi5"
   },
   "source": [
    "<img src=\"images/Execute.png\" width=\"100\" height=\"100\" align=left>\n",
    "\n",
    "## PACE: **Execute**\n",
    "\n",
    "Consider the questions in your PACE Strategy Document to reflect on the Execute stage."
   ]
  },
  {
   "cell_type": "markdown",
   "metadata": {
    "id": "F_l3bkxQdJ3a"
   },
   "source": [
    "### Task 9a. Results\n",
    "\n",
    "Use the code cell below to get `actual`,`predicted`, and `residual` for the testing set, and store them as columns in a `results` dataframe."
   ]
  },
  {
   "cell_type": "code",
   "execution_count": 50,
   "metadata": {
    "id": "cSl5gbXfBPBN"
   },
   "outputs": [
    {
     "name": "stdout",
     "output_type": "stream",
     "text": [
      "       actual  predicted   residual\n",
      "5818     14.0  12.356503   1.643497\n",
      "18134    28.0  16.314595  11.685405\n",
      "4655      5.5   6.726789  -1.226789\n",
      "7378     15.5  16.227206  -0.727206\n",
      "13914     9.5  10.536408  -1.036408\n"
     ]
    }
   ],
   "source": [
    "# Create a `results` dataframe\n",
    "\n",
    "# This further confirms that the analysis (i.e., comparing actual vs. predicted values)\n",
    "# This is based on the test data.\n",
    "\n",
    "# Create a DataFrame to compare actual vs. predicted values for the test set\n",
    "\n",
    "# ravel() is a NumPy method that converts a multi-dimensional array into a 1D array.\n",
    "# For example, if y_pred_test is a column vector (shape: (n, 1)),\n",
    "# y_pred_test.ravel() turns it into a simple 1D list of values (shape: (n,)).\n",
    "# Syntax: pd.DataFrame(data=None, index=None, columns=None, dtype=None, copy=False)\n",
    "# data = {'col1': [1, 2, 3], 'col2': [4, 5, 6]}\n",
    "\n",
    "\n",
    "results = pd.DataFrame(data={'actual': y_test['fare_amount'],  \n",
    "                             'predicted': y_pred_test.ravel() }) # y_pred_test = lr.predict(X_test_scaled)\n",
    "\n",
    "# Calculate residuals: the difference between actual and predicted values\n",
    "results['residual'] = results['actual'] - results['predicted']\n",
    "\n",
    "# Display the first few rows of the results DataFrame\n",
    "print(results.head())\n",
    "\n",
    "\n",
    "\n"
   ]
  },
  {
   "cell_type": "markdown",
   "metadata": {},
   "source": [
    "* A positive residual  means the model under-predicted the fare.\n",
    "* A negative residual  means the model over-predicted the fare.\n",
    "* This snapshot indicates that while the model generally makes reasonable predictions, there are individual cases (like row 18134) where the prediction error is high. This could be due to outliers or specific trip characteristics that the model doesn't fully capture.\n",
    "* this dataframe helps you see both the direction (over- or under-prediction) and the size of the errors for individual test samples."
   ]
  },
  {
   "cell_type": "markdown",
   "metadata": {
    "id": "mwRmSDS3eyeH"
   },
   "source": [
    "### Task 9b. Visualize model results"
   ]
  },
  {
   "cell_type": "markdown",
   "metadata": {
    "id": "y3vQ-mB51dfd"
   },
   "source": [
    "Create a scatterplot to visualize `actual` vs. `predicted`."
   ]
  },
  {
   "cell_type": "code",
   "execution_count": 52,
   "metadata": {
    "id": "IBFU_dicBjwQ"
   },
   "outputs": [
    {
     "data": {
      "text/plain": [
       "Text(0.5, 1.0, 'Actual vs. Predicted')"
      ]
     },
     "execution_count": 52,
     "metadata": {},
     "output_type": "execute_result"
    },
    {
     "data": {
      "image/png": "[encoded data removed]",
      "text/plain": [
       "<Figure size 432x432 with 1 Axes>"
      ]
     },
     "metadata": {},
     "output_type": "display_data"
    }
   ],
   "source": [
    "# Create a scatterplot to visualize `predicted` over `actual`\n",
    "\n",
    "\n",
    "fig, ax = plt.subplots(figsize=(6, 6))# Create a figure and axis for the scatterplot with a fixed size (6x6 inches)\n",
    "\n",
    "sns.set(style='whitegrid')# Set the Seaborn style to 'whitegrid' for a clean background with gridlines\n",
    "\n",
    "\n",
    "# Create a scatterplot to visualize predicted values versus actual values.\n",
    "# x='actual' and y='predicted' specify which columns to plot from the 'results' DataFrame.\n",
    "# s=20 sets the marker size, and alpha=0.5 makes the markers semi-transparent.\n",
    "sns.scatterplot(x='actual',\n",
    "                y='predicted',\n",
    "                data=results,\n",
    "                s=20,\n",
    "                alpha=0.5,\n",
    "                ax=ax)\n",
    "\n",
    "# Draw a diagonal line (x = y) from (0, 0) to (60, 60) in red with a line width of 2.\n",
    "# Since we know that a perfect prediction means predicted = actual,\n",
    "# we manually draw this diagonal line using plt.plot().\n",
    "# This line helps visually compare how well the model's predictions match the actual values.\n",
    "# If all points lie on this line, the model would be perfect; deviations indicate prediction errors.\n",
    "plt.plot([0, 60], [0, 60], c='red', linewidth=2)\n",
    "\n",
    "\n",
    "# Add a title to the plot\n",
    "plt.title('Actual vs. Predicted')\n"
   ]
  },
  {
   "cell_type": "markdown",
   "metadata": {},
   "source": [
    "* Since we know that a perfect prediction means predicted = actual, we manually draw a diagonal line from (0,0) to (60,60) using plt.plot([0,60], [0,60], c='red', linewidth=2). This line helps visually compare how well the model's predictions match the actual values. If all points lie on this line, the model is perfect. If they deviate, the model has some error."
   ]
  },
  {
   "cell_type": "markdown",
   "metadata": {
    "id": "IbO71S_R9IcY"
   },
   "source": [
    "Visualize the distribution of the `residuals` using a histogram."
   ]
  },
  {
   "cell_type": "code",
   "execution_count": 53,
   "metadata": {
    "id": "3a0UYoEr9Nx6"
   },
   "outputs": [
    {
     "data": {
      "text/plain": [
       "Text(0, 0.5, 'count')"
      ]
     },
     "execution_count": 53,
     "metadata": {},
     "output_type": "execute_result"
    },
    {
     "data": {
      "image/png": "[encoded data removed]",
      "text/plain": [
       "<Figure size 432x288 with 1 Axes>"
      ]
     },
     "metadata": {},
     "output_type": "display_data"
    }
   ],
   "source": [
    "# Visualize the distribution of the `residuals`\n",
    "\n",
    "# 'bins=np.arange(-15, 15.5, 0.5)' creates an array of bin edges starting at -15, ending at 15.5, with intervals of 0.5.\n",
    "sns.histplot(results['residual'], bins=np.arange(-15, 15.5, 0.5))# results['residual'] = results['actual'] - results['predicted']\n",
    "\n",
    "\n",
    "plt.title('Distribution of the residuals')\n",
    "plt.xlabel('residual value')\n",
    "plt.ylabel('count')\n",
    "\n",
    "\n"
   ]
  },
  {
   "cell_type": "code",
   "execution_count": 55,
   "metadata": {},
   "outputs": [
    {
     "data": {
      "text/plain": [
       "-0.015442621528680731"
      ]
     },
     "execution_count": 55,
     "metadata": {},
     "output_type": "execute_result"
    }
   ],
   "source": [
    "# Calculate residual mean\n",
    "results['residual'].mean()"
   ]
  },
  {
   "cell_type": "markdown",
   "metadata": {},
   "source": [
    "* The result of results'residual'.mean() is approximately 0.015, which is very close to zero. \n",
    "\n",
    "* Mean near Zero: A mean residual close to zero indicates that, on average, the model's prediction errors cancel out. This means the model doesn't consistently over-predict or under-predict.\n",
    "\n",
    "* Having a mean residual near zero and an approximately normal residual distribution means that the model's errors are random and unbiased, which is desirable for a reliable model."
   ]
  },
  {
   "cell_type": "markdown",
   "metadata": {
    "id": "OCnELck-9h5M"
   },
   "source": [
    "Create a scatterplot of `residuals` over `predicted`."
   ]
  },
  {
   "cell_type": "code",
   "execution_count": 56,
   "metadata": {
    "id": "7Kmr2U8A95fY"
   },
   "outputs": [
    {
     "data": {
      "image/png": "[encoded data removed]",
      "text/plain": [
       "<Figure size 432x288 with 1 Axes>"
      ]
     },
     "metadata": {},
     "output_type": "display_data"
    }
   ],
   "source": [
    "# Create a scatterplot of `residuals` over `predicted`\n",
    "\n",
    "sns.scatterplot(x='predicted', y='residual', data=results)\n",
    "# Draw a horizontal red line at y=0.\n",
    "# This line represents the point of zero error (no residual).\n",
    "# It helps visually assess whether the residuals are evenly distributed around zero.\n",
    "plt.axhline(0, c='red')\n",
    "\n",
    "plt.title('Scatterplot of residuals over predicted values')\n",
    "plt.xlabel('predicted value')\n",
    "plt.ylabel('residual value')\n",
    "plt.show()"
   ]
  },
  {
   "cell_type": "markdown",
   "metadata": {},
   "source": [
    "* The residual plot shows that most errors are evenly spread above and below zero, which means the model doesn't consistently over- or under-predict. The noticeable sloping lines—from the upper-left to the lower-right—are due to the fixed values we set: one at 62.50 (the imputed maximum) and one at 52 (the flat fare for JFK trips). These fixed fares cause many residuals to line up at those values.\n"
   ]
  },
  {
   "cell_type": "markdown",
   "metadata": {},
   "source": [
    "### Task 9c. Coefficients\n",
    "\n",
    "Use the `coef_` attribute to get the model's coefficients. The coefficients are output in the order of the features that were used to train the model. Which feature had the greatest effect on trip fare?"
   ]
  },
  {
   "cell_type": "code",
   "execution_count": 58,
   "metadata": {},
   "outputs": [
    {
     "data": {
      "text/html": [
       "<div>\n",
       "<style scoped>\n",
       "    .dataframe tbody tr th:only-of-type {\n",
       "        vertical-align: middle;\n",
       "    }\n",
       "\n",
       "    .dataframe tbody tr th {\n",
       "        vertical-align: top;\n",
       "    }\n",
       "\n",
       "    .dataframe thead th {\n",
       "        text-align: right;\n",
       "    }\n",
       "</style>\n",
       "<table border=\"1\" class=\"dataframe\">\n",
       "  <thead>\n",
       "    <tr style=\"text-align: right;\">\n",
       "      <th></th>\n",
       "      <th>VendorID</th>\n",
       "      <th>passenger_count</th>\n",
       "      <th>mean_distance</th>\n",
       "      <th>mean_duration</th>\n",
       "      <th>rush_hour</th>\n",
       "    </tr>\n",
       "  </thead>\n",
       "  <tbody>\n",
       "    <tr>\n",
       "      <th>0</th>\n",
       "      <td>-0.054373</td>\n",
       "      <td>0.030825</td>\n",
       "      <td>7.133867</td>\n",
       "      <td>2.812115</td>\n",
       "      <td>0.110233</td>\n",
       "    </tr>\n",
       "  </tbody>\n",
       "</table>\n",
       "</div>"
      ],
      "text/plain": [
       "   VendorID  passenger_count  mean_distance  mean_duration  rush_hour\n",
       "0 -0.054373         0.030825       7.133867       2.812115   0.110233"
      ]
     },
     "execution_count": 58,
     "metadata": {},
     "output_type": "execute_result"
    }
   ],
   "source": [
    "# Output the model's coefficients\n",
    "#  Syntax: pd.DataFrame(data=None, index=None, columns=None, dtype=None, copy=False)\n",
    "coefficients = pd.DataFrame(data=lr.coef_, columns=X.columns)\n",
    "coefficients"
   ]
  },
  {
   "cell_type": "markdown",
   "metadata": {},
   "source": [
    "What do these coefficients mean? How should they be interpreted?\n",
    "\n",
    "* The coefficients reveal that mean_distance was the feature with the greatest weight in the model's final prediction. Be careful here! **A common misinterpretation is that for every mile traveled, the fare amount increases by a mean of 7.13. This is incorrect.** **Remember, the data used to train the model was standardized with StandardScaler().** As such, the units are no longer miles. In other words, you cannot say \"for every mile traveled...\", as stated above. The correct interpretation of this coefficient is: controlling for other variables, for every +1 change in standard deviation, the fare amount increases by a mean of 7.13."
   ]
  },
  {
   "cell_type": "markdown",
   "metadata": {},
   "source": [
    "* When predictors are highly correlated, the standard errors tend to be larger, which leads to wider confidence intervals. Note also that because some highly correlated features were not removed, the confidence interval of this assessment is wider."
   ]
  },
  {
   "cell_type": "markdown",
   "metadata": {},
   "source": [
    "**So, translate this back to miles instead of standard deviation (i.e., unscale the data).**\n",
    "\n",
    "Calculate the standard deviation of mean_distance in the X_train data.\n",
    "\n",
    "Divide the coefficient (7.133867) by the result to yield a more intuitive interpretation."
   ]
  },
  {
   "cell_type": "markdown",
   "metadata": {},
   "source": [
    "* Because our model's coefficients are based on standardized data. The standard deviation tells us the spread of the original data.\n",
    "\n",
    "* So, we divide by the standard deviation:Dividing the coefficient by the standard deviation converts its effect from a \"per standard deviation\" change to a \"per original unit\" change, making it easier to interpret."
   ]
  },
  {
   "cell_type": "code",
   "execution_count": 59,
   "metadata": {},
   "outputs": [
    {
     "name": "stdout",
     "output_type": "stream",
     "text": [
      "3.574812975256415\n",
      "1.9955916713344426\n"
     ]
    }
   ],
   "source": [
    "# 1. Calculate SD of `mean_distance` in X_train data\n",
    "print(X_train['mean_distance'].std())\n",
    "\n",
    "# 2. Divide the model coefficient by the standard deviation\n",
    "print(7.133867 / X_train['mean_distance'].std())"
   ]
  },
  {
   "cell_type": "markdown",
   "metadata": {},
   "source": [
    "Now we can make a more intuitive interpretation: for every 3.57 miles traveled, the fare increased by a mean of dollar 7.13. Or, for every 1 mile traveled, the fare increased by a mean of $ 2.00."
   ]
  },
  {
   "cell_type": "markdown",
   "metadata": {
    "id": "P6AlDDyhdzmG"
   },
   "source": [
    "### Task 9d. Conclusion\n",
    "\n",
    "1. What are the key takeaways from this notebook?\n",
    "\n",
    "   * Multiple linear regression is a powerful tool to estimate a dependent continous variable from several independent variables.\n",
    "   * Exploratory data analysis is useful for selecting both numeric and categorical features for multiple linear regression.\n",
    "   * Fitting multiple linear regression models may require trial and error to select variables that fit an accurate model while maintaining model assumptions (or not, depending on our use case).\n",
    "\n",
    "\n",
    "\n",
    "2. What results can be presented from this notebook?\n",
    "\n",
    "   * We can discuss meeting linear regression assumptions, and We can present the MAE and RMSE scores obtained from the model."
   ]
  },
  {
   "cell_type": "markdown",
   "metadata": {},
   "source": [
    "# BONUS CONTENT\n",
    "\n",
    "More work must be done to prepare the predictions to be used as inputs into the model for the upcoming course. This work will be broken into the following steps:\n",
    "\n",
    "1. Get the model's predictions on the full dataset.\n",
    "\n",
    "2. Impute the constant fare rate of \\$52 for all trips with rate codes of `2`.\n",
    "\n",
    "3. Check the model's performance on the full dataset.\n",
    "\n",
    "4. Save the final predictions and `mean_duration` and `mean_distance` columns for downstream use.\n",
    "\n"
   ]
  },
  {
   "cell_type": "code",
   "execution_count": 61,
   "metadata": {},
   "outputs": [],
   "source": [
    "# Scale the full dataset X using the pre-fitted StandardScaler to ensure it has the same scale as the training data.\n",
    "X_scaled = scaler.transform(X)\n",
    "\n",
    "# Use the trained LinearRegression model to predict the target variable (fare amount) for the full, scaled dataset.\n",
    "y_preds_full = lr.predict(X_scaled)"
   ]
  },
  {
   "cell_type": "markdown",
   "metadata": {},
   "source": [
    "### 2. Impute ratecode 2 fare\n",
    "\n",
    "The data dictionary says that the `RatecodeID` column captures the following information:\n",
    "\n",
    "1 = standard rate  \n",
    "2 = JFK (airport)  \n",
    "3 = Newark (airport)  \n",
    "4 = Nassau or Westchester  \n",
    "5 = Negotiated fare  \n",
    "6 = Group ride  \n",
    "\n",
    "**This means that some fares don't need to be predicted. They can simply be imputed based on their rate code. Specifically, all rate codes of `2` can be imputed with \\$52, as this is a flat rate for JFK airport.**\n",
    "\n",
    "The other rate codes have some variation (not shown here, but feel free to check for yourself). They are not a fixed rate, so these fares will remain untouched.\n",
    "\n",
    "Impute `52` at all predictions where `RatecodeID` is `2`."
   ]
  },
  {
   "cell_type": "code",
   "execution_count": 62,
   "metadata": {},
   "outputs": [
    {
     "data": {
      "text/html": [
       "<div>\n",
       "<style scoped>\n",
       "    .dataframe tbody tr th:only-of-type {\n",
       "        vertical-align: middle;\n",
       "    }\n",
       "\n",
       "    .dataframe tbody tr th {\n",
       "        vertical-align: top;\n",
       "    }\n",
       "\n",
       "    .dataframe thead th {\n",
       "        text-align: right;\n",
       "    }\n",
       "</style>\n",
       "<table border=\"1\" class=\"dataframe\">\n",
       "  <thead>\n",
       "    <tr style=\"text-align: right;\">\n",
       "      <th></th>\n",
       "      <th>RatecodeID</th>\n",
       "      <th>y_preds_full</th>\n",
       "    </tr>\n",
       "  </thead>\n",
       "  <tbody>\n",
       "    <tr>\n",
       "      <th>11</th>\n",
       "      <td>2</td>\n",
       "      <td>52.0</td>\n",
       "    </tr>\n",
       "    <tr>\n",
       "      <th>110</th>\n",
       "      <td>2</td>\n",
       "      <td>52.0</td>\n",
       "    </tr>\n",
       "    <tr>\n",
       "      <th>161</th>\n",
       "      <td>2</td>\n",
       "      <td>52.0</td>\n",
       "    </tr>\n",
       "    <tr>\n",
       "      <th>247</th>\n",
       "      <td>2</td>\n",
       "      <td>52.0</td>\n",
       "    </tr>\n",
       "    <tr>\n",
       "      <th>379</th>\n",
       "      <td>2</td>\n",
       "      <td>52.0</td>\n",
       "    </tr>\n",
       "  </tbody>\n",
       "</table>\n",
       "</div>"
      ],
      "text/plain": [
       "     RatecodeID  y_preds_full\n",
       "11            2          52.0\n",
       "110           2          52.0\n",
       "161           2          52.0\n",
       "247           2          52.0\n",
       "379           2          52.0"
      ]
     },
     "execution_count": 62,
     "metadata": {},
     "output_type": "execute_result"
    }
   ],
   "source": [
    "# Create a new df containing just the RatecodeID col from the whole dataset\n",
    "final_preds = df[['RatecodeID']].copy()\n",
    "\n",
    "# Add a column containing all the predictions\n",
    "final_preds['y_preds_full'] = y_preds_full\n",
    "\n",
    "# Impute a prediction of 52 at all rows where RatecodeID == 2\n",
    "final_preds.loc[final_preds['RatecodeID']==2, 'y_preds_full'] = 52\n",
    "\n",
    "# Check that it worked\n",
    "final_preds[final_preds['RatecodeID']==2].head()"
   ]
  },
  {
   "cell_type": "markdown",
   "metadata": {},
   "source": [
    "### Check performance on full dataset"
   ]
  },
  {
   "cell_type": "code",
   "execution_count": 63,
   "metadata": {},
   "outputs": [
    {
     "name": "stdout",
     "output_type": "stream",
     "text": [
      "R^2: 0.8910853978683975\n",
      "MAE: 1.992506252269974\n",
      "MSE: 12.101575504689935\n",
      "RMSE: 3.4787318816905013\n"
     ]
    }
   ],
   "source": [
    "final_preds = final_preds['y_preds_full']\n",
    "print('R^2:', r2_score(y, final_preds))\n",
    "print('MAE:', mean_absolute_error(y, final_preds))\n",
    "print('MSE:', mean_squared_error(y, final_preds))\n",
    "print('RMSE:',np.sqrt(mean_squared_error(y, final_preds)))"
   ]
  },
  {
   "cell_type": "markdown",
   "metadata": {},
   "source": [
    "Save final predictions with mean_duration and mean_distance columns"
   ]
  },
  {
   "cell_type": "code",
   "execution_count": 64,
   "metadata": {},
   "outputs": [
    {
     "data": {
      "text/html": [
       "<div>\n",
       "<style scoped>\n",
       "    .dataframe tbody tr th:only-of-type {\n",
       "        vertical-align: middle;\n",
       "    }\n",
       "\n",
       "    .dataframe tbody tr th {\n",
       "        vertical-align: top;\n",
       "    }\n",
       "\n",
       "    .dataframe thead th {\n",
       "        text-align: right;\n",
       "    }\n",
       "</style>\n",
       "<table border=\"1\" class=\"dataframe\">\n",
       "  <thead>\n",
       "    <tr style=\"text-align: right;\">\n",
       "      <th></th>\n",
       "      <th>mean_duration</th>\n",
       "      <th>mean_distance</th>\n",
       "      <th>predicted_fare</th>\n",
       "    </tr>\n",
       "  </thead>\n",
       "  <tbody>\n",
       "    <tr>\n",
       "      <th>0</th>\n",
       "      <td>22.847222</td>\n",
       "      <td>3.521667</td>\n",
       "      <td>16.434245</td>\n",
       "    </tr>\n",
       "    <tr>\n",
       "      <th>1</th>\n",
       "      <td>24.470370</td>\n",
       "      <td>3.108889</td>\n",
       "      <td>16.052218</td>\n",
       "    </tr>\n",
       "    <tr>\n",
       "      <th>2</th>\n",
       "      <td>7.250000</td>\n",
       "      <td>0.881429</td>\n",
       "      <td>7.053706</td>\n",
       "    </tr>\n",
       "    <tr>\n",
       "      <th>3</th>\n",
       "      <td>30.250000</td>\n",
       "      <td>3.700000</td>\n",
       "      <td>18.731650</td>\n",
       "    </tr>\n",
       "    <tr>\n",
       "      <th>4</th>\n",
       "      <td>14.616667</td>\n",
       "      <td>4.435000</td>\n",
       "      <td>15.845642</td>\n",
       "    </tr>\n",
       "  </tbody>\n",
       "</table>\n",
       "</div>"
      ],
      "text/plain": [
       "   mean_duration  mean_distance  predicted_fare\n",
       "0      22.847222       3.521667       16.434245\n",
       "1      24.470370       3.108889       16.052218\n",
       "2       7.250000       0.881429        7.053706\n",
       "3      30.250000       3.700000       18.731650\n",
       "4      14.616667       4.435000       15.845642"
      ]
     },
     "execution_count": 64,
     "metadata": {},
     "output_type": "execute_result"
    }
   ],
   "source": [
    "# Combine means columns with predictions column\n",
    "nyc_preds_means = df[['mean_duration', 'mean_distance']].copy()\n",
    "nyc_preds_means['predicted_fare'] = final_preds\n",
    "\n",
    "nyc_preds_means.head()"
   ]
  },
  {
   "cell_type": "markdown",
   "metadata": {},
   "source": [
    "**In the bonus part, we took a simplified approach:**\n",
    "\n",
    "Prediction on the Full Dataset:\n",
    "We first used our trained model to predict fares for all rides in the dataset, including those with RatecodeID 2.\n",
    "\n",
    "Manual Imputation for Fixed Fare Rides:\n",
    "After obtaining predictions, we replaced the predicted values with dollar 52 for any ride that had a RatecodeID of 2 (which indicates a fixed fare for JFK trips).\n",
    "\n",
    "This means:\n",
    "We predicted fares for everything, then corrected the predictions for the rides with a fixed rate.\n",
    "\n",
    "**Best Practice (Ideal Way):**\n",
    "\n",
    "Separate the Data: Remove rides with RatecodeID 2 before training, since their fare is known (always 52).\n",
    "\n",
    "Train the Model: Train the model only on rides that require prediction (i.e., rides without RatecodeID 2).\n",
    "\n",
    "Post-Prediction: After training, add the fixed-rate rides back into the dataset with their known fare (52).\n",
    "\n",
    "This approach prevents the model from learning on data that already have a predetermined fare, which can lead to a more accurate and interpretable model.\n",
    "\n",
    "\n",
    "\n",
    "\n",
    "\n",
    "\n"
   ]
  },
  {
   "cell_type": "markdown",
   "metadata": {},
   "source": [
    "**Congratulations!** You've completed this lab. However, you may not notice a green check mark next to this item on Coursera's platform. Please continue your progress regardless of the check mark. Just click on the \"save\" icon at the top of this notebook to ensure your work has been logged. "
   ]
  }
 ],
 "metadata": {
  "colab": {
   "provenance": [],
   "toc_visible": true
  },
  "kernelspec": {
   "display_name": "Python 3 (ipykernel)",
   "language": "python",
   "name": "python3"
  },
  "language_info": {
   "codemirror_mode": {
    "name": "ipython",
    "version": 3
   },
   "file_extension": ".py",
   "mimetype": "text/x-python",
   "name": "python",
   "nbconvert_exporter": "python",
   "pygments_lexer": "ipython3",
   "version": "3.12.3"
  }
 },
 "nbformat": 4,
 "nbformat_minor": 4
}
