{
 "cells": [
  {
   "cell_type": "markdown",
   "metadata": {},
   "source": [
    "# Automatidata project \n",
    "**Course 4 - The Power of Statistics**"
   ]
  },
  {
   "cell_type": "markdown",
   "metadata": {
    "id": "WVeXS7BNzX6e"
   },
   "source": [
    "You are a data professional in a data consulting firm, called Automatidata. The current project for their newest client, the New York City Taxi & Limousine Commission (New York City TLC) is reaching its midpoint, having completed a project proposal, Python coding work, and exploratory data analysis.\n",
    "\n",
    "You receive a new email from Uli King, Automatidata’s project manager. Uli tells your team about a new request from the New York City TLC:**to analyze the relationship between fare amount and payment type.** A follow-up email from Luana includes your specific assignment: **to conduct an A/B test.** \n",
    "\n",
    "A notebook was structured and prepared to help you in this project. Please complete the following questions.\n"
   ]
  },
  {
   "cell_type": "markdown",
   "metadata": {
    "id": "rgSbVJvomcVa",
    "jp-MarkdownHeadingCollapsed": true
   },
   "source": [
    "# Course 4 End-of-course project: Statistical analysis\n",
    "\n",
    "In this activity, you will practice using statistics to analyze and interpret data. The activity covers fundamental concepts such as descriptive statistics and hypothesis testing. You will explore the data provided and conduct A/B and hypothesis testing.  \n",
    "<br/>   \n",
    "\n",
    "**The purpose** of this project is to demostrate knowledge of how to prepare, create, and analyze A/B tests. Your A/B test results should aim to find ways to generate more revenue for taxi cab drivers.\n",
    "\n",
    "**Note:** For the purpose of this exercise, assume that the sample data comes from an experiment in which customers are randomly selected and divided into two groups: 1) customers who are required to pay with credit card, 2) customers who are required to pay with cash. Without this assumption, we cannot draw causal conclusions about how payment method affects fare amount.\n",
    "\n",
    "**The goal** is to apply descriptive statistics and hypothesis testing in Python. The goal for this A/B test is to sample data and analyze whether there is a relationship between payment type and fare amount. For example: discover if customers who use credit cards pay higher fare amounts than customers who use cash.\n",
    "  \n",
    "*This activity has four parts:*\n",
    "\n",
    "**Part 1:** Imports and data loading\n",
    "* What data packages will be necessary for hypothesis testing?\n",
    "               \n",
    "               * numpy, pandas, from scipy import stats \n",
    "\n",
    "**Part 2:** Conduct EDA and hypothesis testing\n",
    "* How did computing descriptive statistics help you analyze your data? \n",
    "\n",
    "\n",
    "  * In general, descriptive statistics are useful because they let you quickly explore and understand large amounts of data. \n",
    "   \n",
    "               * The mean (average) gives us a general idea of the typical fare in the dataset. It’s useful for understanding the overall trend of the data. For example, when looking at taxi fares, the mean fare shows us the average amount customers are paying, providing a quick sense of the typical fare. However, the mean can be affected by very high or very low values (outliers), which is why it's often helpful to also consider the median and standard deviation for a fuller picture of the data.\n",
    "\n",
    "            * Median: The median tells us the \"middle\" fare when the data is sorted. It’s useful because it isn’t affected by extreme values, offering a more accurate reflection of the typical fare when there are outliers.\n",
    "\n",
    "            * Standard Deviation: The standard deviation shows how much the fares deviate (or vary) from the mean.If the standard deviation is small, it means the fares are mostly close to the mean (indicating consistency).If the standard deviation is large, it means the fares are more spread out, with some being much higher or lower than the mean (indicating more variation).In short, the standard deviation helps us understand how consistent or varied the fares are compared to the average fare.\n",
    "          \n",
    "          * Identifying Trends:When calculating the mean or median fare for both credit card and cash payments, we can compare these values to see if one payment method generally results in higher or lower fares. For example:If the mean fare for credit card payments is higher than for cash payments, this suggests that credit card users tend to pay more on average.Similarly, comparing the median fare for each payment type helps identify trends, especially when there are outliers, as the median is less affected by extreme values.\n",
    "          \n",
    "          * Checking for Outliers:To identify outliers, we compare the mean with the maximum and minimum values. Here's how this works:Maximum/Minimum Values: If the maximum or minimum values are far away from the mean, it suggests that there might be outliers. For example, if the average fare is 30, but the maximum fare is 1000 or the minimum fare is 1, these extreme values may not be typical and could be outliers.\n",
    "      \n",
    "         * Mean vs. Range:If there is a big difference between the mean and the maximum or minimum values, it suggests that most of the data points are close to the mean, but there are a few extreme values (either very high or very low) that are far from the mean. These extreme values could be outliers—values that don't follow the usual pattern of the data and might need further investigation.\n",
    "\n",
    "* How did you formulate your null hypothesis and alternative hypothesis? \n",
    "\n",
    "      * H₀: There is no difference in the average fare amount between credit card and cash payments.\n",
    "      * H₁: Customers who use a credit card pay higher fare amounts than those who pay with cash.\n",
    "\n",
    "\n",
    "**Part 3:** Communicate insights with stakeholders\n",
    "\n",
    "* What key business insight(s) emerged from your A/B test?\n",
    "\n",
    "* What business recommendations do you propose based on your results?\n",
    "\n",
    "<br/> \n",
    "Follow the instructions and answer the questions below to complete the activity. Then, you will complete an Executive Summary using the questions listed on the PACE Strategy Document.\n",
    "\n",
    "Be sure to complete this activity before moving on. The next course item will provide you with a completed exemplar to compare to your own work. "
   ]
  },
  {
   "cell_type": "markdown",
   "metadata": {
    "id": "55zRrnwOelDs"
   },
   "source": [
    "# **Conduct an A/B test**\n"
   ]
  },
  {
   "cell_type": "markdown",
   "metadata": {
    "id": "N8qrn_UAzX6j"
   },
   "source": [
    "<img src=\"images/Pace.png\" width=\"100\" height=\"100\" align=left>\n",
    "\n",
    "# **PACE stages**\n"
   ]
  },
  {
   "cell_type": "markdown",
   "metadata": {},
   "source": [
    "Throughout these project notebooks, you'll see references to the problem-solving framework PACE. The following notebook components are labeled with the respective PACE stage: Plan, Analyze, Construct, and Execute."
   ]
  },
  {
   "cell_type": "markdown",
   "metadata": {
    "id": "Bb1HNu3FzX6k"
   },
   "source": [
    "<img src=\"images/Plan.png\" width=\"100\" height=\"100\" align=left>\n",
    "\n",
    "\n",
    "## PACE: Plan \n",
    "\n",
    "In this stage, consider the following questions where applicable to complete your code response:\n",
    "1. What is your research question for this data project? Later on, you will need to formulate the null and alternative hypotheses as the first step of your hypothesis test. Consider your research question now, at the start of this task.\n"
   ]
  },
  {
   "cell_type": "markdown",
   "metadata": {},
   "source": [
    "**Research Question: Does the payment type (credit card or cash) affect the taxi fare amount?**\n"
   ]
  },
  {
   "cell_type": "markdown",
   "metadata": {
    "id": "Kp3uDhhSg_qu"
   },
   "source": [
    "*Complete the following steps to perform statistical analysis of your data:* "
   ]
  },
  {
   "cell_type": "markdown",
   "metadata": {
    "id": "xgQEdIN7f1Jq"
   },
   "source": [
    "### Task 1. Imports and data loading"
   ]
  },
  {
   "cell_type": "markdown",
   "metadata": {
    "id": "ehehvUzFj0-e"
   },
   "source": [
    "Import packages and libraries needed to compute descriptive statistics and conduct a hypothesis test."
   ]
  },
  {
   "cell_type": "markdown",
   "metadata": {
    "id": "e6cryW4WgiIL"
   },
   "source": [
    "<details>\n",
    "  <summary><h4><strong>Hint: </strong></h4></summary>\n",
    "\n",
    "Before you begin, recall the following Python packages and functions that may be useful:\n",
    "\n",
    "*Main functions*: stats.ttest_ind(a, b, equal_var)\n",
    "\n",
    "*Other functions*: mean() \n",
    "\n",
    "*Packages*: pandas, stats.scipy\n",
    "\n",
    "</details>"
   ]
  },
  {
   "cell_type": "code",
   "execution_count": 4,
   "metadata": {
    "id": "1Q-GL2UrgWWG"
   },
   "outputs": [],
   "source": [
    "import pandas as pd\n",
    "import numpy as np\n",
    "from scipy import stats"
   ]
  },
  {
   "cell_type": "markdown",
   "metadata": {
    "id": "IHSa7TiTkg78"
   },
   "source": [
    "**Note:** As shown in this cell, the dataset has been automatically loaded in for you. You do not need to download the .csv file, or provide more code, in order to access the dataset and proceed with this lab. Please continue with this activity by completing the following instructions."
   ]
  },
  {
   "cell_type": "code",
   "execution_count": 5,
   "metadata": {
    "id": "SiuhAz57klHJ"
   },
   "outputs": [],
   "source": [
    "# Load dataset into dataframe\n",
    "taxi_data = pd.read_csv(\"2017_Yellow_Taxi_Trip_Data.csv\", index_col = 0)"
   ]
  },
  {
   "cell_type": "markdown",
   "metadata": {
    "id": "c8paWsdKzX6o"
   },
   "source": [
    "<img src=\"images/Analyze.png\" width=\"100\" height=\"100\" align=left>\n",
    "\n",
    "<img src=\"images/Construct.png\" width=\"100\" height=\"100\" align=left>\n",
    "\n",
    "## PACE: **Analyze and Construct**\n",
    "\n",
    "In this stage, consider the following questions where applicable to complete your code response:\n",
    "1. Data professionals use descriptive statistics for Exploratory Data Analysis. How can computing descriptive statistics help you learn more about your data in this stage of your analysis?\n"
   ]
  },
  {
   "cell_type": "markdown",
   "metadata": {},
   "source": [
    " **In general, descriptive statistics are useful because they let you quickly explore and understand large amounts of data.**\n",
    "   \n",
    "   **The mean (average)** gives us a general idea of the typical fare in the dataset. It’s useful for understanding the overall trend of the data. For example, when looking at taxi fares, the mean fare shows us the average amount customers are paying, providing a quick sense of the typical fare. However, the mean can be affected by very high or very low values (outliers), which is why it's often helpful to also consider the median and standard deviation for a fuller picture of the data.\n",
    "\n",
    " **Median:** The median tells us the \"middle\" fare when the data is sorted. It’s useful because it isn’t affected by extreme values, offering a more accurate reflection of the typical fare when there are outliers.\n",
    "\n",
    " **Standard Deviation:** The standard deviation shows how much the fares deviate (or vary) from the mean.If the standard deviation is small, it means the fares are mostly close to the mean (indicating consistency).If the standard deviation is large, it means the fares are more spread out, with some being much higher or lower than the mean (indicating more variation).In short, the standard deviation helps us understand how consistent or varied the fares are compared to the average fare.\n",
    "          \n",
    " **Identifying Trends:** When calculating the mean or median fare for both credit card and cash payments, we can compare these values to see if one payment method generally results in higher or lower fares. For example:If the mean fare for credit card payments is higher than for cash payments, this suggests that credit card users tend to pay more on average.Similarly, comparing the median fare for each payment type helps identify trends, especially when there are outliers, as the median is less affected by extreme values.\n",
    "          \n",
    "**Checking for Outliers:** To identify outliers, we compare the mean with the maximum and minimum values. Here's how this works:Maximum/Minimum Values: If the maximum or minimum values are far away from the mean, it suggests that there might be outliers. For example, if the average fare is 30, but the maximum fare is 1000 or the minimum fare is 1, these extreme values may not be typical and could be outliers.\n",
    "      \n",
    "**Mean vs. Range:** If there is a big difference between the mean and the maximum or minimum values, it suggests that most of the data points are close to the mean, but there are a few extreme values (either very high or very low) that are far from the mean. These extreme values could be outliers—values that don't follow the usual pattern of the data and might need further investigation.\n"
   ]
  },
  {
   "cell_type": "markdown",
   "metadata": {
    "id": "UKhYTdVhf5B2"
   },
   "source": [
    "### Task 2. Data exploration\n",
    "\n",
    "Use descriptive statistics to conduct Exploratory Data Analysis (EDA). "
   ]
  },
  {
   "cell_type": "markdown",
   "metadata": {},
   "source": [
    "<details>\n",
    "  <summary><h4><strong>Hint: </strong></h4></summary>\n",
    "\n",
    "Refer back to *Self Review Descriptive Statistics* for this step-by-step proccess.\n",
    "\n",
    "</details>"
   ]
  },
  {
   "cell_type": "markdown",
   "metadata": {
    "id": "JAq7ag0pTNgl"
   },
   "source": [
    "**Note:** In the dataset, `payment_type` is encoded in integers:\n",
    "*   1: Credit card\n",
    "*   2: Cash\n",
    "*   3: No charge\n",
    "*   4: Dispute\n",
    "*   5: Unknown\n",
    "\n"
   ]
  },
  {
   "cell_type": "code",
   "execution_count": 6,
   "metadata": {
    "id": "70vpvcv1gArp"
   },
   "outputs": [
    {
     "data": {
      "text/html": [
       "<div>\n",
       "<style scoped>\n",
       "    .dataframe tbody tr th:only-of-type {\n",
       "        vertical-align: middle;\n",
       "    }\n",
       "\n",
       "    .dataframe tbody tr th {\n",
       "        vertical-align: top;\n",
       "    }\n",
       "\n",
       "    .dataframe thead th {\n",
       "        text-align: right;\n",
       "    }\n",
       "</style>\n",
       "<table border=\"1\" class=\"dataframe\">\n",
       "  <thead>\n",
       "    <tr style=\"text-align: right;\">\n",
       "      <th></th>\n",
       "      <th>VendorID</th>\n",
       "      <th>tpep_pickup_datetime</th>\n",
       "      <th>tpep_dropoff_datetime</th>\n",
       "      <th>passenger_count</th>\n",
       "      <th>trip_distance</th>\n",
       "      <th>RatecodeID</th>\n",
       "      <th>store_and_fwd_flag</th>\n",
       "      <th>PULocationID</th>\n",
       "      <th>DOLocationID</th>\n",
       "      <th>payment_type</th>\n",
       "      <th>fare_amount</th>\n",
       "      <th>extra</th>\n",
       "      <th>mta_tax</th>\n",
       "      <th>tip_amount</th>\n",
       "      <th>tolls_amount</th>\n",
       "      <th>improvement_surcharge</th>\n",
       "      <th>total_amount</th>\n",
       "    </tr>\n",
       "  </thead>\n",
       "  <tbody>\n",
       "    <tr>\n",
       "      <th>24870114</th>\n",
       "      <td>2</td>\n",
       "      <td>03/25/2017 8:55:43 AM</td>\n",
       "      <td>03/25/2017 9:09:47 AM</td>\n",
       "      <td>6</td>\n",
       "      <td>3.34</td>\n",
       "      <td>1</td>\n",
       "      <td>N</td>\n",
       "      <td>100</td>\n",
       "      <td>231</td>\n",
       "      <td>1</td>\n",
       "      <td>13.0</td>\n",
       "      <td>0.0</td>\n",
       "      <td>0.5</td>\n",
       "      <td>2.76</td>\n",
       "      <td>0.0</td>\n",
       "      <td>0.3</td>\n",
       "      <td>16.56</td>\n",
       "    </tr>\n",
       "    <tr>\n",
       "      <th>35634249</th>\n",
       "      <td>1</td>\n",
       "      <td>04/11/2017 2:53:28 PM</td>\n",
       "      <td>04/11/2017 3:19:58 PM</td>\n",
       "      <td>1</td>\n",
       "      <td>1.80</td>\n",
       "      <td>1</td>\n",
       "      <td>N</td>\n",
       "      <td>186</td>\n",
       "      <td>43</td>\n",
       "      <td>1</td>\n",
       "      <td>16.0</td>\n",
       "      <td>0.0</td>\n",
       "      <td>0.5</td>\n",
       "      <td>4.00</td>\n",
       "      <td>0.0</td>\n",
       "      <td>0.3</td>\n",
       "      <td>20.80</td>\n",
       "    </tr>\n",
       "    <tr>\n",
       "      <th>106203690</th>\n",
       "      <td>1</td>\n",
       "      <td>12/15/2017 7:26:56 AM</td>\n",
       "      <td>12/15/2017 7:34:08 AM</td>\n",
       "      <td>1</td>\n",
       "      <td>1.00</td>\n",
       "      <td>1</td>\n",
       "      <td>N</td>\n",
       "      <td>262</td>\n",
       "      <td>236</td>\n",
       "      <td>1</td>\n",
       "      <td>6.5</td>\n",
       "      <td>0.0</td>\n",
       "      <td>0.5</td>\n",
       "      <td>1.45</td>\n",
       "      <td>0.0</td>\n",
       "      <td>0.3</td>\n",
       "      <td>8.75</td>\n",
       "    </tr>\n",
       "    <tr>\n",
       "      <th>38942136</th>\n",
       "      <td>2</td>\n",
       "      <td>05/07/2017 1:17:59 PM</td>\n",
       "      <td>05/07/2017 1:48:14 PM</td>\n",
       "      <td>1</td>\n",
       "      <td>3.70</td>\n",
       "      <td>1</td>\n",
       "      <td>N</td>\n",
       "      <td>188</td>\n",
       "      <td>97</td>\n",
       "      <td>1</td>\n",
       "      <td>20.5</td>\n",
       "      <td>0.0</td>\n",
       "      <td>0.5</td>\n",
       "      <td>6.39</td>\n",
       "      <td>0.0</td>\n",
       "      <td>0.3</td>\n",
       "      <td>27.69</td>\n",
       "    </tr>\n",
       "    <tr>\n",
       "      <th>30841670</th>\n",
       "      <td>2</td>\n",
       "      <td>04/15/2017 11:32:20 PM</td>\n",
       "      <td>04/15/2017 11:49:03 PM</td>\n",
       "      <td>1</td>\n",
       "      <td>4.37</td>\n",
       "      <td>1</td>\n",
       "      <td>N</td>\n",
       "      <td>4</td>\n",
       "      <td>112</td>\n",
       "      <td>2</td>\n",
       "      <td>16.5</td>\n",
       "      <td>0.5</td>\n",
       "      <td>0.5</td>\n",
       "      <td>0.00</td>\n",
       "      <td>0.0</td>\n",
       "      <td>0.3</td>\n",
       "      <td>17.80</td>\n",
       "    </tr>\n",
       "  </tbody>\n",
       "</table>\n",
       "</div>"
      ],
      "text/plain": [
       "           VendorID    tpep_pickup_datetime   tpep_dropoff_datetime  \\\n",
       "24870114          2   03/25/2017 8:55:43 AM   03/25/2017 9:09:47 AM   \n",
       "35634249          1   04/11/2017 2:53:28 PM   04/11/2017 3:19:58 PM   \n",
       "106203690         1   12/15/2017 7:26:56 AM   12/15/2017 7:34:08 AM   \n",
       "38942136          2   05/07/2017 1:17:59 PM   05/07/2017 1:48:14 PM   \n",
       "30841670          2  04/15/2017 11:32:20 PM  04/15/2017 11:49:03 PM   \n",
       "\n",
       "           passenger_count  trip_distance  RatecodeID store_and_fwd_flag  \\\n",
       "24870114                 6           3.34           1                  N   \n",
       "35634249                 1           1.80           1                  N   \n",
       "106203690                1           1.00           1                  N   \n",
       "38942136                 1           3.70           1                  N   \n",
       "30841670                 1           4.37           1                  N   \n",
       "\n",
       "           PULocationID  DOLocationID  payment_type  fare_amount  extra  \\\n",
       "24870114            100           231             1         13.0    0.0   \n",
       "35634249            186            43             1         16.0    0.0   \n",
       "106203690           262           236             1          6.5    0.0   \n",
       "38942136            188            97             1         20.5    0.0   \n",
       "30841670              4           112             2         16.5    0.5   \n",
       "\n",
       "           mta_tax  tip_amount  tolls_amount  improvement_surcharge  \\\n",
       "24870114       0.5        2.76           0.0                    0.3   \n",
       "35634249       0.5        4.00           0.0                    0.3   \n",
       "106203690      0.5        1.45           0.0                    0.3   \n",
       "38942136       0.5        6.39           0.0                    0.3   \n",
       "30841670       0.5        0.00           0.0                    0.3   \n",
       "\n",
       "           total_amount  \n",
       "24870114          16.56  \n",
       "35634249          20.80  \n",
       "106203690          8.75  \n",
       "38942136          27.69  \n",
       "30841670          17.80  "
      ]
     },
     "execution_count": 6,
     "metadata": {},
     "output_type": "execute_result"
    }
   ],
   "source": [
    "taxi_data.head(5)"
   ]
  },
  {
   "cell_type": "code",
   "execution_count": 9,
   "metadata": {},
   "outputs": [
    {
     "data": {
      "text/plain": [
       "(22699, 17)"
      ]
     },
     "execution_count": 9,
     "metadata": {},
     "output_type": "execute_result"
    }
   ],
   "source": [
    "taxi_data.shape"
   ]
  },
  {
   "cell_type": "markdown",
   "metadata": {},
   "source": [
    "22699 rows and 17 columns"
   ]
  },
  {
   "cell_type": "code",
   "execution_count": 10,
   "metadata": {},
   "outputs": [
    {
     "name": "stdout",
     "output_type": "stream",
     "text": [
      "<class 'pandas.core.frame.DataFrame'>\n",
      "Int64Index: 22699 entries, 24870114 to 17208911\n",
      "Data columns (total 17 columns):\n",
      " #   Column                 Non-Null Count  Dtype  \n",
      "---  ------                 --------------  -----  \n",
      " 0   VendorID               22699 non-null  int64  \n",
      " 1   tpep_pickup_datetime   22699 non-null  object \n",
      " 2   tpep_dropoff_datetime  22699 non-null  object \n",
      " 3   passenger_count        22699 non-null  int64  \n",
      " 4   trip_distance          22699 non-null  float64\n",
      " 5   RatecodeID             22699 non-null  int64  \n",
      " 6   store_and_fwd_flag     22699 non-null  object \n",
      " 7   PULocationID           22699 non-null  int64  \n",
      " 8   DOLocationID           22699 non-null  int64  \n",
      " 9   payment_type           22699 non-null  int64  \n",
      " 10  fare_amount            22699 non-null  float64\n",
      " 11  extra                  22699 non-null  float64\n",
      " 12  mta_tax                22699 non-null  float64\n",
      " 13  tip_amount             22699 non-null  float64\n",
      " 14  tolls_amount           22699 non-null  float64\n",
      " 15  improvement_surcharge  22699 non-null  float64\n",
      " 16  total_amount           22699 non-null  float64\n",
      "dtypes: float64(8), int64(6), object(3)\n",
      "memory usage: 3.1+ MB\n"
     ]
    }
   ],
   "source": [
    "taxi_data.info()"
   ]
  },
  {
   "cell_type": "code",
   "execution_count": 12,
   "metadata": {},
   "outputs": [
    {
     "data": {
      "text/plain": [
       "VendorID                 0\n",
       "tpep_pickup_datetime     0\n",
       "tpep_dropoff_datetime    0\n",
       "passenger_count          0\n",
       "trip_distance            0\n",
       "RatecodeID               0\n",
       "store_and_fwd_flag       0\n",
       "PULocationID             0\n",
       "DOLocationID             0\n",
       "payment_type             0\n",
       "fare_amount              0\n",
       "extra                    0\n",
       "mta_tax                  0\n",
       "tip_amount               0\n",
       "tolls_amount             0\n",
       "improvement_surcharge    0\n",
       "total_amount             0\n",
       "dtype: int64"
      ]
     },
     "execution_count": 12,
     "metadata": {},
     "output_type": "execute_result"
    }
   ],
   "source": [
    "# Missing values\n",
    "taxi_data.isnull().sum()\n"
   ]
  },
  {
   "cell_type": "markdown",
   "metadata": {},
   "source": [
    "* No null values in any column"
   ]
  },
  {
   "cell_type": "code",
   "execution_count": 13,
   "metadata": {},
   "outputs": [
    {
     "data": {
      "text/html": [
       "<div>\n",
       "<style scoped>\n",
       "    .dataframe tbody tr th:only-of-type {\n",
       "        vertical-align: middle;\n",
       "    }\n",
       "\n",
       "    .dataframe tbody tr th {\n",
       "        vertical-align: top;\n",
       "    }\n",
       "\n",
       "    .dataframe thead th {\n",
       "        text-align: right;\n",
       "    }\n",
       "</style>\n",
       "<table border=\"1\" class=\"dataframe\">\n",
       "  <thead>\n",
       "    <tr style=\"text-align: right;\">\n",
       "      <th></th>\n",
       "      <th>VendorID</th>\n",
       "      <th>passenger_count</th>\n",
       "      <th>trip_distance</th>\n",
       "      <th>RatecodeID</th>\n",
       "      <th>PULocationID</th>\n",
       "      <th>DOLocationID</th>\n",
       "      <th>payment_type</th>\n",
       "      <th>fare_amount</th>\n",
       "      <th>extra</th>\n",
       "      <th>mta_tax</th>\n",
       "      <th>tip_amount</th>\n",
       "      <th>tolls_amount</th>\n",
       "      <th>improvement_surcharge</th>\n",
       "      <th>total_amount</th>\n",
       "    </tr>\n",
       "  </thead>\n",
       "  <tbody>\n",
       "    <tr>\n",
       "      <th>count</th>\n",
       "      <td>22699.000000</td>\n",
       "      <td>22699.000000</td>\n",
       "      <td>22699.000000</td>\n",
       "      <td>22699.000000</td>\n",
       "      <td>22699.000000</td>\n",
       "      <td>22699.000000</td>\n",
       "      <td>22699.000000</td>\n",
       "      <td>22699.000000</td>\n",
       "      <td>22699.000000</td>\n",
       "      <td>22699.000000</td>\n",
       "      <td>22699.000000</td>\n",
       "      <td>22699.000000</td>\n",
       "      <td>22699.000000</td>\n",
       "      <td>22699.000000</td>\n",
       "    </tr>\n",
       "    <tr>\n",
       "      <th>mean</th>\n",
       "      <td>1.556236</td>\n",
       "      <td>1.642319</td>\n",
       "      <td>2.913313</td>\n",
       "      <td>1.043394</td>\n",
       "      <td>162.412353</td>\n",
       "      <td>161.527997</td>\n",
       "      <td>1.336887</td>\n",
       "      <td>13.026629</td>\n",
       "      <td>0.333275</td>\n",
       "      <td>0.497445</td>\n",
       "      <td>1.835781</td>\n",
       "      <td>0.312542</td>\n",
       "      <td>0.299551</td>\n",
       "      <td>16.310502</td>\n",
       "    </tr>\n",
       "    <tr>\n",
       "      <th>std</th>\n",
       "      <td>0.496838</td>\n",
       "      <td>1.285231</td>\n",
       "      <td>3.653171</td>\n",
       "      <td>0.708391</td>\n",
       "      <td>66.633373</td>\n",
       "      <td>70.139691</td>\n",
       "      <td>0.496211</td>\n",
       "      <td>13.243791</td>\n",
       "      <td>0.463097</td>\n",
       "      <td>0.039465</td>\n",
       "      <td>2.800626</td>\n",
       "      <td>1.399212</td>\n",
       "      <td>0.015673</td>\n",
       "      <td>16.097295</td>\n",
       "    </tr>\n",
       "    <tr>\n",
       "      <th>min</th>\n",
       "      <td>1.000000</td>\n",
       "      <td>0.000000</td>\n",
       "      <td>0.000000</td>\n",
       "      <td>1.000000</td>\n",
       "      <td>1.000000</td>\n",
       "      <td>1.000000</td>\n",
       "      <td>1.000000</td>\n",
       "      <td>-120.000000</td>\n",
       "      <td>-1.000000</td>\n",
       "      <td>-0.500000</td>\n",
       "      <td>0.000000</td>\n",
       "      <td>0.000000</td>\n",
       "      <td>-0.300000</td>\n",
       "      <td>-120.300000</td>\n",
       "    </tr>\n",
       "    <tr>\n",
       "      <th>25%</th>\n",
       "      <td>1.000000</td>\n",
       "      <td>1.000000</td>\n",
       "      <td>0.990000</td>\n",
       "      <td>1.000000</td>\n",
       "      <td>114.000000</td>\n",
       "      <td>112.000000</td>\n",
       "      <td>1.000000</td>\n",
       "      <td>6.500000</td>\n",
       "      <td>0.000000</td>\n",
       "      <td>0.500000</td>\n",
       "      <td>0.000000</td>\n",
       "      <td>0.000000</td>\n",
       "      <td>0.300000</td>\n",
       "      <td>8.750000</td>\n",
       "    </tr>\n",
       "    <tr>\n",
       "      <th>50%</th>\n",
       "      <td>2.000000</td>\n",
       "      <td>1.000000</td>\n",
       "      <td>1.610000</td>\n",
       "      <td>1.000000</td>\n",
       "      <td>162.000000</td>\n",
       "      <td>162.000000</td>\n",
       "      <td>1.000000</td>\n",
       "      <td>9.500000</td>\n",
       "      <td>0.000000</td>\n",
       "      <td>0.500000</td>\n",
       "      <td>1.350000</td>\n",
       "      <td>0.000000</td>\n",
       "      <td>0.300000</td>\n",
       "      <td>11.800000</td>\n",
       "    </tr>\n",
       "    <tr>\n",
       "      <th>75%</th>\n",
       "      <td>2.000000</td>\n",
       "      <td>2.000000</td>\n",
       "      <td>3.060000</td>\n",
       "      <td>1.000000</td>\n",
       "      <td>233.000000</td>\n",
       "      <td>233.000000</td>\n",
       "      <td>2.000000</td>\n",
       "      <td>14.500000</td>\n",
       "      <td>0.500000</td>\n",
       "      <td>0.500000</td>\n",
       "      <td>2.450000</td>\n",
       "      <td>0.000000</td>\n",
       "      <td>0.300000</td>\n",
       "      <td>17.800000</td>\n",
       "    </tr>\n",
       "    <tr>\n",
       "      <th>max</th>\n",
       "      <td>2.000000</td>\n",
       "      <td>6.000000</td>\n",
       "      <td>33.960000</td>\n",
       "      <td>99.000000</td>\n",
       "      <td>265.000000</td>\n",
       "      <td>265.000000</td>\n",
       "      <td>4.000000</td>\n",
       "      <td>999.990000</td>\n",
       "      <td>4.500000</td>\n",
       "      <td>0.500000</td>\n",
       "      <td>200.000000</td>\n",
       "      <td>19.100000</td>\n",
       "      <td>0.300000</td>\n",
       "      <td>1200.290000</td>\n",
       "    </tr>\n",
       "  </tbody>\n",
       "</table>\n",
       "</div>"
      ],
      "text/plain": [
       "           VendorID  passenger_count  trip_distance    RatecodeID  \\\n",
       "count  22699.000000     22699.000000   22699.000000  22699.000000   \n",
       "mean       1.556236         1.642319       2.913313      1.043394   \n",
       "std        0.496838         1.285231       3.653171      0.708391   \n",
       "min        1.000000         0.000000       0.000000      1.000000   \n",
       "25%        1.000000         1.000000       0.990000      1.000000   \n",
       "50%        2.000000         1.000000       1.610000      1.000000   \n",
       "75%        2.000000         2.000000       3.060000      1.000000   \n",
       "max        2.000000         6.000000      33.960000     99.000000   \n",
       "\n",
       "       PULocationID  DOLocationID  payment_type   fare_amount         extra  \\\n",
       "count  22699.000000  22699.000000  22699.000000  22699.000000  22699.000000   \n",
       "mean     162.412353    161.527997      1.336887     13.026629      0.333275   \n",
       "std       66.633373     70.139691      0.496211     13.243791      0.463097   \n",
       "min        1.000000      1.000000      1.000000   -120.000000     -1.000000   \n",
       "25%      114.000000    112.000000      1.000000      6.500000      0.000000   \n",
       "50%      162.000000    162.000000      1.000000      9.500000      0.000000   \n",
       "75%      233.000000    233.000000      2.000000     14.500000      0.500000   \n",
       "max      265.000000    265.000000      4.000000    999.990000      4.500000   \n",
       "\n",
       "            mta_tax    tip_amount  tolls_amount  improvement_surcharge  \\\n",
       "count  22699.000000  22699.000000  22699.000000           22699.000000   \n",
       "mean       0.497445      1.835781      0.312542               0.299551   \n",
       "std        0.039465      2.800626      1.399212               0.015673   \n",
       "min       -0.500000      0.000000      0.000000              -0.300000   \n",
       "25%        0.500000      0.000000      0.000000               0.300000   \n",
       "50%        0.500000      1.350000      0.000000               0.300000   \n",
       "75%        0.500000      2.450000      0.000000               0.300000   \n",
       "max        0.500000    200.000000     19.100000               0.300000   \n",
       "\n",
       "       total_amount  \n",
       "count  22699.000000  \n",
       "mean      16.310502  \n",
       "std       16.097295  \n",
       "min     -120.300000  \n",
       "25%        8.750000  \n",
       "50%       11.800000  \n",
       "75%       17.800000  \n",
       "max     1200.290000  "
      ]
     },
     "execution_count": 13,
     "metadata": {},
     "output_type": "execute_result"
    }
   ],
   "source": [
    "# summary statistics\n",
    "\n",
    "taxi_data.describe()"
   ]
  },
  {
   "cell_type": "markdown",
   "metadata": {},
   "source": [
    "**about fare_amount **\n",
    "\n",
    "**Mean (13.02):**\n",
    "* The average fare is approximately $13.02. However, the mean can be influenced by extreme values (outliers), such as very high or very low fares.\n",
    "\n",
    "**Median (9.5):**\n",
    "* The middle value of the fares is $9.50. Since the median is lower than the mean, it suggests that there may be some high outliers pulling the mean upward.\n",
    "\n",
    "**Standard Deviation (13.243):**\n",
    "* The mean is 13.02, and the standard deviation is 13.243.\n",
    " When the standard deviation is close to or larger than the mean, it suggests high variability in the data.\n",
    "This means that fares are spread out widely, with many values far from the average fare of $13.02.\n",
    "\n",
    "** Minimum Value (-$120):**\n",
    "* Unusual Compared to Mean:\n",
    "The mean fare is $13.02, which is reasonable for a typical taxi ride.\n",
    "A negative fare is not only far from the mean but also logically incorrect since fares can't be negative.\n",
    "This suggests a data error, such as a mistake during data entry, a refund recorded incorrectly, or an issue in data collection.\n",
    "**Maximum Value ($999.99):**\n",
    "* Extreme Compared to Mean:\n",
    "The mean fare is $13.02, while the maximum is $999.99—this is almost 77 times the mean.\n",
    "**25% (6.5):**\n",
    "* 25% of fares are below $6.50, indicating that many fares are relatively low.\n",
    "\n",
    "**75% (14.5):**\n",
    "* 75% of fares are below $14.50. This shows that the majority of fares are clustered within a reasonable range, with only a few going beyond this value.\n",
    "\n",
    "**Negative Minimum (-120):**\n",
    "* A negative fare is not valid and should be flagged as a potential data error.\n",
    "\n",
    "**High Maximum (999.99):**\n",
    "* This could be a legitimate fare for an exceptionally long trip, but it should be checked for validity.\n",
    "\n",
    "**Overall Insights**\n",
    "* Most fares fall between $6.50 (25%) and $14.50 (75%), with a median of $9.50, showing that the majority of fares are affordable and consistent.\n",
    "* The mean being higher than the median suggests the presence of outliers that skew the average upward.\n",
    "The data contains anomalies, such as the negative fare, which may need to be cleaned or excluded during analysis.\n",
    "\n",
    "**Next Steps**\n",
    "**Data Cleaning:**\n",
    "Remove or investigate the negative fares and unusually high fares.\n",
    "**Further Analysis:**\n",
    "Examine the distribution of the data (e.g., histogram) to confirm the skewness caused by outliers.\n",
    "Consider using robust measures like the median and interquartile range (IQR) to summarize the data if the outliers significantly affect the analysis."
   ]
  },
  {
   "cell_type": "markdown",
   "metadata": {},
   "source": [
    "**about payment_type**\n",
    "\n",
    "* In the dataset, payment_type is encoded in integers:\n",
    "\n",
    "1: Credit card\n",
    "2: Cash\n",
    "3: No charge\n",
    "4: Dispute\n",
    "5: Unknown\n",
    "\n",
    "* For categorical variables( payment_type ), summary statistics such as mean, standard deviation (std), minimum, and maximum do not make sense because these calculations are meant for numerical data, not categories.\n",
    "* Let us Use Python's value_counts() function to determine how often each payment type appears.\n"
   ]
  },
  {
   "cell_type": "code",
   "execution_count": 14,
   "metadata": {},
   "outputs": [
    {
     "data": {
      "text/plain": [
       "1    15265\n",
       "2     7267\n",
       "3      121\n",
       "4       46\n",
       "Name: payment_type, dtype: int64"
      ]
     },
     "execution_count": 14,
     "metadata": {},
     "output_type": "execute_result"
    }
   ],
   "source": [
    "taxi_data['payment_type'].value_counts()"
   ]
  },
  {
   "cell_type": "markdown",
   "metadata": {},
   "source": [
    "**The counts show the frequency of each payment type:**\n",
    "\n",
    "* Credit Card (1): 15,265 trips, the most common payment method.\n",
    "* Cash (2): 7,267 trips, the second most frequent method.\n",
    "* No Charge (3): 121 trips, likely complimentary or promo rides.\n",
    "* Dispute (4): 46 trips, where payments were contested.( a \"dispute\" often means the payment is in question, and it might not be finalized until the issue is resolved.)\n",
    "\n",
    "Insights:\n",
    "    * Most trips are paid with credit cards, followed by cash.\n",
    "    * Rare scenarios like \"No Charge\" and \"Disputes\" might need further investigation."
   ]
  },
  {
   "cell_type": "code",
   "execution_count": 16,
   "metadata": {},
   "outputs": [
    {
     "data": {
      "text/html": [
       "<div>\n",
       "<style scoped>\n",
       "    .dataframe tbody tr th:only-of-type {\n",
       "        vertical-align: middle;\n",
       "    }\n",
       "\n",
       "    .dataframe tbody tr th {\n",
       "        vertical-align: top;\n",
       "    }\n",
       "\n",
       "    .dataframe thead th {\n",
       "        text-align: right;\n",
       "    }\n",
       "</style>\n",
       "<table border=\"1\" class=\"dataframe\">\n",
       "  <thead>\n",
       "    <tr style=\"text-align: right;\">\n",
       "      <th></th>\n",
       "      <th>VendorID</th>\n",
       "      <th>tpep_pickup_datetime</th>\n",
       "      <th>tpep_dropoff_datetime</th>\n",
       "      <th>passenger_count</th>\n",
       "      <th>trip_distance</th>\n",
       "      <th>RatecodeID</th>\n",
       "      <th>store_and_fwd_flag</th>\n",
       "      <th>PULocationID</th>\n",
       "      <th>DOLocationID</th>\n",
       "      <th>payment_type</th>\n",
       "      <th>fare_amount</th>\n",
       "      <th>extra</th>\n",
       "      <th>mta_tax</th>\n",
       "      <th>tip_amount</th>\n",
       "      <th>tolls_amount</th>\n",
       "      <th>improvement_surcharge</th>\n",
       "      <th>total_amount</th>\n",
       "    </tr>\n",
       "  </thead>\n",
       "  <tbody>\n",
       "    <tr>\n",
       "      <th>count</th>\n",
       "      <td>22699.000000</td>\n",
       "      <td>22699</td>\n",
       "      <td>22699</td>\n",
       "      <td>22699.000000</td>\n",
       "      <td>22699.000000</td>\n",
       "      <td>22699.000000</td>\n",
       "      <td>22699</td>\n",
       "      <td>22699.000000</td>\n",
       "      <td>22699.000000</td>\n",
       "      <td>22699.000000</td>\n",
       "      <td>22699.000000</td>\n",
       "      <td>22699.000000</td>\n",
       "      <td>22699.000000</td>\n",
       "      <td>22699.000000</td>\n",
       "      <td>22699.000000</td>\n",
       "      <td>22699.000000</td>\n",
       "      <td>22699.000000</td>\n",
       "    </tr>\n",
       "    <tr>\n",
       "      <th>unique</th>\n",
       "      <td>NaN</td>\n",
       "      <td>22687</td>\n",
       "      <td>22688</td>\n",
       "      <td>NaN</td>\n",
       "      <td>NaN</td>\n",
       "      <td>NaN</td>\n",
       "      <td>2</td>\n",
       "      <td>NaN</td>\n",
       "      <td>NaN</td>\n",
       "      <td>NaN</td>\n",
       "      <td>NaN</td>\n",
       "      <td>NaN</td>\n",
       "      <td>NaN</td>\n",
       "      <td>NaN</td>\n",
       "      <td>NaN</td>\n",
       "      <td>NaN</td>\n",
       "      <td>NaN</td>\n",
       "    </tr>\n",
       "    <tr>\n",
       "      <th>top</th>\n",
       "      <td>NaN</td>\n",
       "      <td>07/03/2017 3:45:19 PM</td>\n",
       "      <td>10/18/2017 8:07:45 PM</td>\n",
       "      <td>NaN</td>\n",
       "      <td>NaN</td>\n",
       "      <td>NaN</td>\n",
       "      <td>N</td>\n",
       "      <td>NaN</td>\n",
       "      <td>NaN</td>\n",
       "      <td>NaN</td>\n",
       "      <td>NaN</td>\n",
       "      <td>NaN</td>\n",
       "      <td>NaN</td>\n",
       "      <td>NaN</td>\n",
       "      <td>NaN</td>\n",
       "      <td>NaN</td>\n",
       "      <td>NaN</td>\n",
       "    </tr>\n",
       "    <tr>\n",
       "      <th>freq</th>\n",
       "      <td>NaN</td>\n",
       "      <td>2</td>\n",
       "      <td>2</td>\n",
       "      <td>NaN</td>\n",
       "      <td>NaN</td>\n",
       "      <td>NaN</td>\n",
       "      <td>22600</td>\n",
       "      <td>NaN</td>\n",
       "      <td>NaN</td>\n",
       "      <td>NaN</td>\n",
       "      <td>NaN</td>\n",
       "      <td>NaN</td>\n",
       "      <td>NaN</td>\n",
       "      <td>NaN</td>\n",
       "      <td>NaN</td>\n",
       "      <td>NaN</td>\n",
       "      <td>NaN</td>\n",
       "    </tr>\n",
       "    <tr>\n",
       "      <th>mean</th>\n",
       "      <td>1.556236</td>\n",
       "      <td>NaN</td>\n",
       "      <td>NaN</td>\n",
       "      <td>1.642319</td>\n",
       "      <td>2.913313</td>\n",
       "      <td>1.043394</td>\n",
       "      <td>NaN</td>\n",
       "      <td>162.412353</td>\n",
       "      <td>161.527997</td>\n",
       "      <td>1.336887</td>\n",
       "      <td>13.026629</td>\n",
       "      <td>0.333275</td>\n",
       "      <td>0.497445</td>\n",
       "      <td>1.835781</td>\n",
       "      <td>0.312542</td>\n",
       "      <td>0.299551</td>\n",
       "      <td>16.310502</td>\n",
       "    </tr>\n",
       "    <tr>\n",
       "      <th>std</th>\n",
       "      <td>0.496838</td>\n",
       "      <td>NaN</td>\n",
       "      <td>NaN</td>\n",
       "      <td>1.285231</td>\n",
       "      <td>3.653171</td>\n",
       "      <td>0.708391</td>\n",
       "      <td>NaN</td>\n",
       "      <td>66.633373</td>\n",
       "      <td>70.139691</td>\n",
       "      <td>0.496211</td>\n",
       "      <td>13.243791</td>\n",
       "      <td>0.463097</td>\n",
       "      <td>0.039465</td>\n",
       "      <td>2.800626</td>\n",
       "      <td>1.399212</td>\n",
       "      <td>0.015673</td>\n",
       "      <td>16.097295</td>\n",
       "    </tr>\n",
       "    <tr>\n",
       "      <th>min</th>\n",
       "      <td>1.000000</td>\n",
       "      <td>NaN</td>\n",
       "      <td>NaN</td>\n",
       "      <td>0.000000</td>\n",
       "      <td>0.000000</td>\n",
       "      <td>1.000000</td>\n",
       "      <td>NaN</td>\n",
       "      <td>1.000000</td>\n",
       "      <td>1.000000</td>\n",
       "      <td>1.000000</td>\n",
       "      <td>-120.000000</td>\n",
       "      <td>-1.000000</td>\n",
       "      <td>-0.500000</td>\n",
       "      <td>0.000000</td>\n",
       "      <td>0.000000</td>\n",
       "      <td>-0.300000</td>\n",
       "      <td>-120.300000</td>\n",
       "    </tr>\n",
       "    <tr>\n",
       "      <th>25%</th>\n",
       "      <td>1.000000</td>\n",
       "      <td>NaN</td>\n",
       "      <td>NaN</td>\n",
       "      <td>1.000000</td>\n",
       "      <td>0.990000</td>\n",
       "      <td>1.000000</td>\n",
       "      <td>NaN</td>\n",
       "      <td>114.000000</td>\n",
       "      <td>112.000000</td>\n",
       "      <td>1.000000</td>\n",
       "      <td>6.500000</td>\n",
       "      <td>0.000000</td>\n",
       "      <td>0.500000</td>\n",
       "      <td>0.000000</td>\n",
       "      <td>0.000000</td>\n",
       "      <td>0.300000</td>\n",
       "      <td>8.750000</td>\n",
       "    </tr>\n",
       "    <tr>\n",
       "      <th>50%</th>\n",
       "      <td>2.000000</td>\n",
       "      <td>NaN</td>\n",
       "      <td>NaN</td>\n",
       "      <td>1.000000</td>\n",
       "      <td>1.610000</td>\n",
       "      <td>1.000000</td>\n",
       "      <td>NaN</td>\n",
       "      <td>162.000000</td>\n",
       "      <td>162.000000</td>\n",
       "      <td>1.000000</td>\n",
       "      <td>9.500000</td>\n",
       "      <td>0.000000</td>\n",
       "      <td>0.500000</td>\n",
       "      <td>1.350000</td>\n",
       "      <td>0.000000</td>\n",
       "      <td>0.300000</td>\n",
       "      <td>11.800000</td>\n",
       "    </tr>\n",
       "    <tr>\n",
       "      <th>75%</th>\n",
       "      <td>2.000000</td>\n",
       "      <td>NaN</td>\n",
       "      <td>NaN</td>\n",
       "      <td>2.000000</td>\n",
       "      <td>3.060000</td>\n",
       "      <td>1.000000</td>\n",
       "      <td>NaN</td>\n",
       "      <td>233.000000</td>\n",
       "      <td>233.000000</td>\n",
       "      <td>2.000000</td>\n",
       "      <td>14.500000</td>\n",
       "      <td>0.500000</td>\n",
       "      <td>0.500000</td>\n",
       "      <td>2.450000</td>\n",
       "      <td>0.000000</td>\n",
       "      <td>0.300000</td>\n",
       "      <td>17.800000</td>\n",
       "    </tr>\n",
       "    <tr>\n",
       "      <th>max</th>\n",
       "      <td>2.000000</td>\n",
       "      <td>NaN</td>\n",
       "      <td>NaN</td>\n",
       "      <td>6.000000</td>\n",
       "      <td>33.960000</td>\n",
       "      <td>99.000000</td>\n",
       "      <td>NaN</td>\n",
       "      <td>265.000000</td>\n",
       "      <td>265.000000</td>\n",
       "      <td>4.000000</td>\n",
       "      <td>999.990000</td>\n",
       "      <td>4.500000</td>\n",
       "      <td>0.500000</td>\n",
       "      <td>200.000000</td>\n",
       "      <td>19.100000</td>\n",
       "      <td>0.300000</td>\n",
       "      <td>1200.290000</td>\n",
       "    </tr>\n",
       "  </tbody>\n",
       "</table>\n",
       "</div>"
      ],
      "text/plain": [
       "            VendorID   tpep_pickup_datetime  tpep_dropoff_datetime  \\\n",
       "count   22699.000000                  22699                  22699   \n",
       "unique           NaN                  22687                  22688   \n",
       "top              NaN  07/03/2017 3:45:19 PM  10/18/2017 8:07:45 PM   \n",
       "freq             NaN                      2                      2   \n",
       "mean        1.556236                    NaN                    NaN   \n",
       "std         0.496838                    NaN                    NaN   \n",
       "min         1.000000                    NaN                    NaN   \n",
       "25%         1.000000                    NaN                    NaN   \n",
       "50%         2.000000                    NaN                    NaN   \n",
       "75%         2.000000                    NaN                    NaN   \n",
       "max         2.000000                    NaN                    NaN   \n",
       "\n",
       "        passenger_count  trip_distance    RatecodeID store_and_fwd_flag  \\\n",
       "count      22699.000000   22699.000000  22699.000000              22699   \n",
       "unique              NaN            NaN           NaN                  2   \n",
       "top                 NaN            NaN           NaN                  N   \n",
       "freq                NaN            NaN           NaN              22600   \n",
       "mean           1.642319       2.913313      1.043394                NaN   \n",
       "std            1.285231       3.653171      0.708391                NaN   \n",
       "min            0.000000       0.000000      1.000000                NaN   \n",
       "25%            1.000000       0.990000      1.000000                NaN   \n",
       "50%            1.000000       1.610000      1.000000                NaN   \n",
       "75%            2.000000       3.060000      1.000000                NaN   \n",
       "max            6.000000      33.960000     99.000000                NaN   \n",
       "\n",
       "        PULocationID  DOLocationID  payment_type   fare_amount         extra  \\\n",
       "count   22699.000000  22699.000000  22699.000000  22699.000000  22699.000000   \n",
       "unique           NaN           NaN           NaN           NaN           NaN   \n",
       "top              NaN           NaN           NaN           NaN           NaN   \n",
       "freq             NaN           NaN           NaN           NaN           NaN   \n",
       "mean      162.412353    161.527997      1.336887     13.026629      0.333275   \n",
       "std        66.633373     70.139691      0.496211     13.243791      0.463097   \n",
       "min         1.000000      1.000000      1.000000   -120.000000     -1.000000   \n",
       "25%       114.000000    112.000000      1.000000      6.500000      0.000000   \n",
       "50%       162.000000    162.000000      1.000000      9.500000      0.000000   \n",
       "75%       233.000000    233.000000      2.000000     14.500000      0.500000   \n",
       "max       265.000000    265.000000      4.000000    999.990000      4.500000   \n",
       "\n",
       "             mta_tax    tip_amount  tolls_amount  improvement_surcharge  \\\n",
       "count   22699.000000  22699.000000  22699.000000           22699.000000   \n",
       "unique           NaN           NaN           NaN                    NaN   \n",
       "top              NaN           NaN           NaN                    NaN   \n",
       "freq             NaN           NaN           NaN                    NaN   \n",
       "mean        0.497445      1.835781      0.312542               0.299551   \n",
       "std         0.039465      2.800626      1.399212               0.015673   \n",
       "min        -0.500000      0.000000      0.000000              -0.300000   \n",
       "25%         0.500000      0.000000      0.000000               0.300000   \n",
       "50%         0.500000      1.350000      0.000000               0.300000   \n",
       "75%         0.500000      2.450000      0.000000               0.300000   \n",
       "max         0.500000    200.000000     19.100000               0.300000   \n",
       "\n",
       "        total_amount  \n",
       "count   22699.000000  \n",
       "unique           NaN  \n",
       "top              NaN  \n",
       "freq             NaN  \n",
       "mean       16.310502  \n",
       "std        16.097295  \n",
       "min      -120.300000  \n",
       "25%         8.750000  \n",
       "50%        11.800000  \n",
       "75%        17.800000  \n",
       "max      1200.290000  "
      ]
     },
     "execution_count": 16,
     "metadata": {},
     "output_type": "execute_result"
    }
   ],
   "source": [
    "taxi_data.describe(include='all')"
   ]
  },
  {
   "cell_type": "markdown",
   "metadata": {
    "id": "-fFiNg4hdGBK"
   },
   "source": [
    "**You are interested in the relationship between payment type and the fare amount the customer pays.** One approach is to look at the average fare amount for each payment type. "
   ]
  },
  {
   "cell_type": "code",
   "execution_count": 18,
   "metadata": {
    "id": "2LGEWrdVXgI2"
   },
   "outputs": [
    {
     "data": {
      "text/plain": [
       "payment_type\n",
       "1    13.429748\n",
       "2    12.213546\n",
       "3    12.186116\n",
       "4     9.913043\n",
       "Name: fare_amount, dtype: float64"
      ]
     },
     "execution_count": 18,
     "metadata": {},
     "output_type": "execute_result"
    }
   ],
   "source": [
    "taxi_data.groupby('payment_type')['fare_amount'].mean()"
   ]
  },
  {
   "cell_type": "markdown",
   "metadata": {
    "id": "Z_u-zWvGdfII"
   },
   "source": [
    "* The dataset represents a sample of yellow taxi trips taken in 2017, not every trip in New York City. As a result, the difference observed between fare amounts for credit card and cash payments may be due to random sampling, rather than reflecting a true difference across all trips.\n",
    "\n",
    "* Based on the averages, customers who pay with a credit card tend to have slightly higher fare amounts compared to those paying with cash. However, this difference might not be significant—it could simply be a result of the sample selected.\n",
    "\n",
    "* To determine whether this difference is statistically significant and not just a random finding, a hypothesis test is needed. The test will help assess whether the observed difference is large enough to be considered meaningful or if it could simply be attributed to chance within the sample. Even a small difference could have practical significance, but conducting the hypothesis test will confirm whether this difference holds true beyond just this sample of data\n"
   ]
  },
  {
   "cell_type": "markdown",
   "metadata": {
    "id": "QpFRQDaNzX6p"
   },
   "source": [
    "\n",
    "### Task 3. Hypothesis testing\n",
    "\n",
    "Before you conduct your hypothesis test, consider the following questions where applicable to complete your code response:\n",
    "\n",
    "1. Recall the difference between the null hypothesis and the alternative hypotheses. Consider your hypotheses for this project as listed below.\n",
    "\n",
    "$H_0$: There is no difference in the average fare amount between customers who use credit cards and customers who use cash.\n",
    "\n",
    "$H_A$: There is a difference in the average fare amount between customers who use credit cards and customers who use cash."
   ]
  },
  {
   "cell_type": "markdown",
   "metadata": {
    "id": "7Mn5GJ460HUS"
   },
   "source": [
    "\n",
    "\n",
    "Your goal in this step is to conduct a two-sample t-test. Recall the steps for conducting a hypothesis test: \n",
    "\n",
    "\n",
    "1.   State the null hypothesis and the alternative hypothesis\n",
    "2.   Choose a signficance level\n",
    "3.   Find the p-value\n",
    "4.   Reject or fail to reject the null hypothesis \n",
    "\n"
   ]
  },
  {
   "cell_type": "markdown",
   "metadata": {
    "id": "leLgy_x_hKgA"
   },
   "source": [
    "**Note:** For the purpose of this exercise, your hypothesis test is the main component of your A/B test. "
   ]
  },
  {
   "cell_type": "markdown",
   "metadata": {
    "id": "IVHpnfvNeTUA"
   },
   "source": [
    "You choose 5% as the significance level and proceed with a two-sample t-test."
   ]
  },
  {
   "cell_type": "code",
   "execution_count": 21,
   "metadata": {
    "id": "rdlsXg7Dhbrd",
    "scrolled": true
   },
   "outputs": [
    {
     "data": {
      "text/plain": [
       "Ttest_indResult(statistic=6.866800855655372, pvalue=6.797387473030518e-12)"
      ]
     },
     "execution_count": 21,
     "metadata": {},
     "output_type": "execute_result"
    }
   ],
   "source": [
    "#hypothesis test, A/B test\n",
    "#significance level\n",
    "credit_card = taxi_data[taxi_data['payment_type']==1]['fare_amount']\n",
    "cash = taxi_data[taxi_data['payment_type']==2]['fare_amount']\n",
    "stats.ttest_ind(a=credit_card,b=cash,equal_var= False)"
   ]
  },
  {
   "cell_type": "markdown",
   "metadata": {},
   "source": [
    "* The pvalue 6.797387473030518e-12 is a very small number written in scientific notation, equivalent to 0.000000000006797387473030518.It is significantly smaller than the significance level of 5%, we reject the null hypothesis.\n",
    "\n",
    "* We conclude that there is a statistically significant difference in the average fare amount between customers who use credit cards and customers who use cash."
   ]
  },
  {
   "cell_type": "markdown",
   "metadata": {
    "id": "Ab4e-W3mzX6r"
   },
   "source": [
    "<img src=\"images/Execute.png\" width=\"100\" height=\"100\" align=left>\n",
    "\n",
    "## PACE: **Execute**\n",
    "\n",
    "Consider the questions in your PACE Strategy Document to reflect on the Execute stage."
   ]
  },
  {
   "cell_type": "markdown",
   "metadata": {
    "id": "h1PRfiD3hcwE"
   },
   "source": [
    "### Task 4. Communicate insights with stakeholders"
   ]
  },
  {
   "cell_type": "markdown",
   "metadata": {
    "id": "ItreFaZKhvVw"
   },
   "source": [
    "*Ask yourself the following questions:*\n",
    "\n",
    "1. What business insight(s) can you draw from the result of your hypothesis test?\n",
    "\n",
    "* The key business insight is that encouraging customers to pay with credit cards can generate more revenue for taxi cab drivers.\n",
    "\n",
    "2. Consider why this A/B test project might not be realistic, and what assumptions had to be made for this educational project.\n",
    "\n",
    "* In an A/B test, the groups need to be randomly selected to make sure the results are fair and unbiased. However, in this scenario, the dataset doesn't reflect a real-world experiment where people were randomly assigned to use either cash or credit card for payment. The claim in the project is that, for the sake of the A/B test, the riders were randomly grouped into two categories (cash vs. credit card), and they were told to pay using one method. In reality, though, passengers don’t usually get told how to pay; they choose based on their own preferences and what they have available (e.g., cash or card). Some people might not carry enough cash, so they have to pay by card. So, the assumption made here is that everyone was randomly assigned, which isn’t actually how payment methods work in real life."
   ]
  },
  {
   "cell_type": "markdown",
   "metadata": {},
   "source": [
    "==> ENTER YOUR RESPONSE HERE "
   ]
  },
  {
   "cell_type": "markdown",
   "metadata": {},
   "source": [
    "**Congratulations!** You've completed this lab. However, you may not notice a green check mark next to this item on Coursera's platform. Please continue your progress regardless of the check mark. Just click on the \"save\" icon at the top of this notebook to ensure your work has been logged."
   ]
  }
 ],
 "metadata": {
  "colab": {
   "collapsed_sections": [],
   "provenance": []
  },
  "kernelspec": {
   "display_name": "Python 3 (ipykernel)",
   "language": "python",
   "name": "python3"
  },
  "language_info": {
   "codemirror_mode": {
    "name": "ipython",
    "version": 3
   },
   "file_extension": ".py",
   "mimetype": "text/x-python",
   "name": "python",
   "nbconvert_exporter": "python",
   "pygments_lexer": "ipython3",
   "version": "3.10.15"
  }
 },
 "nbformat": 4,
 "nbformat_minor": 4
}
